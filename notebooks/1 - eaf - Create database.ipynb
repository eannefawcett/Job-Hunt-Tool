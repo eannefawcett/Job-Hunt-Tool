{
 "cells": [
  {
   "cell_type": "markdown",
   "metadata": {},
   "source": [
    "# Obtain"
   ]
  },
  {
   "cell_type": "markdown",
   "metadata": {},
   "source": [
    "## Import Libraries"
   ]
  },
  {
   "cell_type": "code",
   "execution_count": 1,
   "metadata": {},
   "outputs": [],
   "source": [
    "import pymongo"
   ]
  },
  {
   "cell_type": "markdown",
   "metadata": {},
   "source": [
    "## Initialize Contact with Database"
   ]
  },
  {
   "cell_type": "code",
   "execution_count": 4,
   "metadata": {},
   "outputs": [],
   "source": [
    "myclient = pymongo.MongoClient(\"mongodb://127.0.0.1:27017/\")\n",
    "mydb = myclient['computer_and_information_research_scientists']"
   ]
  },
  {
   "cell_type": "code",
   "execution_count": 5,
   "metadata": {},
   "outputs": [
    {
     "name": "stdout",
     "output_type": "stream",
     "text": [
      "['admin', 'config', 'example_database', 'local', 'test']\n"
     ]
    }
   ],
   "source": [
    "print(myclient.list_database_names())"
   ]
  },
  {
   "cell_type": "markdown",
   "metadata": {},
   "source": [
    "## Add Information to Database"
   ]
  },
  {
   "cell_type": "markdown",
   "metadata": {
    "heading_collapsed": true
   },
   "source": [
    "### Work Activities"
   ]
  },
  {
   "cell_type": "code",
   "execution_count": 15,
   "metadata": {
    "hidden": true
   },
   "outputs": [],
   "source": [
    "waCollection = mydb['Work_Activities']"
   ]
  },
  {
   "cell_type": "code",
   "execution_count": 8,
   "metadata": {
    "hidden": true
   },
   "outputs": [
    {
     "data": {
      "text/plain": [
       "<pymongo.results.InsertOneResult at 0x1e3fd9c4bc8>"
      ]
     },
     "execution_count": 8,
     "metadata": {},
     "output_type": "execute_result"
    }
   ],
   "source": [
    "wac_one = {'Work Activity': 'Interacting With Computers', \n",
    "             'Work Activity Description': 'Using computers and computer systems (including hardware and software) to program, write software, set up functions, enter data, or process information.',\n",
    "             'Rank by Importance': 99}\n",
    "\n",
    "results = waCollection.insert_one(entry_one)\n",
    "results"
   ]
  },
  {
   "cell_type": "code",
   "execution_count": 9,
   "metadata": {
    "hidden": true
   },
   "outputs": [
    {
     "data": {
      "text/plain": [
       "ObjectId('5f73a385ec9782c79f7f8bca')"
      ]
     },
     "execution_count": 9,
     "metadata": {},
     "output_type": "execute_result"
    }
   ],
   "source": [
    "results.inserted_id"
   ]
  },
  {
   "cell_type": "code",
   "execution_count": 17,
   "metadata": {
    "hidden": true
   },
   "outputs": [],
   "source": [
    "wac_02 = {'Work Activity': 'Making Decisions and Solving Problems', \n",
    "          'Work Activity Description': 'Analyzing information and evaluating results to choose the best solution and solve problems.',\n",
    "          'Rank by Importance': 91}\n",
    "wac_03 = {'Work Activity': 'Getting Information', \n",
    "          'Work Activity Description': 'Observing, receiving, and otherwise obtaining information from all relevant sources.',\n",
    "          'Rank by Importance': 91}\n",
    "wac_04 = {'Work Activity': 'Updating and Using Relevant Knowledge', \n",
    "          'Work Activity Description': 'Keeping up-to-date technically and applying new knowledge to your job.',\n",
    "          'Rank by Importance': 89}\n",
    "wac_05 = {'Work Activity': 'Analyzing Data or Information', \n",
    "          'Work Activity Description': 'Identifying the underlying principles, reasons, or facts of information by breaking down information or data into separate parts.',\n",
    "          'Rank by Importance': 89}\n",
    "wac_06 = {'Work Activity': 'Thinking Creatively', \n",
    "          'Work Activity Description': 'Developing, designing, or creating new applications, ideas, relationships, systems, or products, including artistic contributions.',\n",
    "          'Rank by Importance': 88}\n",
    "wac_07 = {'Work Activity': 'Documenting/Recording Information', \n",
    "          'Work Activity Description': 'Entering, transcribing, recording, storing, or maintaining information in written or electronic/magnetic form.',\n",
    "          'Rank by Importance': 84}\n",
    "wac_08 = {'Work Activity': 'Processing Information', \n",
    "          'Work Activity Description': 'Compiling, coding, categorizing, calculating, tabulating, auditing, or verifying information or data.',\n",
    "          'Rank by Importance': 83}\n",
    "wac_09 = {'Work Activity': 'Identifying Objects, Actions, and Events', \n",
    "          'Work Activity Description': 'Identifying information by categorizing, estimating, recognizing differences or similarities, and detecting changes in circumstances or events.',\n",
    "          'Rank by Importance': 83}\n",
    "wac_10 = {'Work Activity': 'Communicating with Supervisors, Peers, or Subordinates', \n",
    "          'Work Activity Description': 'Providing information to supervisors, co-workers, and subordinates by telephone, in written form, e-mail, or in person.',\n",
    "          'Rank by Importance': 83}\n",
    "wac_11 = {'Work Activity': 'Interpreting the Meaning of Information for Others', \n",
    "          'Work Activity Description': 'Translating or explaining what information means and how it can be used.',\n",
    "          'Rank by Importance': 82}\n",
    "wac_12 = {'Work Activity': 'Communicating with Persons Outside Organization', \n",
    "          'Work Activity Description': 'Communicating with people outside the organization, representing the organization to customers, the public, government, and other external sources. This information can be exchanged in person, in writing, or by telephone or e-mail.',\n",
    "          'Rank by Importance': 81}\n",
    "wac_13 = {'Work Activity': 'Estimating the Quantifiable Characteristics of Products, Events, or Information', \n",
    "          'Work Activity Description': 'Estimating sizes, distances, and quantities; or determining time, costs, resources, or materials needed to perform a work activity.',\n",
    "          'Rank by Importance': 80}\n",
    "wac_14 = {'Work Activity': 'Establishing and Maintaining Interpersonal Relationships', \n",
    "          'Work Activity Description': 'Developing constructive and cooperative working relationships with others, and maintaining them over time.',\n",
    "          'Rank by Importance': 69}\n",
    "wac_15 = {'Work Activity': 'Developing Objectives and Strategies', \n",
    "          'Work Activity Description': 'Establishing long-range objectives and specifying the strategies and actions to achieve them.',\n",
    "          'Rank by Importance': 68}\n",
    "wac_16 = {'Work Activity': 'Organizing, Planning, and Prioritizing Work', \n",
    "          'Work Activity Description': 'Developing specific goals and plans to prioritize, organize, and accomplish your work.',\n",
    "          'Rank by Importance': 67}\n",
    "wac_17 = {'Work Activity': 'Judging the Qualities of Things, Services, or People', \n",
    "          'Work Activity Description': 'Assessing the value, importance, or quality of things or people.',\n",
    "          'Rank by Importance': 64}\n",
    "wac_18 = {'Work Activity': 'Evaluating Information to Determine Compliance with Standards', \n",
    "          'Work Activity Description': 'Using relevant information and individual judgment to determine whether events or processes comply with laws, regulations, or standards.',\n",
    "          'Rank by Importance': 64}\n",
    "wac_19 = {'Work Activity': 'Scheduling Work and Activities', \n",
    "          'Work Activity Description': 'Scheduling events, programs, and activities, as well as the work of others.',\n",
    "          'Rank by Importance': 60}\n",
    "wac_20 = {'Work Activity': 'Provide Consultation and Advice to Others', \n",
    "          'Work Activity Description': 'Providing guidance and expert advice to management or other groups on technical, systems-, or process-related topics.',\n",
    "          'Rank by Importance': 57}\n",
    "wac_21 = {'Work Activity': 'Training and Teaching Others', \n",
    "          'Work Activity Description': 'Identifying the educational needs of others, developing formal educational or training programs or classes, and teaching or instructing others.',\n",
    "          'Rank by Importance': 55}\n",
    "wac_22 = {'Work Activity': 'Monitor Processes, Materials, or Surroundings', \n",
    "          'Work Activity Description': 'Monitoring and reviewing information from materials, events, or the environment, to detect or assess problems.',\n",
    "          'Rank by Importance': 51}\n",
    "wac_23 = {'Work Activity': 'Developing and Building Teams', \n",
    "          'Work Activity Description': 'Encouraging and building mutual trust, respect, and cooperation among team members.',\n",
    "          'Rank by Importance': 47}\n",
    "wac_24 = {'Work Activity': 'Resolving Conflicts and Negotiating with Others', \n",
    "          'Work Activity Description': 'Handling complaints, settling disputes, and resolving grievances and conflicts, or otherwise negotiating with others.',\n",
    "          'Rank by Importance': 46}\n",
    "wac_25 = {'Work Activity': 'Coordinating the Work and Activities of Others', \n",
    "          'Work Activity Description': 'Getting members of a group to work together to accomplish tasks.',\n",
    "          'Rank by Importance': 46}\n",
    "wac_26 = {'Work Activity': 'Monitoring and Controlling Resources', \n",
    "          'Work Activity Description': 'Monitoring and controlling resources and overseeing the spending of money.',\n",
    "          'Rank by Importance': 43}\n",
    "wac_27 = {'Work Activity': 'Inspecting Equipment, Structures, or Material', \n",
    "          'Work Activity Description': 'Inspecting equipment, structures, or materials to identify the cause of errors or other problems or defects.',\n",
    "          'Rank by Importance': 42}\n",
    "wac_28 = {'Work Activity': 'Guiding, Directing, and Motivating Subordinates', \n",
    "          'Work Activity Description': 'Providing guidance and direction to subordinates, including setting performance standards and monitoring performance.',\n",
    "          'Rank by Importance': 41}\n",
    "wac_29 = {'Work Activity': 'Preforming Administrative Activities', \n",
    "          'Work Activity Description': 'Performing day-to-day administrative tasks such as maintaining information files and processing paperwork.',\n",
    "          'Rank by Importance': 38}\n",
    "wac_30 = {'Work Activity': 'Controlling Machines and Processes', \n",
    "          'Work Activity Description': 'Using either control mechanisms or direct physical activity to operate machines or processes (not including computers or vehicles).',\n",
    "          'Rank by Importance': 36}\n",
    "wac_31 = {'Work Activity': 'Coaching and Developing Others', \n",
    "          'Work Activity Description': 'Identifying the developmental needs of others and coaching, mentoring, or otherwise helping others to improve their knowledge or skills.',\n",
    "          'Rank by Importance': 33}\n",
    "wac_32 = {'Work Activity': 'Repairing and Maintaining Electronic Equipment', \n",
    "          'Work Activity Description': 'Servicing, repairing, calibrating, regulating, fine-tuning, or testing machines, devices, and equipment that operate primarily on the basis of electrical or electronic (not mechanical) principles.',\n",
    "          'Rank by Importance': 31}\n",
    "wac_33 = {'Work Activity': 'Selling or Influencing Others', \n",
    "          'Work Activity Description': 'Convincing others to buy merchandise/goods or to otherwise change their minds or actions.',\n",
    "          'Rank by Importance': 31}\n",
    "wac_34 = {'Work Activity': 'Staffing Organizational Units', \n",
    "          'Work Activity Description': 'Recruiting, interviewing, selecting, hiring, and promoting employees in an organization.',\n",
    "          'Rank by Importance': 31}\n",
    "wac_35 = {'Work Activity': 'Assisting and Caring for Others', \n",
    "          'Work Activity Description': 'Providing personal assistance, medical attention, emotional support, or other personal care to others such as coworkers, customers, or patients.',\n",
    "          'Rank by Importance': 30}\n",
    "wac_36 = {'Work Activity': 'Drafting, Laying Out, and Specifying Technical Devices, Parts, and Equipment', \n",
    "          'Work Activity Description': 'Providing documentation, detailed instructions, drawings, or specifications to tell others about how devices, parts, equipment, or structures are to be fabricated, constructed, assembled, modified, maintained, or used.',\n",
    "          'Rank by Importance': 29}\n",
    "wac_37 = {'Work Activity': 'Performing for or Working Directly with the Public', \n",
    "          'Work Activity Description': 'Performing for people or dealing directly with the public. This includes serving customers in restaurants and stores, and receiving clients or guests.',\n",
    "          'Rank by Importance': 24}\n",
    "wac_38 = {'Work Activity': 'Performing General Physical Activities', \n",
    "          'Work Activity Description': 'Performing physical activities that require considerable use of your arms and legs and moving your whole body, such as climbing, lifting, balancing, walking, stooping, and handling of materials.',\n",
    "          'Rank by Importance': 20}\n",
    "wac_39 = {'Work Activity': 'Repairing and Maintaining Mechanical Equipment', \n",
    "          'Work Activity Description': 'Servicing, repairing, adjusting, and testing machines, devices, moving parts, and equipment that operate primarily on the basis of mechanical (not electronic) principles.',\n",
    "          'Rank by Importance': 19}"
   ]
  },
  {
   "cell_type": "code",
   "execution_count": 18,
   "metadata": {
    "hidden": true
   },
   "outputs": [],
   "source": [
    "list_of_wac_entries = [wac_02, wac_03, wac_04, wac_05, wac_06, wac_07, wac_08, wac_09, wac_10, wac_11, wac_12, wac_13, \n",
    "                       wac_14, wac_15, wac_16, wac_17, wac_18, wac_19, wac_20, wac_21, wac_22, wac_23, wac_24, wac_25, \n",
    "                       wac_26, wac_27, wac_28, wac_29, wac_30, wac_31, wac_32, wac_33, wac_34, wac_35, wac_36, wac_37, \n",
    "                       wac_38, wac_39]"
   ]
  },
  {
   "cell_type": "code",
   "execution_count": 19,
   "metadata": {
    "hidden": true
   },
   "outputs": [],
   "source": [
    "results_2 = waCollection.insert_many(list_of_wac_entries)"
   ]
  },
  {
   "cell_type": "code",
   "execution_count": 20,
   "metadata": {
    "hidden": true
   },
   "outputs": [
    {
     "data": {
      "text/plain": [
       "[ObjectId('5f73c66eec9782c79f7f8bcb'),\n",
       " ObjectId('5f73c66eec9782c79f7f8bcc'),\n",
       " ObjectId('5f73c66eec9782c79f7f8bcd'),\n",
       " ObjectId('5f73c66eec9782c79f7f8bce'),\n",
       " ObjectId('5f73c66eec9782c79f7f8bcf'),\n",
       " ObjectId('5f73c66eec9782c79f7f8bd0'),\n",
       " ObjectId('5f73c66eec9782c79f7f8bd1'),\n",
       " ObjectId('5f73c66eec9782c79f7f8bd2'),\n",
       " ObjectId('5f73c66eec9782c79f7f8bd3'),\n",
       " ObjectId('5f73c66eec9782c79f7f8bd4'),\n",
       " ObjectId('5f73c66eec9782c79f7f8bd5'),\n",
       " ObjectId('5f73c66eec9782c79f7f8bd6'),\n",
       " ObjectId('5f73c66eec9782c79f7f8bd7'),\n",
       " ObjectId('5f73c66eec9782c79f7f8bd8'),\n",
       " ObjectId('5f73c66eec9782c79f7f8bd9'),\n",
       " ObjectId('5f73c66eec9782c79f7f8bda'),\n",
       " ObjectId('5f73c66eec9782c79f7f8bdb'),\n",
       " ObjectId('5f73c66eec9782c79f7f8bdc'),\n",
       " ObjectId('5f73c66eec9782c79f7f8bdd'),\n",
       " ObjectId('5f73c66eec9782c79f7f8bde'),\n",
       " ObjectId('5f73c66eec9782c79f7f8bdf'),\n",
       " ObjectId('5f73c66eec9782c79f7f8be0'),\n",
       " ObjectId('5f73c66eec9782c79f7f8be1'),\n",
       " ObjectId('5f73c66eec9782c79f7f8be2'),\n",
       " ObjectId('5f73c66eec9782c79f7f8be3'),\n",
       " ObjectId('5f73c66eec9782c79f7f8be4'),\n",
       " ObjectId('5f73c66eec9782c79f7f8be5'),\n",
       " ObjectId('5f73c66eec9782c79f7f8be6'),\n",
       " ObjectId('5f73c66eec9782c79f7f8be7'),\n",
       " ObjectId('5f73c66eec9782c79f7f8be8'),\n",
       " ObjectId('5f73c66eec9782c79f7f8be9'),\n",
       " ObjectId('5f73c66eec9782c79f7f8bea'),\n",
       " ObjectId('5f73c66eec9782c79f7f8beb'),\n",
       " ObjectId('5f73c66eec9782c79f7f8bec'),\n",
       " ObjectId('5f73c66eec9782c79f7f8bed'),\n",
       " ObjectId('5f73c66eec9782c79f7f8bee'),\n",
       " ObjectId('5f73c66eec9782c79f7f8bef'),\n",
       " ObjectId('5f73c66eec9782c79f7f8bf0')]"
      ]
     },
     "execution_count": 20,
     "metadata": {},
     "output_type": "execute_result"
    }
   ],
   "source": [
    "results_2.inserted_ids"
   ]
  },
  {
   "cell_type": "code",
   "execution_count": 21,
   "metadata": {
    "hidden": true
   },
   "outputs": [
    {
     "name": "stdout",
     "output_type": "stream",
     "text": [
      "{'_id': ObjectId('5f73a385ec9782c79f7f8bca'), 'Work Activity': 'Interacting With Computers', 'Work Activity Description': 'Using computers and computer systems (including hardware and software) to program, write software, set up functions, enter data, or process information.', 'Rank by Importance': 99}\n",
      "{'_id': ObjectId('5f73c66eec9782c79f7f8bcb'), 'Work Activity': 'Making Decisions and Solving Problems', 'Work Activity Description': 'Analyzing information and evaluating results to choose the best solution and solve problems.', 'Rank by Importance': 91}\n",
      "{'_id': ObjectId('5f73c66eec9782c79f7f8bcc'), 'Work Activity': 'Getting Information', 'Work Activity Description': 'Observing, receiving, and otherwise obtaining information from all relevant sources.', 'Rank by Importance': 91}\n",
      "{'_id': ObjectId('5f73c66eec9782c79f7f8bcd'), 'Work Activity': 'Updating and Using Relevant Knowledge', 'Work Activity Description': 'Keeping up-to-date technically and applying new knowledge to your job.', 'Rank by Importance': 89}\n",
      "{'_id': ObjectId('5f73c66eec9782c79f7f8bce'), 'Work Activity': 'Analyzing Data or Information', 'Work Activity Description': 'Identifying the underlying principles, reasons, or facts of information by breaking down information or data into separate parts.', 'Rank by Importance': 89}\n",
      "{'_id': ObjectId('5f73c66eec9782c79f7f8bcf'), 'Work Activity': 'Thinking Creatively', 'Work Activity Description': 'Developing, designing, or creating new applications, ideas, relationships, systems, or products, including artistic contributions.', 'Rank by Importance': 88}\n",
      "{'_id': ObjectId('5f73c66eec9782c79f7f8bd0'), 'Work Activity': 'Documenting/Recording Information', 'Work Activity Description': 'Entering, transcribing, recording, storing, or maintaining information in written or electronic/magnetic form.', 'Rank by Importance': 84}\n",
      "{'_id': ObjectId('5f73c66eec9782c79f7f8bd1'), 'Work Activity': 'Processing Information', 'Work Activity Description': 'Compiling, coding, categorizing, calculating, tabulating, auditing, or verifying information or data.', 'Rank by Importance': 83}\n",
      "{'_id': ObjectId('5f73c66eec9782c79f7f8bd2'), 'Work Activity': 'Identifying Objects, Actions, and Events', 'Work Activity Description': 'Identifying information by categorizing, estimating, recognizing differences or similarities, and detecting changes in circumstances or events.', 'Rank by Importance': 83}\n",
      "{'_id': ObjectId('5f73c66eec9782c79f7f8bd3'), 'Work Activity': 'Communicating with Supervisors, Peers, or Subordinates', 'Work Activity Description': 'Providing information to supervisors, co-workers, and subordinates by telephone, in written form, e-mail, or in person.', 'Rank by Importance': 83}\n",
      "{'_id': ObjectId('5f73c66eec9782c79f7f8bd4'), 'Work Activity': 'Interpreting the Meaning of Information for Others', 'Work Activity Description': 'Translating or explaining what information means and how it can be used.', 'Rank by Importance': 82}\n",
      "{'_id': ObjectId('5f73c66eec9782c79f7f8bd5'), 'Work Activity': 'Communicating with Persons Outside Organization', 'Work Activity Description': 'Communicating with people outside the organization, representing the organization to customers, the public, government, and other external sources. This information can be exchanged in person, in writing, or by telephone or e-mail.', 'Rank by Importance': 81}\n",
      "{'_id': ObjectId('5f73c66eec9782c79f7f8bd6'), 'Work Activity': 'Estimating the Quantifiable Characteristics of Products, Events, or Information', 'Work Activity Description': 'Estimating sizes, distances, and quantities; or determining time, costs, resources, or materials needed to perform a work activity.', 'Rank by Importance': 80}\n",
      "{'_id': ObjectId('5f73c66eec9782c79f7f8bd7'), 'Work Activity': 'Establishing and Maintaining Interpersonal Relationships', 'Work Activity Description': 'Developing constructive and cooperative working relationships with others, and maintaining them over time.', 'Rank by Importance': 69}\n",
      "{'_id': ObjectId('5f73c66eec9782c79f7f8bd8'), 'Work Activity': 'Developing Objectives and Strategies', 'Work Activity Description': 'Establishing long-range objectives and specifying the strategies and actions to achieve them.', 'Rank by Importance': 68}\n",
      "{'_id': ObjectId('5f73c66eec9782c79f7f8bd9'), 'Work Activity': 'Organizing, Planning, and Prioritizing Work', 'Work Activity Description': 'Developing specific goals and plans to prioritize, organize, and accomplish your work.', 'Rank by Importance': 67}\n",
      "{'_id': ObjectId('5f73c66eec9782c79f7f8bda'), 'Work Activity': 'Judging the Qualities of Things, Services, or People', 'Work Activity Description': 'Assessing the value, importance, or quality of things or people.', 'Rank by Importance': 64}\n",
      "{'_id': ObjectId('5f73c66eec9782c79f7f8bdb'), 'Work Activity': 'Evaluating Information to Determine Compliance with Standards', 'Work Activity Description': 'Using relevant information and individual judgment to determine whether events or processes comply with laws, regulations, or standards.', 'Rank by Importance': 64}\n",
      "{'_id': ObjectId('5f73c66eec9782c79f7f8bdc'), 'Work Activity': 'Scheduling Work and Activities', 'Work Activity Description': 'Scheduling events, programs, and activities, as well as the work of others.', 'Rank by Importance': 60}\n",
      "{'_id': ObjectId('5f73c66eec9782c79f7f8bdd'), 'Work Activity': 'Provide Consultation and Advice to Others', 'Work Activity Description': 'Providing guidance and expert advice to management or other groups on technical, systems-, or process-related topics.', 'Rank by Importance': 57}\n",
      "{'_id': ObjectId('5f73c66eec9782c79f7f8bde'), 'Work Activity': 'Training and Teaching Others', 'Work Activity Description': 'Identifying the educational needs of others, developing formal educational or training programs or classes, and teaching or instructing others.', 'Rank by Importance': 55}\n",
      "{'_id': ObjectId('5f73c66eec9782c79f7f8bdf'), 'Work Activity': 'Monitor Processes, Materials, or Surroundings', 'Work Activity Description': 'Monitoring and reviewing information from materials, events, or the environment, to detect or assess problems.', 'Rank by Importance': 51}\n",
      "{'_id': ObjectId('5f73c66eec9782c79f7f8be0'), 'Work Activity': 'Developing and Building Teams', 'Work Activity Description': 'Encouraging and building mutual trust, respect, and cooperation among team members.', 'Rank by Importance': 47}\n",
      "{'_id': ObjectId('5f73c66eec9782c79f7f8be1'), 'Work Activity': 'Resolving Conflicts and Negotiating with Others', 'Work Activity Description': 'Handling complaints, settling disputes, and resolving grievances and conflicts, or otherwise negotiating with others.', 'Rank by Importance': 46}\n",
      "{'_id': ObjectId('5f73c66eec9782c79f7f8be2'), 'Work Activity': 'Coordinating the Work and Activities of Others', 'Work Activity Description': 'Getting members of a group to work together to accomplish tasks.', 'Rank by Importance': 46}\n",
      "{'_id': ObjectId('5f73c66eec9782c79f7f8be3'), 'Work Activity': 'Monitoring and Controlling Resources', 'Work Activity Description': 'Monitoring and controlling resources and overseeing the spending of money.', 'Rank by Importance': 43}\n",
      "{'_id': ObjectId('5f73c66eec9782c79f7f8be4'), 'Work Activity': 'Inspecting Equipment, Structures, or Material', 'Work Activity Description': 'Inspecting equipment, structures, or materials to identify the cause of errors or other problems or defects.', 'Rank by Importance': 42}\n",
      "{'_id': ObjectId('5f73c66eec9782c79f7f8be5'), 'Work Activity': 'Guiding, Directing, and Motivating Subordinates', 'Work Activity Description': 'Providing guidance and direction to subordinates, including setting performance standards and monitoring performance.', 'Rank by Importance': 41}\n",
      "{'_id': ObjectId('5f73c66eec9782c79f7f8be6'), 'Work Activity': 'Preforming Administrative Activities', 'Work Activity Description': 'Performing day-to-day administrative tasks such as maintaining information files and processing paperwork.', 'Rank by Importance': 38}\n",
      "{'_id': ObjectId('5f73c66eec9782c79f7f8be7'), 'Work Activity': 'Controlling Machines and Processes', 'Work Activity Description': 'Using either control mechanisms or direct physical activity to operate machines or processes (not including computers or vehicles).', 'Rank by Importance': 36}\n",
      "{'_id': ObjectId('5f73c66eec9782c79f7f8be8'), 'Work Activity': 'Coaching and Developing Others', 'Work Activity Description': 'Identifying the developmental needs of others and coaching, mentoring, or otherwise helping others to improve their knowledge or skills.', 'Rank by Importance': 33}\n",
      "{'_id': ObjectId('5f73c66eec9782c79f7f8be9'), 'Work Activity': 'Repairing and Maintaining Electronic Equipment', 'Work Activity Description': 'Servicing, repairing, calibrating, regulating, fine-tuning, or testing machines, devices, and equipment that operate primarily on the basis of electrical or electronic (not mechanical) principles.', 'Rank by Importance': 31}\n",
      "{'_id': ObjectId('5f73c66eec9782c79f7f8bea'), 'Work Activity': 'Selling or Influencing Others', 'Work Activity Description': 'Convincing others to buy merchandise/goods or to otherwise change their minds or actions.', 'Rank by Importance': 31}\n",
      "{'_id': ObjectId('5f73c66eec9782c79f7f8beb'), 'Work Activity': 'Staffing Organizational Units', 'Work Activity Description': 'Recruiting, interviewing, selecting, hiring, and promoting employees in an organization.', 'Rank by Importance': 31}\n",
      "{'_id': ObjectId('5f73c66eec9782c79f7f8bec'), 'Work Activity': 'Assisting and Caring for Others', 'Work Activity Description': 'Providing personal assistance, medical attention, emotional support, or other personal care to others such as coworkers, customers, or patients.', 'Rank by Importance': 30}\n",
      "{'_id': ObjectId('5f73c66eec9782c79f7f8bed'), 'Work Activity': 'Drafting, Laying Out, and Specifying Technical Devices, Parts, and Equipment', 'Work Activity Description': 'Providing documentation, detailed instructions, drawings, or specifications to tell others about how devices, parts, equipment, or structures are to be fabricated, constructed, assembled, modified, maintained, or used.', 'Rank by Importance': 29}\n",
      "{'_id': ObjectId('5f73c66eec9782c79f7f8bee'), 'Work Activity': 'Performing for or Working Directly with the Public', 'Work Activity Description': 'Performing for people or dealing directly with the public. This includes serving customers in restaurants and stores, and receiving clients or guests.', 'Rank by Importance': 24}\n",
      "{'_id': ObjectId('5f73c66eec9782c79f7f8bef'), 'Work Activity': 'Performing General Physical Activities', 'Work Activity Description': 'Performing physical activities that require considerable use of your arms and legs and moving your whole body, such as climbing, lifting, balancing, walking, stooping, and handling of materials.', 'Rank by Importance': 20}\n",
      "{'_id': ObjectId('5f73c66eec9782c79f7f8bf0'), 'Work Activity': 'Repairing and Maintaining Mechanical Equipment', 'Work Activity Description': 'Servicing, repairing, adjusting, and testing machines, devices, moving parts, and equipment that operate primarily on the basis of mechanical (not electronic) principles.', 'Rank by Importance': 19}\n"
     ]
    }
   ],
   "source": [
    "query_one = mycollection.find({})\n",
    "for x in query_one:\n",
    "    print(x)"
   ]
  },
  {
   "cell_type": "markdown",
   "metadata": {},
   "source": [
    "### Typical Work Styles"
   ]
  },
  {
   "cell_type": "code",
   "execution_count": null,
   "metadata": {},
   "outputs": [],
   "source": []
  }
 ],
 "metadata": {
  "kernelspec": {
   "display_name": "Python 3",
   "language": "python",
   "name": "python3"
  },
  "language_info": {
   "codemirror_mode": {
    "name": "ipython",
    "version": 3
   },
   "file_extension": ".py",
   "mimetype": "text/x-python",
   "name": "python",
   "nbconvert_exporter": "python",
   "pygments_lexer": "ipython3",
   "version": "3.6.9"
  },
  "toc": {
   "base_numbering": 1,
   "nav_menu": {},
   "number_sections": true,
   "sideBar": true,
   "skip_h1_title": false,
   "title_cell": "Table of Contents",
   "title_sidebar": "Contents",
   "toc_cell": false,
   "toc_position": {},
   "toc_section_display": true,
   "toc_window_display": false
  }
 },
 "nbformat": 4,
 "nbformat_minor": 2
}
