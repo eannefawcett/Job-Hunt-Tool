{
 "cells": [
  {
   "cell_type": "markdown",
   "metadata": {},
   "source": [
    "# Obtain"
   ]
  },
  {
   "cell_type": "markdown",
   "metadata": {},
   "source": [
    "## Import Libraries"
   ]
  },
  {
   "cell_type": "code",
   "execution_count": 1,
   "metadata": {},
   "outputs": [],
   "source": [
    "import pymongo"
   ]
  },
  {
   "cell_type": "markdown",
   "metadata": {},
   "source": [
    "## Initialize Contact with Database"
   ]
  },
  {
   "cell_type": "code",
   "execution_count": 4,
   "metadata": {},
   "outputs": [],
   "source": [
    "myclient = pymongo.MongoClient(\"mongodb://127.0.0.1:27017/\")\n",
    "mydb = myclient['computer_and_information_research_scientists']"
   ]
  },
  {
   "cell_type": "code",
   "execution_count": 5,
   "metadata": {},
   "outputs": [
    {
     "name": "stdout",
     "output_type": "stream",
     "text": [
      "['admin', 'config', 'example_database', 'local', 'test']\n"
     ]
    }
   ],
   "source": [
    "print(myclient.list_database_names())"
   ]
  },
  {
   "cell_type": "markdown",
   "metadata": {},
   "source": [
    "## Add Information to Database"
   ]
  },
  {
   "cell_type": "markdown",
   "metadata": {
    "heading_collapsed": true
   },
   "source": [
    "### Work Activities"
   ]
  },
  {
   "cell_type": "code",
   "execution_count": 43,
   "metadata": {
    "hidden": true
   },
   "outputs": [],
   "source": [
    "waCollection = mydb['Work_Activities']"
   ]
  },
  {
   "cell_type": "code",
   "execution_count": 44,
   "metadata": {
    "hidden": true
   },
   "outputs": [
    {
     "data": {
      "text/plain": [
       "<pymongo.results.InsertOneResult at 0x1e3feab1e88>"
      ]
     },
     "execution_count": 44,
     "metadata": {},
     "output_type": "execute_result"
    }
   ],
   "source": [
    "wac_one = {'Work Activity': 'Interacting With Computers', \n",
    "             'Work Activity Description': 'Using computers and computer systems (including hardware and software) to program, write software, set up functions, enter data, or process information.',\n",
    "             'Rank by Importance': 99}\n",
    "\n",
    "results = waCollection.insert_one(entry_one)\n",
    "results"
   ]
  },
  {
   "cell_type": "code",
   "execution_count": 45,
   "metadata": {
    "hidden": true
   },
   "outputs": [
    {
     "data": {
      "text/plain": [
       "ObjectId('5f73a385ec9782c79f7f8bca')"
      ]
     },
     "execution_count": 45,
     "metadata": {},
     "output_type": "execute_result"
    }
   ],
   "source": [
    "results.inserted_id"
   ]
  },
  {
   "cell_type": "code",
   "execution_count": 46,
   "metadata": {
    "hidden": true
   },
   "outputs": [],
   "source": [
    "wac_02 = {'Work Activity': 'Making Decisions and Solving Problems', \n",
    "          'Work Activity Description': 'Analyzing information and evaluating results to choose the best solution and solve problems.',\n",
    "          'Rank by Importance': 91}\n",
    "wac_03 = {'Work Activity': 'Getting Information', \n",
    "          'Work Activity Description': 'Observing, receiving, and otherwise obtaining information from all relevant sources.',\n",
    "          'Rank by Importance': 91}\n",
    "wac_04 = {'Work Activity': 'Updating and Using Relevant Knowledge', \n",
    "          'Work Activity Description': 'Keeping up-to-date technically and applying new knowledge to your job.',\n",
    "          'Rank by Importance': 89}\n",
    "wac_05 = {'Work Activity': 'Analyzing Data or Information', \n",
    "          'Work Activity Description': 'Identifying the underlying principles, reasons, or facts of information by breaking down information or data into separate parts.',\n",
    "          'Rank by Importance': 89}\n",
    "wac_06 = {'Work Activity': 'Thinking Creatively', \n",
    "          'Work Activity Description': 'Developing, designing, or creating new applications, ideas, relationships, systems, or products, including artistic contributions.',\n",
    "          'Rank by Importance': 88}\n",
    "wac_07 = {'Work Activity': 'Documenting/Recording Information', \n",
    "          'Work Activity Description': 'Entering, transcribing, recording, storing, or maintaining information in written or electronic/magnetic form.',\n",
    "          'Rank by Importance': 84}\n",
    "wac_08 = {'Work Activity': 'Processing Information', \n",
    "          'Work Activity Description': 'Compiling, coding, categorizing, calculating, tabulating, auditing, or verifying information or data.',\n",
    "          'Rank by Importance': 83}\n",
    "wac_09 = {'Work Activity': 'Identifying Objects, Actions, and Events', \n",
    "          'Work Activity Description': 'Identifying information by categorizing, estimating, recognizing differences or similarities, and detecting changes in circumstances or events.',\n",
    "          'Rank by Importance': 83}\n",
    "wac_10 = {'Work Activity': 'Communicating with Supervisors, Peers, or Subordinates', \n",
    "          'Work Activity Description': 'Providing information to supervisors, co-workers, and subordinates by telephone, in written form, e-mail, or in person.',\n",
    "          'Rank by Importance': 83}\n",
    "wac_11 = {'Work Activity': 'Interpreting the Meaning of Information for Others', \n",
    "          'Work Activity Description': 'Translating or explaining what information means and how it can be used.',\n",
    "          'Rank by Importance': 82}\n",
    "wac_12 = {'Work Activity': 'Communicating with Persons Outside Organization', \n",
    "          'Work Activity Description': 'Communicating with people outside the organization, representing the organization to customers, the public, government, and other external sources. This information can be exchanged in person, in writing, or by telephone or e-mail.',\n",
    "          'Rank by Importance': 81}\n",
    "wac_13 = {'Work Activity': 'Estimating the Quantifiable Characteristics of Products, Events, or Information', \n",
    "          'Work Activity Description': 'Estimating sizes, distances, and quantities; or determining time, costs, resources, or materials needed to perform a work activity.',\n",
    "          'Rank by Importance': 80}\n",
    "wac_14 = {'Work Activity': 'Establishing and Maintaining Interpersonal Relationships', \n",
    "          'Work Activity Description': 'Developing constructive and cooperative working relationships with others, and maintaining them over time.',\n",
    "          'Rank by Importance': 69}\n",
    "wac_15 = {'Work Activity': 'Developing Objectives and Strategies', \n",
    "          'Work Activity Description': 'Establishing long-range objectives and specifying the strategies and actions to achieve them.',\n",
    "          'Rank by Importance': 68}\n",
    "wac_16 = {'Work Activity': 'Organizing, Planning, and Prioritizing Work', \n",
    "          'Work Activity Description': 'Developing specific goals and plans to prioritize, organize, and accomplish your work.',\n",
    "          'Rank by Importance': 67}\n",
    "wac_17 = {'Work Activity': 'Judging the Qualities of Things, Services, or People', \n",
    "          'Work Activity Description': 'Assessing the value, importance, or quality of things or people.',\n",
    "          'Rank by Importance': 64}\n",
    "wac_18 = {'Work Activity': 'Evaluating Information to Determine Compliance with Standards', \n",
    "          'Work Activity Description': 'Using relevant information and individual judgment to determine whether events or processes comply with laws, regulations, or standards.',\n",
    "          'Rank by Importance': 64}\n",
    "wac_19 = {'Work Activity': 'Scheduling Work and Activities', \n",
    "          'Work Activity Description': 'Scheduling events, programs, and activities, as well as the work of others.',\n",
    "          'Rank by Importance': 60}\n",
    "wac_20 = {'Work Activity': 'Provide Consultation and Advice to Others', \n",
    "          'Work Activity Description': 'Providing guidance and expert advice to management or other groups on technical, systems-, or process-related topics.',\n",
    "          'Rank by Importance': 57}\n",
    "wac_21 = {'Work Activity': 'Training and Teaching Others', \n",
    "          'Work Activity Description': 'Identifying the educational needs of others, developing formal educational or training programs or classes, and teaching or instructing others.',\n",
    "          'Rank by Importance': 55}\n",
    "wac_22 = {'Work Activity': 'Monitor Processes, Materials, or Surroundings', \n",
    "          'Work Activity Description': 'Monitoring and reviewing information from materials, events, or the environment, to detect or assess problems.',\n",
    "          'Rank by Importance': 51}\n",
    "wac_23 = {'Work Activity': 'Developing and Building Teams', \n",
    "          'Work Activity Description': 'Encouraging and building mutual trust, respect, and cooperation among team members.',\n",
    "          'Rank by Importance': 47}\n",
    "wac_24 = {'Work Activity': 'Resolving Conflicts and Negotiating with Others', \n",
    "          'Work Activity Description': 'Handling complaints, settling disputes, and resolving grievances and conflicts, or otherwise negotiating with others.',\n",
    "          'Rank by Importance': 46}\n",
    "wac_25 = {'Work Activity': 'Coordinating the Work and Activities of Others', \n",
    "          'Work Activity Description': 'Getting members of a group to work together to accomplish tasks.',\n",
    "          'Rank by Importance': 46}\n",
    "wac_26 = {'Work Activity': 'Monitoring and Controlling Resources', \n",
    "          'Work Activity Description': 'Monitoring and controlling resources and overseeing the spending of money.',\n",
    "          'Rank by Importance': 43}\n",
    "wac_27 = {'Work Activity': 'Inspecting Equipment, Structures, or Material', \n",
    "          'Work Activity Description': 'Inspecting equipment, structures, or materials to identify the cause of errors or other problems or defects.',\n",
    "          'Rank by Importance': 42}\n",
    "wac_28 = {'Work Activity': 'Guiding, Directing, and Motivating Subordinates', \n",
    "          'Work Activity Description': 'Providing guidance and direction to subordinates, including setting performance standards and monitoring performance.',\n",
    "          'Rank by Importance': 41}\n",
    "wac_29 = {'Work Activity': 'Preforming Administrative Activities', \n",
    "          'Work Activity Description': 'Performing day-to-day administrative tasks such as maintaining information files and processing paperwork.',\n",
    "          'Rank by Importance': 38}\n",
    "wac_30 = {'Work Activity': 'Controlling Machines and Processes', \n",
    "          'Work Activity Description': 'Using either control mechanisms or direct physical activity to operate machines or processes (not including computers or vehicles).',\n",
    "          'Rank by Importance': 36}\n",
    "wac_31 = {'Work Activity': 'Coaching and Developing Others', \n",
    "          'Work Activity Description': 'Identifying the developmental needs of others and coaching, mentoring, or otherwise helping others to improve their knowledge or skills.',\n",
    "          'Rank by Importance': 33}\n",
    "wac_32 = {'Work Activity': 'Repairing and Maintaining Electronic Equipment', \n",
    "          'Work Activity Description': 'Servicing, repairing, calibrating, regulating, fine-tuning, or testing machines, devices, and equipment that operate primarily on the basis of electrical or electronic (not mechanical) principles.',\n",
    "          'Rank by Importance': 31}\n",
    "wac_33 = {'Work Activity': 'Selling or Influencing Others', \n",
    "          'Work Activity Description': 'Convincing others to buy merchandise/goods or to otherwise change their minds or actions.',\n",
    "          'Rank by Importance': 31}\n",
    "wac_34 = {'Work Activity': 'Staffing Organizational Units', \n",
    "          'Work Activity Description': 'Recruiting, interviewing, selecting, hiring, and promoting employees in an organization.',\n",
    "          'Rank by Importance': 31}\n",
    "wac_35 = {'Work Activity': 'Assisting and Caring for Others', \n",
    "          'Work Activity Description': 'Providing personal assistance, medical attention, emotional support, or other personal care to others such as coworkers, customers, or patients.',\n",
    "          'Rank by Importance': 30}\n",
    "wac_36 = {'Work Activity': 'Drafting, Laying Out, and Specifying Technical Devices, Parts, and Equipment', \n",
    "          'Work Activity Description': 'Providing documentation, detailed instructions, drawings, or specifications to tell others about how devices, parts, equipment, or structures are to be fabricated, constructed, assembled, modified, maintained, or used.',\n",
    "          'Rank by Importance': 29}\n",
    "wac_37 = {'Work Activity': 'Performing for or Working Directly with the Public', \n",
    "          'Work Activity Description': 'Performing for people or dealing directly with the public. This includes serving customers in restaurants and stores, and receiving clients or guests.',\n",
    "          'Rank by Importance': 24}\n",
    "wac_38 = {'Work Activity': 'Performing General Physical Activities', \n",
    "          'Work Activity Description': 'Performing physical activities that require considerable use of your arms and legs and moving your whole body, such as climbing, lifting, balancing, walking, stooping, and handling of materials.',\n",
    "          'Rank by Importance': 20}\n",
    "wac_39 = {'Work Activity': 'Repairing and Maintaining Mechanical Equipment', \n",
    "          'Work Activity Description': 'Servicing, repairing, adjusting, and testing machines, devices, moving parts, and equipment that operate primarily on the basis of mechanical (not electronic) principles.',\n",
    "          'Rank by Importance': 19}"
   ]
  },
  {
   "cell_type": "code",
   "execution_count": 47,
   "metadata": {
    "hidden": true
   },
   "outputs": [],
   "source": [
    "list_of_wac_entries = [wac_02, wac_03, wac_04, wac_05, wac_06, wac_07, wac_08, wac_09, wac_10, wac_11, wac_12, wac_13, \n",
    "                       wac_14, wac_15, wac_16, wac_17, wac_18, wac_19, wac_20, wac_21, wac_22, wac_23, wac_24, wac_25, \n",
    "                       wac_26, wac_27, wac_28, wac_29, wac_30, wac_31, wac_32, wac_33, wac_34, wac_35, wac_36, wac_37, \n",
    "                       wac_38, wac_39]"
   ]
  },
  {
   "cell_type": "code",
   "execution_count": 48,
   "metadata": {
    "hidden": true
   },
   "outputs": [],
   "source": [
    "results_2 = waCollection.insert_many(list_of_wac_entries)"
   ]
  },
  {
   "cell_type": "code",
   "execution_count": 49,
   "metadata": {
    "hidden": true
   },
   "outputs": [
    {
     "data": {
      "text/plain": [
       "[ObjectId('5f751e34ec9782c79f7f8c11'),\n",
       " ObjectId('5f751e34ec9782c79f7f8c12'),\n",
       " ObjectId('5f751e34ec9782c79f7f8c13'),\n",
       " ObjectId('5f751e34ec9782c79f7f8c14'),\n",
       " ObjectId('5f751e34ec9782c79f7f8c15'),\n",
       " ObjectId('5f751e34ec9782c79f7f8c16'),\n",
       " ObjectId('5f751e34ec9782c79f7f8c17'),\n",
       " ObjectId('5f751e34ec9782c79f7f8c18'),\n",
       " ObjectId('5f751e34ec9782c79f7f8c19'),\n",
       " ObjectId('5f751e34ec9782c79f7f8c1a'),\n",
       " ObjectId('5f751e34ec9782c79f7f8c1b'),\n",
       " ObjectId('5f751e34ec9782c79f7f8c1c'),\n",
       " ObjectId('5f751e34ec9782c79f7f8c1d'),\n",
       " ObjectId('5f751e34ec9782c79f7f8c1e'),\n",
       " ObjectId('5f751e34ec9782c79f7f8c1f'),\n",
       " ObjectId('5f751e34ec9782c79f7f8c20'),\n",
       " ObjectId('5f751e34ec9782c79f7f8c21'),\n",
       " ObjectId('5f751e34ec9782c79f7f8c22'),\n",
       " ObjectId('5f751e34ec9782c79f7f8c23'),\n",
       " ObjectId('5f751e34ec9782c79f7f8c24'),\n",
       " ObjectId('5f751e34ec9782c79f7f8c25'),\n",
       " ObjectId('5f751e34ec9782c79f7f8c26'),\n",
       " ObjectId('5f751e34ec9782c79f7f8c27'),\n",
       " ObjectId('5f751e34ec9782c79f7f8c28'),\n",
       " ObjectId('5f751e34ec9782c79f7f8c29'),\n",
       " ObjectId('5f751e34ec9782c79f7f8c2a'),\n",
       " ObjectId('5f751e34ec9782c79f7f8c2b'),\n",
       " ObjectId('5f751e34ec9782c79f7f8c2c'),\n",
       " ObjectId('5f751e34ec9782c79f7f8c2d'),\n",
       " ObjectId('5f751e34ec9782c79f7f8c2e'),\n",
       " ObjectId('5f751e34ec9782c79f7f8c2f'),\n",
       " ObjectId('5f751e34ec9782c79f7f8c30'),\n",
       " ObjectId('5f751e34ec9782c79f7f8c31'),\n",
       " ObjectId('5f751e34ec9782c79f7f8c32'),\n",
       " ObjectId('5f751e34ec9782c79f7f8c33'),\n",
       " ObjectId('5f751e34ec9782c79f7f8c34'),\n",
       " ObjectId('5f751e34ec9782c79f7f8c35'),\n",
       " ObjectId('5f751e34ec9782c79f7f8c36')]"
      ]
     },
     "execution_count": 49,
     "metadata": {},
     "output_type": "execute_result"
    }
   ],
   "source": [
    "results_2.inserted_ids"
   ]
  },
  {
   "cell_type": "code",
   "execution_count": 50,
   "metadata": {
    "hidden": true
   },
   "outputs": [
    {
     "name": "stdout",
     "output_type": "stream",
     "text": [
      "{'_id': ObjectId('5f73a385ec9782c79f7f8bca'), 'Work Activity': 'Interacting With Computers', 'Work Activity Description': 'Using computers and computer systems (including hardware and software) to program, write software, set up functions, enter data, or process information.', 'Rank by Importance': 99}\n",
      "{'_id': ObjectId('5f751e34ec9782c79f7f8c11'), 'Work Activity': 'Making Decisions and Solving Problems', 'Work Activity Description': 'Analyzing information and evaluating results to choose the best solution and solve problems.', 'Rank by Importance': 91}\n",
      "{'_id': ObjectId('5f751e34ec9782c79f7f8c12'), 'Work Activity': 'Getting Information', 'Work Activity Description': 'Observing, receiving, and otherwise obtaining information from all relevant sources.', 'Rank by Importance': 91}\n",
      "{'_id': ObjectId('5f751e34ec9782c79f7f8c13'), 'Work Activity': 'Updating and Using Relevant Knowledge', 'Work Activity Description': 'Keeping up-to-date technically and applying new knowledge to your job.', 'Rank by Importance': 89}\n",
      "{'_id': ObjectId('5f751e34ec9782c79f7f8c14'), 'Work Activity': 'Analyzing Data or Information', 'Work Activity Description': 'Identifying the underlying principles, reasons, or facts of information by breaking down information or data into separate parts.', 'Rank by Importance': 89}\n",
      "{'_id': ObjectId('5f751e34ec9782c79f7f8c15'), 'Work Activity': 'Thinking Creatively', 'Work Activity Description': 'Developing, designing, or creating new applications, ideas, relationships, systems, or products, including artistic contributions.', 'Rank by Importance': 88}\n",
      "{'_id': ObjectId('5f751e34ec9782c79f7f8c16'), 'Work Activity': 'Documenting/Recording Information', 'Work Activity Description': 'Entering, transcribing, recording, storing, or maintaining information in written or electronic/magnetic form.', 'Rank by Importance': 84}\n",
      "{'_id': ObjectId('5f751e34ec9782c79f7f8c17'), 'Work Activity': 'Processing Information', 'Work Activity Description': 'Compiling, coding, categorizing, calculating, tabulating, auditing, or verifying information or data.', 'Rank by Importance': 83}\n",
      "{'_id': ObjectId('5f751e34ec9782c79f7f8c18'), 'Work Activity': 'Identifying Objects, Actions, and Events', 'Work Activity Description': 'Identifying information by categorizing, estimating, recognizing differences or similarities, and detecting changes in circumstances or events.', 'Rank by Importance': 83}\n",
      "{'_id': ObjectId('5f751e34ec9782c79f7f8c19'), 'Work Activity': 'Communicating with Supervisors, Peers, or Subordinates', 'Work Activity Description': 'Providing information to supervisors, co-workers, and subordinates by telephone, in written form, e-mail, or in person.', 'Rank by Importance': 83}\n",
      "{'_id': ObjectId('5f751e34ec9782c79f7f8c1a'), 'Work Activity': 'Interpreting the Meaning of Information for Others', 'Work Activity Description': 'Translating or explaining what information means and how it can be used.', 'Rank by Importance': 82}\n",
      "{'_id': ObjectId('5f751e34ec9782c79f7f8c1b'), 'Work Activity': 'Communicating with Persons Outside Organization', 'Work Activity Description': 'Communicating with people outside the organization, representing the organization to customers, the public, government, and other external sources. This information can be exchanged in person, in writing, or by telephone or e-mail.', 'Rank by Importance': 81}\n",
      "{'_id': ObjectId('5f751e34ec9782c79f7f8c1c'), 'Work Activity': 'Estimating the Quantifiable Characteristics of Products, Events, or Information', 'Work Activity Description': 'Estimating sizes, distances, and quantities; or determining time, costs, resources, or materials needed to perform a work activity.', 'Rank by Importance': 80}\n",
      "{'_id': ObjectId('5f751e34ec9782c79f7f8c1d'), 'Work Activity': 'Establishing and Maintaining Interpersonal Relationships', 'Work Activity Description': 'Developing constructive and cooperative working relationships with others, and maintaining them over time.', 'Rank by Importance': 69}\n",
      "{'_id': ObjectId('5f751e34ec9782c79f7f8c1e'), 'Work Activity': 'Developing Objectives and Strategies', 'Work Activity Description': 'Establishing long-range objectives and specifying the strategies and actions to achieve them.', 'Rank by Importance': 68}\n",
      "{'_id': ObjectId('5f751e34ec9782c79f7f8c1f'), 'Work Activity': 'Organizing, Planning, and Prioritizing Work', 'Work Activity Description': 'Developing specific goals and plans to prioritize, organize, and accomplish your work.', 'Rank by Importance': 67}\n",
      "{'_id': ObjectId('5f751e34ec9782c79f7f8c20'), 'Work Activity': 'Judging the Qualities of Things, Services, or People', 'Work Activity Description': 'Assessing the value, importance, or quality of things or people.', 'Rank by Importance': 64}\n",
      "{'_id': ObjectId('5f751e34ec9782c79f7f8c21'), 'Work Activity': 'Evaluating Information to Determine Compliance with Standards', 'Work Activity Description': 'Using relevant information and individual judgment to determine whether events or processes comply with laws, regulations, or standards.', 'Rank by Importance': 64}\n",
      "{'_id': ObjectId('5f751e34ec9782c79f7f8c22'), 'Work Activity': 'Scheduling Work and Activities', 'Work Activity Description': 'Scheduling events, programs, and activities, as well as the work of others.', 'Rank by Importance': 60}\n",
      "{'_id': ObjectId('5f751e34ec9782c79f7f8c23'), 'Work Activity': 'Provide Consultation and Advice to Others', 'Work Activity Description': 'Providing guidance and expert advice to management or other groups on technical, systems-, or process-related topics.', 'Rank by Importance': 57}\n",
      "{'_id': ObjectId('5f751e34ec9782c79f7f8c24'), 'Work Activity': 'Training and Teaching Others', 'Work Activity Description': 'Identifying the educational needs of others, developing formal educational or training programs or classes, and teaching or instructing others.', 'Rank by Importance': 55}\n",
      "{'_id': ObjectId('5f751e34ec9782c79f7f8c25'), 'Work Activity': 'Monitor Processes, Materials, or Surroundings', 'Work Activity Description': 'Monitoring and reviewing information from materials, events, or the environment, to detect or assess problems.', 'Rank by Importance': 51}\n",
      "{'_id': ObjectId('5f751e34ec9782c79f7f8c26'), 'Work Activity': 'Developing and Building Teams', 'Work Activity Description': 'Encouraging and building mutual trust, respect, and cooperation among team members.', 'Rank by Importance': 47}\n",
      "{'_id': ObjectId('5f751e34ec9782c79f7f8c27'), 'Work Activity': 'Resolving Conflicts and Negotiating with Others', 'Work Activity Description': 'Handling complaints, settling disputes, and resolving grievances and conflicts, or otherwise negotiating with others.', 'Rank by Importance': 46}\n",
      "{'_id': ObjectId('5f751e34ec9782c79f7f8c28'), 'Work Activity': 'Coordinating the Work and Activities of Others', 'Work Activity Description': 'Getting members of a group to work together to accomplish tasks.', 'Rank by Importance': 46}\n",
      "{'_id': ObjectId('5f751e34ec9782c79f7f8c29'), 'Work Activity': 'Monitoring and Controlling Resources', 'Work Activity Description': 'Monitoring and controlling resources and overseeing the spending of money.', 'Rank by Importance': 43}\n",
      "{'_id': ObjectId('5f751e34ec9782c79f7f8c2a'), 'Work Activity': 'Inspecting Equipment, Structures, or Material', 'Work Activity Description': 'Inspecting equipment, structures, or materials to identify the cause of errors or other problems or defects.', 'Rank by Importance': 42}\n",
      "{'_id': ObjectId('5f751e34ec9782c79f7f8c2b'), 'Work Activity': 'Guiding, Directing, and Motivating Subordinates', 'Work Activity Description': 'Providing guidance and direction to subordinates, including setting performance standards and monitoring performance.', 'Rank by Importance': 41}\n",
      "{'_id': ObjectId('5f751e34ec9782c79f7f8c2c'), 'Work Activity': 'Preforming Administrative Activities', 'Work Activity Description': 'Performing day-to-day administrative tasks such as maintaining information files and processing paperwork.', 'Rank by Importance': 38}\n",
      "{'_id': ObjectId('5f751e34ec9782c79f7f8c2d'), 'Work Activity': 'Controlling Machines and Processes', 'Work Activity Description': 'Using either control mechanisms or direct physical activity to operate machines or processes (not including computers or vehicles).', 'Rank by Importance': 36}\n",
      "{'_id': ObjectId('5f751e34ec9782c79f7f8c2e'), 'Work Activity': 'Coaching and Developing Others', 'Work Activity Description': 'Identifying the developmental needs of others and coaching, mentoring, or otherwise helping others to improve their knowledge or skills.', 'Rank by Importance': 33}\n",
      "{'_id': ObjectId('5f751e34ec9782c79f7f8c2f'), 'Work Activity': 'Repairing and Maintaining Electronic Equipment', 'Work Activity Description': 'Servicing, repairing, calibrating, regulating, fine-tuning, or testing machines, devices, and equipment that operate primarily on the basis of electrical or electronic (not mechanical) principles.', 'Rank by Importance': 31}\n",
      "{'_id': ObjectId('5f751e34ec9782c79f7f8c30'), 'Work Activity': 'Selling or Influencing Others', 'Work Activity Description': 'Convincing others to buy merchandise/goods or to otherwise change their minds or actions.', 'Rank by Importance': 31}\n",
      "{'_id': ObjectId('5f751e34ec9782c79f7f8c31'), 'Work Activity': 'Staffing Organizational Units', 'Work Activity Description': 'Recruiting, interviewing, selecting, hiring, and promoting employees in an organization.', 'Rank by Importance': 31}\n",
      "{'_id': ObjectId('5f751e34ec9782c79f7f8c32'), 'Work Activity': 'Assisting and Caring for Others', 'Work Activity Description': 'Providing personal assistance, medical attention, emotional support, or other personal care to others such as coworkers, customers, or patients.', 'Rank by Importance': 30}\n",
      "{'_id': ObjectId('5f751e34ec9782c79f7f8c33'), 'Work Activity': 'Drafting, Laying Out, and Specifying Technical Devices, Parts, and Equipment', 'Work Activity Description': 'Providing documentation, detailed instructions, drawings, or specifications to tell others about how devices, parts, equipment, or structures are to be fabricated, constructed, assembled, modified, maintained, or used.', 'Rank by Importance': 29}\n",
      "{'_id': ObjectId('5f751e34ec9782c79f7f8c34'), 'Work Activity': 'Performing for or Working Directly with the Public', 'Work Activity Description': 'Performing for people or dealing directly with the public. This includes serving customers in restaurants and stores, and receiving clients or guests.', 'Rank by Importance': 24}\n",
      "{'_id': ObjectId('5f751e34ec9782c79f7f8c35'), 'Work Activity': 'Performing General Physical Activities', 'Work Activity Description': 'Performing physical activities that require considerable use of your arms and legs and moving your whole body, such as climbing, lifting, balancing, walking, stooping, and handling of materials.', 'Rank by Importance': 20}\n",
      "{'_id': ObjectId('5f751e34ec9782c79f7f8c36'), 'Work Activity': 'Repairing and Maintaining Mechanical Equipment', 'Work Activity Description': 'Servicing, repairing, adjusting, and testing machines, devices, moving parts, and equipment that operate primarily on the basis of mechanical (not electronic) principles.', 'Rank by Importance': 19}\n"
     ]
    }
   ],
   "source": [
    "query_one = waCollection.find({})\n",
    "for x in query_one:\n",
    "    print(x)"
   ]
  },
  {
   "cell_type": "markdown",
   "metadata": {
    "heading_collapsed": true
   },
   "source": [
    "### Typical Work Styles"
   ]
  },
  {
   "cell_type": "code",
   "execution_count": 22,
   "metadata": {
    "hidden": true
   },
   "outputs": [],
   "source": [
    "wsCollection = mydb['Work_Styles']"
   ]
  },
  {
   "cell_type": "code",
   "execution_count": 29,
   "metadata": {
    "hidden": true
   },
   "outputs": [],
   "source": [
    "wsc_01 = {'Work Style': 'Analytical Thinking', \n",
    "          'Work Style Description': 'Job requires analyzing information and using logic to address work related issues and problems.',\n",
    "          'Rank by Importance': 90}\n",
    "wsc_02 = {'Work Style': 'Cooperation', \n",
    "          'Work Style Description': 'Job requires being pleasant with others on the job and displaying a good-natured, cooperative attitude.',\n",
    "          'Rank by Importance': 79}\n",
    "wsc_03 = {'Work Style': 'Attention to Detail', \n",
    "          'Work Style Description': 'Job requires being careful about detail and thorough in completing work tasks.',\n",
    "          'Rank by Importance': 76}\n",
    "wsc_04 = {'Work Style': 'Independence', \n",
    "          'Work Style Description': \"Job requires developing one's own ways of doing things, guiding oneself with little or no supervision, and depending on oneself to get things done.\",\n",
    "          'Rank by Importance': 75}\n",
    "wsc_05 = {'Work Style': 'Achievement/Effort', \n",
    "          'Work Style Description': 'Job requires establishing and maintaining personally challenging achievement goals and exerting effort toward mastering tasks.',\n",
    "          'Rank by Importance': 74}\n",
    "wsc_06 = {'Work Style': 'Initiative', \n",
    "          'Work Style Description': 'Job requires a willingness to take on responsibilities and challenges.',\n",
    "          'Rank by Importance': 74}\n",
    "wsc_07 = {'Work Style': 'Innovation', \n",
    "          'Work Style Description': 'Job requires creativity and alternative thinking to develop new ideas for and answers to work-related problems.',\n",
    "          'Rank by Importance': 73}\n",
    "wsc_08 = {'Work Style': 'Integrity', \n",
    "          'Work Style Description': 'Job requires being honest and ethical.',\n",
    "          'Rank by Importance': 73}\n",
    "wsc_09 = {'Work Style': 'Adaptability/Flexibility', \n",
    "          'Work Style Description': 'Job requires being open to change (positive or negative) and to considerable variety in the workplace.',\n",
    "          'Rank by Importance': 72}\n",
    "wsc_10 = {'Work Style': 'Dependability',\n",
    "          'Work Style Description': 'Job requires being reliable, responsible, and dependable, and fulfilling obligations.',\n",
    "          'Rank by Importance': 68}\n",
    "wsc_11 = {'Work Style': 'Persistence', \n",
    "          'Work Style Description': 'Job requires persistence in the face of obstacles.',\n",
    "          'Rank by Importance': 68}\n",
    "wsc_12 = {'Work Style': 'Stress Tolerance', \n",
    "          'Work Style Description': 'Job requires accepting criticism and dealing calmly and effectively with high stress situations.',\n",
    "          'Rank by Importance': 66}\n",
    "wsc_13 = {'Work Style': 'Leadership', \n",
    "          'Work Style Description': 'Job requires a willingness to lead, take charge, and offer opinions and direction.',\n",
    "          'Rank by Importance': 65}\n",
    "wsc_14 = {'Work Style': 'Concern for Others', \n",
    "          'Work Style Description': \"Job requires being sensitive to others' needs and feelings and being understanding and helpful on the job.\",\n",
    "          'Rank by Importance': 56}\n",
    "wsc_15 = {'Work Style': 'Social Orientation', \n",
    "          'Work Style Description': 'Job requires preferring to work with others rather than alone, and being personally connected with others on the job.',\n",
    "          'Rank by Importance': 52}\n",
    "wsc_16 = {'Work Style': 'Self Control', \n",
    "          'Work Style Description': 'Job requires maintaining composure, keeping emotions in check, controlling anger, and avoiding aggressive behavior, even in very difficult situations.',\n",
    "          'Rank by Importance': 50}"
   ]
  },
  {
   "cell_type": "code",
   "execution_count": 30,
   "metadata": {
    "hidden": true
   },
   "outputs": [],
   "source": [
    "list_of_wsc_entries = [wsc_01, wsc_02, wsc_03, wsc_04, wsc_05, wsc_06, wsc_07, wsc_08, wsc_09, wsc_10, wsc_11, wsc_12, \n",
    "                       wsc_13, wsc_14, wsc_15, wsc_16]"
   ]
  },
  {
   "cell_type": "code",
   "execution_count": 36,
   "metadata": {
    "hidden": true
   },
   "outputs": [],
   "source": [
    "results_3 = wsCollection.insert_many(list_of_wsc_entries)"
   ]
  },
  {
   "cell_type": "code",
   "execution_count": 37,
   "metadata": {
    "hidden": true
   },
   "outputs": [
    {
     "data": {
      "text/plain": [
       "[ObjectId('5f751cb6ec9782c79f7f8c01'),\n",
       " ObjectId('5f751cb6ec9782c79f7f8c02'),\n",
       " ObjectId('5f751cb6ec9782c79f7f8c03'),\n",
       " ObjectId('5f751cb6ec9782c79f7f8c04'),\n",
       " ObjectId('5f751cb6ec9782c79f7f8c05'),\n",
       " ObjectId('5f751cb6ec9782c79f7f8c06'),\n",
       " ObjectId('5f751cb6ec9782c79f7f8c07'),\n",
       " ObjectId('5f751cb6ec9782c79f7f8c08'),\n",
       " ObjectId('5f751cb6ec9782c79f7f8c09'),\n",
       " ObjectId('5f751cb6ec9782c79f7f8c0a'),\n",
       " ObjectId('5f751cb6ec9782c79f7f8c0b'),\n",
       " ObjectId('5f751cb6ec9782c79f7f8c0c'),\n",
       " ObjectId('5f751cb6ec9782c79f7f8c0d'),\n",
       " ObjectId('5f751cb6ec9782c79f7f8c0e'),\n",
       " ObjectId('5f751cb6ec9782c79f7f8c0f'),\n",
       " ObjectId('5f751cb6ec9782c79f7f8c10')]"
      ]
     },
     "execution_count": 37,
     "metadata": {},
     "output_type": "execute_result"
    }
   ],
   "source": [
    "results_3.inserted_ids"
   ]
  },
  {
   "cell_type": "code",
   "execution_count": 38,
   "metadata": {
    "hidden": true
   },
   "outputs": [
    {
     "name": "stdout",
     "output_type": "stream",
     "text": [
      "{'_id': ObjectId('5f751cb6ec9782c79f7f8c01'), 'Work Style': 'Analytical Thinking', 'Work Style Description': 'Job requires analyzing information and using logic to address work related issues and problems.', 'Rank by Importance': 90}\n",
      "{'_id': ObjectId('5f751cb6ec9782c79f7f8c02'), 'Work Style': 'Cooperation', 'Work Style Description': 'Job requires being pleasant with others on the job and displaying a good-natured, cooperative attitude.', 'Rank by Importance': 79}\n",
      "{'_id': ObjectId('5f751cb6ec9782c79f7f8c03'), 'Work Style': 'Attention to Detail', 'Work Style Description': 'Job requires being careful about detail and thorough in completing work tasks.', 'Rank by Importance': 76}\n",
      "{'_id': ObjectId('5f751cb6ec9782c79f7f8c04'), 'Work Style': 'Independence', 'Work Style Description': \"Job requires developing one's own ways of doing things, guiding oneself with little or no supervision, and depending on oneself to get things done.\", 'Rank by Importance': 75}\n",
      "{'_id': ObjectId('5f751cb6ec9782c79f7f8c05'), 'Work Style': 'Achievement/Effort', 'Work Style Description': 'Job requires establishing and maintaining personally challenging achievement goals and exerting effort toward mastering tasks.', 'Rank by Importance': 74}\n",
      "{'_id': ObjectId('5f751cb6ec9782c79f7f8c06'), 'Work Style': 'Initiative', 'Work Style Description': 'Job requires a willingness to take on responsibilities and challenges.', 'Rank by Importance': 74}\n",
      "{'_id': ObjectId('5f751cb6ec9782c79f7f8c07'), 'Work Style': 'Innovation', 'Work Style Description': 'Job requires creativity and alternative thinking to develop new ideas for and answers to work-related problems.', 'Rank by Importance': 73}\n",
      "{'_id': ObjectId('5f751cb6ec9782c79f7f8c08'), 'Work Style': 'Integrity', 'Work Style Description': 'Job requires being honest and ethical.', 'Rank by Importance': 73}\n",
      "{'_id': ObjectId('5f751cb6ec9782c79f7f8c09'), 'Work Style': 'Adaptability/Flexibility', 'Work Style Description': 'Job requires being open to change (positive or negative) and to considerable variety in the workplace.', 'Rank by Importance': 72}\n",
      "{'_id': ObjectId('5f751cb6ec9782c79f7f8c0a'), 'Work Style': 'Dependability', 'Work Style Description': 'Job requires being reliable, responsible, and dependable, and fulfilling obligations.', 'Rank by Importance': 68}\n",
      "{'_id': ObjectId('5f751cb6ec9782c79f7f8c0b'), 'Work Style': 'Persistence', 'Work Style Description': 'Job requires persistence in the face of obstacles.', 'Rank by Importance': 68}\n",
      "{'_id': ObjectId('5f751cb6ec9782c79f7f8c0c'), 'Work Style': 'Stress Tolerance', 'Work Style Description': 'Job requires accepting criticism and dealing calmly and effectively with high stress situations.', 'Rank by Importance': 66}\n",
      "{'_id': ObjectId('5f751cb6ec9782c79f7f8c0d'), 'Work Style': 'Leadership', 'Work Style Description': 'Job requires a willingness to lead, take charge, and offer opinions and direction.', 'Rank by Importance': 65}\n",
      "{'_id': ObjectId('5f751cb6ec9782c79f7f8c0e'), 'Work Style': 'Concern for Others', 'Work Style Description': \"Job requires being sensitive to others' needs and feelings and being understanding and helpful on the job.\", 'Rank by Importance': 56}\n",
      "{'_id': ObjectId('5f751cb6ec9782c79f7f8c0f'), 'Work Style': 'Social Orientation', 'Work Style Description': 'Job requires preferring to work with others rather than alone, and being personally connected with others on the job.', 'Rank by Importance': 52}\n",
      "{'_id': ObjectId('5f751cb6ec9782c79f7f8c10'), 'Work Style': 'Self Control', 'Work Style Description': 'Job requires maintaining composure, keeping emotions in check, controlling anger, and avoiding aggressive behavior, even in very difficult situations.', 'Rank by Importance': 50}\n"
     ]
    }
   ],
   "source": [
    "query_two = wsCollection.find({})\n",
    "for x in query_two:\n",
    "    print(x)"
   ]
  },
  {
   "cell_type": "markdown",
   "metadata": {},
   "source": [
    "### Typical Work Abilities"
   ]
  },
  {
   "cell_type": "code",
   "execution_count": null,
   "metadata": {},
   "outputs": [],
   "source": []
  }
 ],
 "metadata": {
  "kernelspec": {
   "display_name": "Python 3",
   "language": "python",
   "name": "python3"
  },
  "language_info": {
   "codemirror_mode": {
    "name": "ipython",
    "version": 3
   },
   "file_extension": ".py",
   "mimetype": "text/x-python",
   "name": "python",
   "nbconvert_exporter": "python",
   "pygments_lexer": "ipython3",
   "version": "3.6.9"
  },
  "toc": {
   "base_numbering": 1,
   "nav_menu": {},
   "number_sections": true,
   "sideBar": true,
   "skip_h1_title": false,
   "title_cell": "Table of Contents",
   "title_sidebar": "Contents",
   "toc_cell": false,
   "toc_position": {},
   "toc_section_display": true,
   "toc_window_display": false
  }
 },
 "nbformat": 4,
 "nbformat_minor": 2
}
