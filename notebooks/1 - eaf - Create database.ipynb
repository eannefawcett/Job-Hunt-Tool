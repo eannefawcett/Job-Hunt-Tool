{
 "cells": [
  {
   "cell_type": "markdown",
   "metadata": {},
   "source": [
    "# Obtain"
   ]
  },
  {
   "cell_type": "markdown",
   "metadata": {},
   "source": [
    "## Import Libraries"
   ]
  },
  {
   "cell_type": "code",
   "execution_count": 1,
   "metadata": {},
   "outputs": [],
   "source": [
    "import pymongo"
   ]
  },
  {
   "cell_type": "markdown",
   "metadata": {},
   "source": [
    "## Initialize Contact with Database"
   ]
  },
  {
   "cell_type": "code",
   "execution_count": 2,
   "metadata": {},
   "outputs": [],
   "source": [
    "# connect to the server that the database is on\n",
    "myclient = pymongo.MongoClient(\"mongodb://127.0.0.1:27017/\")\n",
    "# connect to the database that I want to work on\n",
    "mydb = myclient['computer_and_information_research_scientists']"
   ]
  },
  {
   "cell_type": "code",
   "execution_count": 3,
   "metadata": {},
   "outputs": [
    {
     "name": "stdout",
     "output_type": "stream",
     "text": [
      "['admin', 'computer_and_information_research_scientists', 'config', 'example_database', 'local', 'test']\n"
     ]
    }
   ],
   "source": [
    "# what databases are availble to connect to?\n",
    "print(myclient.list_database_names())"
   ]
  },
  {
   "cell_type": "markdown",
   "metadata": {},
   "source": [
    "## Add Information to Database"
   ]
  },
  {
   "cell_type": "markdown",
   "metadata": {
    "heading_collapsed": true
   },
   "source": [
    "### Work Activities"
   ]
  },
  {
   "cell_type": "code",
   "execution_count": 4,
   "metadata": {
    "hidden": true
   },
   "outputs": [],
   "source": [
    "# initialize a bin\n",
    "waCollection = mydb['Work_Activities']"
   ]
  },
  {
   "cell_type": "code",
   "execution_count": 44,
   "metadata": {
    "hidden": true
   },
   "outputs": [
    {
     "data": {
      "text/plain": [
       "<pymongo.results.InsertOneResult at 0x1e3feab1e88>"
      ]
     },
     "execution_count": 44,
     "metadata": {},
     "output_type": "execute_result"
    }
   ],
   "source": [
    "# store the things to go into the bin\n",
    "wac_one = {'Work Activity': 'Interacting With Computers', \n",
    "             'Work Activity Description': 'Using computers and computer systems (including hardware and software) to program, write software, set up functions, enter data, or process information.',\n",
    "             'Rank by Importance': 99}\n",
    "# put all of the stored items into the bin\n",
    "results = waCollection.insert_one(entry_one)\n",
    "results"
   ]
  },
  {
   "cell_type": "code",
   "execution_count": 45,
   "metadata": {
    "hidden": true
   },
   "outputs": [
    {
     "data": {
      "text/plain": [
       "ObjectId('5f73a385ec9782c79f7f8bca')"
      ]
     },
     "execution_count": 45,
     "metadata": {},
     "output_type": "execute_result"
    }
   ],
   "source": [
    "# check to make sure items went into bin\n",
    "results.inserted_id"
   ]
  },
  {
   "cell_type": "code",
   "execution_count": 46,
   "metadata": {
    "hidden": true
   },
   "outputs": [],
   "source": [
    "# store the things to go into the bin\n",
    "wac_02 = {'Work Activity': 'Making Decisions and Solving Problems', \n",
    "          'Work Activity Description': 'Analyzing information and evaluating results to choose the best solution and solve problems.',\n",
    "          'Rank by Importance': 91}\n",
    "wac_03 = {'Work Activity': 'Getting Information', \n",
    "          'Work Activity Description': 'Observing, receiving, and otherwise obtaining information from all relevant sources.',\n",
    "          'Rank by Importance': 91}\n",
    "wac_04 = {'Work Activity': 'Updating and Using Relevant Knowledge', \n",
    "          'Work Activity Description': 'Keeping up-to-date technically and applying new knowledge to your job.',\n",
    "          'Rank by Importance': 89}\n",
    "wac_05 = {'Work Activity': 'Analyzing Data or Information', \n",
    "          'Work Activity Description': 'Identifying the underlying principles, reasons, or facts of information by breaking down information or data into separate parts.',\n",
    "          'Rank by Importance': 89}\n",
    "wac_06 = {'Work Activity': 'Thinking Creatively', \n",
    "          'Work Activity Description': 'Developing, designing, or creating new applications, ideas, relationships, systems, or products, including artistic contributions.',\n",
    "          'Rank by Importance': 88}\n",
    "wac_07 = {'Work Activity': 'Documenting/Recording Information', \n",
    "          'Work Activity Description': 'Entering, transcribing, recording, storing, or maintaining information in written or electronic/magnetic form.',\n",
    "          'Rank by Importance': 84}\n",
    "wac_08 = {'Work Activity': 'Processing Information', \n",
    "          'Work Activity Description': 'Compiling, coding, categorizing, calculating, tabulating, auditing, or verifying information or data.',\n",
    "          'Rank by Importance': 83}\n",
    "wac_09 = {'Work Activity': 'Identifying Objects, Actions, and Events', \n",
    "          'Work Activity Description': 'Identifying information by categorizing, estimating, recognizing differences or similarities, and detecting changes in circumstances or events.',\n",
    "          'Rank by Importance': 83}\n",
    "wac_10 = {'Work Activity': 'Communicating with Supervisors, Peers, or Subordinates', \n",
    "          'Work Activity Description': 'Providing information to supervisors, co-workers, and subordinates by telephone, in written form, e-mail, or in person.',\n",
    "          'Rank by Importance': 83}\n",
    "wac_11 = {'Work Activity': 'Interpreting the Meaning of Information for Others', \n",
    "          'Work Activity Description': 'Translating or explaining what information means and how it can be used.',\n",
    "          'Rank by Importance': 82}\n",
    "wac_12 = {'Work Activity': 'Communicating with Persons Outside Organization', \n",
    "          'Work Activity Description': 'Communicating with people outside the organization, representing the organization to customers, the public, government, and other external sources. This information can be exchanged in person, in writing, or by telephone or e-mail.',\n",
    "          'Rank by Importance': 81}\n",
    "wac_13 = {'Work Activity': 'Estimating the Quantifiable Characteristics of Products, Events, or Information', \n",
    "          'Work Activity Description': 'Estimating sizes, distances, and quantities; or determining time, costs, resources, or materials needed to perform a work activity.',\n",
    "          'Rank by Importance': 80}\n",
    "wac_14 = {'Work Activity': 'Establishing and Maintaining Interpersonal Relationships', \n",
    "          'Work Activity Description': 'Developing constructive and cooperative working relationships with others, and maintaining them over time.',\n",
    "          'Rank by Importance': 69}\n",
    "wac_15 = {'Work Activity': 'Developing Objectives and Strategies', \n",
    "          'Work Activity Description': 'Establishing long-range objectives and specifying the strategies and actions to achieve them.',\n",
    "          'Rank by Importance': 68}\n",
    "wac_16 = {'Work Activity': 'Organizing, Planning, and Prioritizing Work', \n",
    "          'Work Activity Description': 'Developing specific goals and plans to prioritize, organize, and accomplish your work.',\n",
    "          'Rank by Importance': 67}\n",
    "wac_17 = {'Work Activity': 'Judging the Qualities of Things, Services, or People', \n",
    "          'Work Activity Description': 'Assessing the value, importance, or quality of things or people.',\n",
    "          'Rank by Importance': 64}\n",
    "wac_18 = {'Work Activity': 'Evaluating Information to Determine Compliance with Standards', \n",
    "          'Work Activity Description': 'Using relevant information and individual judgment to determine whether events or processes comply with laws, regulations, or standards.',\n",
    "          'Rank by Importance': 64}\n",
    "wac_19 = {'Work Activity': 'Scheduling Work and Activities', \n",
    "          'Work Activity Description': 'Scheduling events, programs, and activities, as well as the work of others.',\n",
    "          'Rank by Importance': 60}\n",
    "wac_20 = {'Work Activity': 'Provide Consultation and Advice to Others', \n",
    "          'Work Activity Description': 'Providing guidance and expert advice to management or other groups on technical, systems-, or process-related topics.',\n",
    "          'Rank by Importance': 57}\n",
    "wac_21 = {'Work Activity': 'Training and Teaching Others', \n",
    "          'Work Activity Description': 'Identifying the educational needs of others, developing formal educational or training programs or classes, and teaching or instructing others.',\n",
    "          'Rank by Importance': 55}\n",
    "wac_22 = {'Work Activity': 'Monitor Processes, Materials, or Surroundings', \n",
    "          'Work Activity Description': 'Monitoring and reviewing information from materials, events, or the environment, to detect or assess problems.',\n",
    "          'Rank by Importance': 51}\n",
    "wac_23 = {'Work Activity': 'Developing and Building Teams', \n",
    "          'Work Activity Description': 'Encouraging and building mutual trust, respect, and cooperation among team members.',\n",
    "          'Rank by Importance': 47}\n",
    "wac_24 = {'Work Activity': 'Resolving Conflicts and Negotiating with Others', \n",
    "          'Work Activity Description': 'Handling complaints, settling disputes, and resolving grievances and conflicts, or otherwise negotiating with others.',\n",
    "          'Rank by Importance': 46}\n",
    "wac_25 = {'Work Activity': 'Coordinating the Work and Activities of Others', \n",
    "          'Work Activity Description': 'Getting members of a group to work together to accomplish tasks.',\n",
    "          'Rank by Importance': 46}\n",
    "wac_26 = {'Work Activity': 'Monitoring and Controlling Resources', \n",
    "          'Work Activity Description': 'Monitoring and controlling resources and overseeing the spending of money.',\n",
    "          'Rank by Importance': 43}\n",
    "wac_27 = {'Work Activity': 'Inspecting Equipment, Structures, or Material', \n",
    "          'Work Activity Description': 'Inspecting equipment, structures, or materials to identify the cause of errors or other problems or defects.',\n",
    "          'Rank by Importance': 42}\n",
    "wac_28 = {'Work Activity': 'Guiding, Directing, and Motivating Subordinates', \n",
    "          'Work Activity Description': 'Providing guidance and direction to subordinates, including setting performance standards and monitoring performance.',\n",
    "          'Rank by Importance': 41}\n",
    "wac_29 = {'Work Activity': 'Preforming Administrative Activities', \n",
    "          'Work Activity Description': 'Performing day-to-day administrative tasks such as maintaining information files and processing paperwork.',\n",
    "          'Rank by Importance': 38}\n",
    "wac_30 = {'Work Activity': 'Controlling Machines and Processes', \n",
    "          'Work Activity Description': 'Using either control mechanisms or direct physical activity to operate machines or processes (not including computers or vehicles).',\n",
    "          'Rank by Importance': 36}\n",
    "wac_31 = {'Work Activity': 'Coaching and Developing Others', \n",
    "          'Work Activity Description': 'Identifying the developmental needs of others and coaching, mentoring, or otherwise helping others to improve their knowledge or skills.',\n",
    "          'Rank by Importance': 33}\n",
    "wac_32 = {'Work Activity': 'Repairing and Maintaining Electronic Equipment', \n",
    "          'Work Activity Description': 'Servicing, repairing, calibrating, regulating, fine-tuning, or testing machines, devices, and equipment that operate primarily on the basis of electrical or electronic (not mechanical) principles.',\n",
    "          'Rank by Importance': 31}\n",
    "wac_33 = {'Work Activity': 'Selling or Influencing Others', \n",
    "          'Work Activity Description': 'Convincing others to buy merchandise/goods or to otherwise change their minds or actions.',\n",
    "          'Rank by Importance': 31}\n",
    "wac_34 = {'Work Activity': 'Staffing Organizational Units', \n",
    "          'Work Activity Description': 'Recruiting, interviewing, selecting, hiring, and promoting employees in an organization.',\n",
    "          'Rank by Importance': 31}\n",
    "wac_35 = {'Work Activity': 'Assisting and Caring for Others', \n",
    "          'Work Activity Description': 'Providing personal assistance, medical attention, emotional support, or other personal care to others such as coworkers, customers, or patients.',\n",
    "          'Rank by Importance': 30}\n",
    "wac_36 = {'Work Activity': 'Drafting, Laying Out, and Specifying Technical Devices, Parts, and Equipment', \n",
    "          'Work Activity Description': 'Providing documentation, detailed instructions, drawings, or specifications to tell others about how devices, parts, equipment, or structures are to be fabricated, constructed, assembled, modified, maintained, or used.',\n",
    "          'Rank by Importance': 29}\n",
    "wac_37 = {'Work Activity': 'Performing for or Working Directly with the Public', \n",
    "          'Work Activity Description': 'Performing for people or dealing directly with the public. This includes serving customers in restaurants and stores, and receiving clients or guests.',\n",
    "          'Rank by Importance': 24}\n",
    "wac_38 = {'Work Activity': 'Performing General Physical Activities', \n",
    "          'Work Activity Description': 'Performing physical activities that require considerable use of your arms and legs and moving your whole body, such as climbing, lifting, balancing, walking, stooping, and handling of materials.',\n",
    "          'Rank by Importance': 20}\n",
    "wac_39 = {'Work Activity': 'Repairing and Maintaining Mechanical Equipment', \n",
    "          'Work Activity Description': 'Servicing, repairing, adjusting, and testing machines, devices, moving parts, and equipment that operate primarily on the basis of mechanical (not electronic) principles.',\n",
    "          'Rank by Importance': 19}"
   ]
  },
  {
   "cell_type": "code",
   "execution_count": 47,
   "metadata": {
    "hidden": true
   },
   "outputs": [],
   "source": [
    "# put together all of the the things stored\n",
    "list_of_wac_entries = [wac_02, wac_03, wac_04, wac_05, wac_06, wac_07, wac_08, wac_09, wac_10, wac_11, wac_12, wac_13, \n",
    "                       wac_14, wac_15, wac_16, wac_17, wac_18, wac_19, wac_20, wac_21, wac_22, wac_23, wac_24, wac_25, \n",
    "                       wac_26, wac_27, wac_28, wac_29, wac_30, wac_31, wac_32, wac_33, wac_34, wac_35, wac_36, wac_37, \n",
    "                       wac_38, wac_39]"
   ]
  },
  {
   "cell_type": "code",
   "execution_count": 48,
   "metadata": {
    "hidden": true
   },
   "outputs": [],
   "source": [
    "# put all of the stored items into the bin\n",
    "results_2 = waCollection.insert_many(list_of_wac_entries)"
   ]
  },
  {
   "cell_type": "code",
   "execution_count": 49,
   "metadata": {
    "hidden": true
   },
   "outputs": [
    {
     "data": {
      "text/plain": [
       "[ObjectId('5f751e34ec9782c79f7f8c11'),\n",
       " ObjectId('5f751e34ec9782c79f7f8c12'),\n",
       " ObjectId('5f751e34ec9782c79f7f8c13'),\n",
       " ObjectId('5f751e34ec9782c79f7f8c14'),\n",
       " ObjectId('5f751e34ec9782c79f7f8c15'),\n",
       " ObjectId('5f751e34ec9782c79f7f8c16'),\n",
       " ObjectId('5f751e34ec9782c79f7f8c17'),\n",
       " ObjectId('5f751e34ec9782c79f7f8c18'),\n",
       " ObjectId('5f751e34ec9782c79f7f8c19'),\n",
       " ObjectId('5f751e34ec9782c79f7f8c1a'),\n",
       " ObjectId('5f751e34ec9782c79f7f8c1b'),\n",
       " ObjectId('5f751e34ec9782c79f7f8c1c'),\n",
       " ObjectId('5f751e34ec9782c79f7f8c1d'),\n",
       " ObjectId('5f751e34ec9782c79f7f8c1e'),\n",
       " ObjectId('5f751e34ec9782c79f7f8c1f'),\n",
       " ObjectId('5f751e34ec9782c79f7f8c20'),\n",
       " ObjectId('5f751e34ec9782c79f7f8c21'),\n",
       " ObjectId('5f751e34ec9782c79f7f8c22'),\n",
       " ObjectId('5f751e34ec9782c79f7f8c23'),\n",
       " ObjectId('5f751e34ec9782c79f7f8c24'),\n",
       " ObjectId('5f751e34ec9782c79f7f8c25'),\n",
       " ObjectId('5f751e34ec9782c79f7f8c26'),\n",
       " ObjectId('5f751e34ec9782c79f7f8c27'),\n",
       " ObjectId('5f751e34ec9782c79f7f8c28'),\n",
       " ObjectId('5f751e34ec9782c79f7f8c29'),\n",
       " ObjectId('5f751e34ec9782c79f7f8c2a'),\n",
       " ObjectId('5f751e34ec9782c79f7f8c2b'),\n",
       " ObjectId('5f751e34ec9782c79f7f8c2c'),\n",
       " ObjectId('5f751e34ec9782c79f7f8c2d'),\n",
       " ObjectId('5f751e34ec9782c79f7f8c2e'),\n",
       " ObjectId('5f751e34ec9782c79f7f8c2f'),\n",
       " ObjectId('5f751e34ec9782c79f7f8c30'),\n",
       " ObjectId('5f751e34ec9782c79f7f8c31'),\n",
       " ObjectId('5f751e34ec9782c79f7f8c32'),\n",
       " ObjectId('5f751e34ec9782c79f7f8c33'),\n",
       " ObjectId('5f751e34ec9782c79f7f8c34'),\n",
       " ObjectId('5f751e34ec9782c79f7f8c35'),\n",
       " ObjectId('5f751e34ec9782c79f7f8c36')]"
      ]
     },
     "execution_count": 49,
     "metadata": {},
     "output_type": "execute_result"
    }
   ],
   "source": [
    "# check to make sure items went into bin\n",
    "results_2.inserted_ids"
   ]
  },
  {
   "cell_type": "code",
   "execution_count": 5,
   "metadata": {
    "hidden": true
   },
   "outputs": [
    {
     "name": "stdout",
     "output_type": "stream",
     "text": [
      "{'_id': ObjectId('5f73a385ec9782c79f7f8bca'), 'Work Activity': 'Interacting With Computers', 'Work Activity Description': 'Using computers and computer systems (including hardware and software) to program, write software, set up functions, enter data, or process information.', 'Rank by Importance': 99}\n",
      "{'_id': ObjectId('5f751e34ec9782c79f7f8c11'), 'Work Activity': 'Making Decisions and Solving Problems', 'Work Activity Description': 'Analyzing information and evaluating results to choose the best solution and solve problems.', 'Rank by Importance': 91}\n",
      "{'_id': ObjectId('5f751e34ec9782c79f7f8c12'), 'Work Activity': 'Getting Information', 'Work Activity Description': 'Observing, receiving, and otherwise obtaining information from all relevant sources.', 'Rank by Importance': 91}\n",
      "{'_id': ObjectId('5f751e34ec9782c79f7f8c13'), 'Work Activity': 'Updating and Using Relevant Knowledge', 'Work Activity Description': 'Keeping up-to-date technically and applying new knowledge to your job.', 'Rank by Importance': 89}\n",
      "{'_id': ObjectId('5f751e34ec9782c79f7f8c14'), 'Work Activity': 'Analyzing Data or Information', 'Work Activity Description': 'Identifying the underlying principles, reasons, or facts of information by breaking down information or data into separate parts.', 'Rank by Importance': 89}\n",
      "{'_id': ObjectId('5f751e34ec9782c79f7f8c15'), 'Work Activity': 'Thinking Creatively', 'Work Activity Description': 'Developing, designing, or creating new applications, ideas, relationships, systems, or products, including artistic contributions.', 'Rank by Importance': 88}\n",
      "{'_id': ObjectId('5f751e34ec9782c79f7f8c16'), 'Work Activity': 'Documenting/Recording Information', 'Work Activity Description': 'Entering, transcribing, recording, storing, or maintaining information in written or electronic/magnetic form.', 'Rank by Importance': 84}\n",
      "{'_id': ObjectId('5f751e34ec9782c79f7f8c17'), 'Work Activity': 'Processing Information', 'Work Activity Description': 'Compiling, coding, categorizing, calculating, tabulating, auditing, or verifying information or data.', 'Rank by Importance': 83}\n",
      "{'_id': ObjectId('5f751e34ec9782c79f7f8c18'), 'Work Activity': 'Identifying Objects, Actions, and Events', 'Work Activity Description': 'Identifying information by categorizing, estimating, recognizing differences or similarities, and detecting changes in circumstances or events.', 'Rank by Importance': 83}\n",
      "{'_id': ObjectId('5f751e34ec9782c79f7f8c19'), 'Work Activity': 'Communicating with Supervisors, Peers, or Subordinates', 'Work Activity Description': 'Providing information to supervisors, co-workers, and subordinates by telephone, in written form, e-mail, or in person.', 'Rank by Importance': 83}\n",
      "{'_id': ObjectId('5f751e34ec9782c79f7f8c1a'), 'Work Activity': 'Interpreting the Meaning of Information for Others', 'Work Activity Description': 'Translating or explaining what information means and how it can be used.', 'Rank by Importance': 82}\n",
      "{'_id': ObjectId('5f751e34ec9782c79f7f8c1b'), 'Work Activity': 'Communicating with Persons Outside Organization', 'Work Activity Description': 'Communicating with people outside the organization, representing the organization to customers, the public, government, and other external sources. This information can be exchanged in person, in writing, or by telephone or e-mail.', 'Rank by Importance': 81}\n",
      "{'_id': ObjectId('5f751e34ec9782c79f7f8c1c'), 'Work Activity': 'Estimating the Quantifiable Characteristics of Products, Events, or Information', 'Work Activity Description': 'Estimating sizes, distances, and quantities; or determining time, costs, resources, or materials needed to perform a work activity.', 'Rank by Importance': 80}\n",
      "{'_id': ObjectId('5f751e34ec9782c79f7f8c1d'), 'Work Activity': 'Establishing and Maintaining Interpersonal Relationships', 'Work Activity Description': 'Developing constructive and cooperative working relationships with others, and maintaining them over time.', 'Rank by Importance': 69}\n",
      "{'_id': ObjectId('5f751e34ec9782c79f7f8c1e'), 'Work Activity': 'Developing Objectives and Strategies', 'Work Activity Description': 'Establishing long-range objectives and specifying the strategies and actions to achieve them.', 'Rank by Importance': 68}\n",
      "{'_id': ObjectId('5f751e34ec9782c79f7f8c1f'), 'Work Activity': 'Organizing, Planning, and Prioritizing Work', 'Work Activity Description': 'Developing specific goals and plans to prioritize, organize, and accomplish your work.', 'Rank by Importance': 67}\n",
      "{'_id': ObjectId('5f751e34ec9782c79f7f8c20'), 'Work Activity': 'Judging the Qualities of Things, Services, or People', 'Work Activity Description': 'Assessing the value, importance, or quality of things or people.', 'Rank by Importance': 64}\n",
      "{'_id': ObjectId('5f751e34ec9782c79f7f8c21'), 'Work Activity': 'Evaluating Information to Determine Compliance with Standards', 'Work Activity Description': 'Using relevant information and individual judgment to determine whether events or processes comply with laws, regulations, or standards.', 'Rank by Importance': 64}\n",
      "{'_id': ObjectId('5f751e34ec9782c79f7f8c22'), 'Work Activity': 'Scheduling Work and Activities', 'Work Activity Description': 'Scheduling events, programs, and activities, as well as the work of others.', 'Rank by Importance': 60}\n",
      "{'_id': ObjectId('5f751e34ec9782c79f7f8c23'), 'Work Activity': 'Provide Consultation and Advice to Others', 'Work Activity Description': 'Providing guidance and expert advice to management or other groups on technical, systems-, or process-related topics.', 'Rank by Importance': 57}\n",
      "{'_id': ObjectId('5f751e34ec9782c79f7f8c24'), 'Work Activity': 'Training and Teaching Others', 'Work Activity Description': 'Identifying the educational needs of others, developing formal educational or training programs or classes, and teaching or instructing others.', 'Rank by Importance': 55}\n",
      "{'_id': ObjectId('5f751e34ec9782c79f7f8c25'), 'Work Activity': 'Monitor Processes, Materials, or Surroundings', 'Work Activity Description': 'Monitoring and reviewing information from materials, events, or the environment, to detect or assess problems.', 'Rank by Importance': 51}\n",
      "{'_id': ObjectId('5f751e34ec9782c79f7f8c26'), 'Work Activity': 'Developing and Building Teams', 'Work Activity Description': 'Encouraging and building mutual trust, respect, and cooperation among team members.', 'Rank by Importance': 47}\n",
      "{'_id': ObjectId('5f751e34ec9782c79f7f8c27'), 'Work Activity': 'Resolving Conflicts and Negotiating with Others', 'Work Activity Description': 'Handling complaints, settling disputes, and resolving grievances and conflicts, or otherwise negotiating with others.', 'Rank by Importance': 46}\n",
      "{'_id': ObjectId('5f751e34ec9782c79f7f8c28'), 'Work Activity': 'Coordinating the Work and Activities of Others', 'Work Activity Description': 'Getting members of a group to work together to accomplish tasks.', 'Rank by Importance': 46}\n",
      "{'_id': ObjectId('5f751e34ec9782c79f7f8c29'), 'Work Activity': 'Monitoring and Controlling Resources', 'Work Activity Description': 'Monitoring and controlling resources and overseeing the spending of money.', 'Rank by Importance': 43}\n",
      "{'_id': ObjectId('5f751e34ec9782c79f7f8c2a'), 'Work Activity': 'Inspecting Equipment, Structures, or Material', 'Work Activity Description': 'Inspecting equipment, structures, or materials to identify the cause of errors or other problems or defects.', 'Rank by Importance': 42}\n",
      "{'_id': ObjectId('5f751e34ec9782c79f7f8c2b'), 'Work Activity': 'Guiding, Directing, and Motivating Subordinates', 'Work Activity Description': 'Providing guidance and direction to subordinates, including setting performance standards and monitoring performance.', 'Rank by Importance': 41}\n",
      "{'_id': ObjectId('5f751e34ec9782c79f7f8c2c'), 'Work Activity': 'Preforming Administrative Activities', 'Work Activity Description': 'Performing day-to-day administrative tasks such as maintaining information files and processing paperwork.', 'Rank by Importance': 38}\n",
      "{'_id': ObjectId('5f751e34ec9782c79f7f8c2d'), 'Work Activity': 'Controlling Machines and Processes', 'Work Activity Description': 'Using either control mechanisms or direct physical activity to operate machines or processes (not including computers or vehicles).', 'Rank by Importance': 36}\n",
      "{'_id': ObjectId('5f751e34ec9782c79f7f8c2e'), 'Work Activity': 'Coaching and Developing Others', 'Work Activity Description': 'Identifying the developmental needs of others and coaching, mentoring, or otherwise helping others to improve their knowledge or skills.', 'Rank by Importance': 33}\n",
      "{'_id': ObjectId('5f751e34ec9782c79f7f8c2f'), 'Work Activity': 'Repairing and Maintaining Electronic Equipment', 'Work Activity Description': 'Servicing, repairing, calibrating, regulating, fine-tuning, or testing machines, devices, and equipment that operate primarily on the basis of electrical or electronic (not mechanical) principles.', 'Rank by Importance': 31}\n",
      "{'_id': ObjectId('5f751e34ec9782c79f7f8c30'), 'Work Activity': 'Selling or Influencing Others', 'Work Activity Description': 'Convincing others to buy merchandise/goods or to otherwise change their minds or actions.', 'Rank by Importance': 31}\n",
      "{'_id': ObjectId('5f751e34ec9782c79f7f8c31'), 'Work Activity': 'Staffing Organizational Units', 'Work Activity Description': 'Recruiting, interviewing, selecting, hiring, and promoting employees in an organization.', 'Rank by Importance': 31}\n",
      "{'_id': ObjectId('5f751e34ec9782c79f7f8c32'), 'Work Activity': 'Assisting and Caring for Others', 'Work Activity Description': 'Providing personal assistance, medical attention, emotional support, or other personal care to others such as coworkers, customers, or patients.', 'Rank by Importance': 30}\n",
      "{'_id': ObjectId('5f751e34ec9782c79f7f8c33'), 'Work Activity': 'Drafting, Laying Out, and Specifying Technical Devices, Parts, and Equipment', 'Work Activity Description': 'Providing documentation, detailed instructions, drawings, or specifications to tell others about how devices, parts, equipment, or structures are to be fabricated, constructed, assembled, modified, maintained, or used.', 'Rank by Importance': 29}\n",
      "{'_id': ObjectId('5f751e34ec9782c79f7f8c34'), 'Work Activity': 'Performing for or Working Directly with the Public', 'Work Activity Description': 'Performing for people or dealing directly with the public. This includes serving customers in restaurants and stores, and receiving clients or guests.', 'Rank by Importance': 24}\n",
      "{'_id': ObjectId('5f751e34ec9782c79f7f8c35'), 'Work Activity': 'Performing General Physical Activities', 'Work Activity Description': 'Performing physical activities that require considerable use of your arms and legs and moving your whole body, such as climbing, lifting, balancing, walking, stooping, and handling of materials.', 'Rank by Importance': 20}\n",
      "{'_id': ObjectId('5f751e34ec9782c79f7f8c36'), 'Work Activity': 'Repairing and Maintaining Mechanical Equipment', 'Work Activity Description': 'Servicing, repairing, adjusting, and testing machines, devices, moving parts, and equipment that operate primarily on the basis of mechanical (not electronic) principles.', 'Rank by Importance': 19}\n"
     ]
    }
   ],
   "source": [
    "# call information back from database\n",
    "query_one = waCollection.find({})\n",
    "for x in query_one:\n",
    "    print(x)"
   ]
  },
  {
   "cell_type": "markdown",
   "metadata": {
    "heading_collapsed": true
   },
   "source": [
    "### Typical Work Styles"
   ]
  },
  {
   "cell_type": "code",
   "execution_count": 6,
   "metadata": {
    "hidden": true
   },
   "outputs": [],
   "source": [
    "# initialize a bin\n",
    "wsCollection = mydb['Work_Styles']"
   ]
  },
  {
   "cell_type": "code",
   "execution_count": 29,
   "metadata": {
    "hidden": true
   },
   "outputs": [],
   "source": [
    "# store the things to go into the bin\n",
    "wsc_01 = {'Work Style': 'Analytical Thinking', \n",
    "          'Work Style Description': 'Job requires analyzing information and using logic to address work related issues and problems.',\n",
    "          'Rank by Importance': 90}\n",
    "wsc_02 = {'Work Style': 'Cooperation', \n",
    "          'Work Style Description': 'Job requires being pleasant with others on the job and displaying a good-natured, cooperative attitude.',\n",
    "          'Rank by Importance': 79}\n",
    "wsc_03 = {'Work Style': 'Attention to Detail', \n",
    "          'Work Style Description': 'Job requires being careful about detail and thorough in completing work tasks.',\n",
    "          'Rank by Importance': 76}\n",
    "wsc_04 = {'Work Style': 'Independence', \n",
    "          'Work Style Description': \"Job requires developing one's own ways of doing things, guiding oneself with little or no supervision, and depending on oneself to get things done.\",\n",
    "          'Rank by Importance': 75}\n",
    "wsc_05 = {'Work Style': 'Achievement/Effort', \n",
    "          'Work Style Description': 'Job requires establishing and maintaining personally challenging achievement goals and exerting effort toward mastering tasks.',\n",
    "          'Rank by Importance': 74}\n",
    "wsc_06 = {'Work Style': 'Initiative', \n",
    "          'Work Style Description': 'Job requires a willingness to take on responsibilities and challenges.',\n",
    "          'Rank by Importance': 74}\n",
    "wsc_07 = {'Work Style': 'Innovation', \n",
    "          'Work Style Description': 'Job requires creativity and alternative thinking to develop new ideas for and answers to work-related problems.',\n",
    "          'Rank by Importance': 73}\n",
    "wsc_08 = {'Work Style': 'Integrity', \n",
    "          'Work Style Description': 'Job requires being honest and ethical.',\n",
    "          'Rank by Importance': 73}\n",
    "wsc_09 = {'Work Style': 'Adaptability/Flexibility', \n",
    "          'Work Style Description': 'Job requires being open to change (positive or negative) and to considerable variety in the workplace.',\n",
    "          'Rank by Importance': 72}\n",
    "wsc_10 = {'Work Style': 'Dependability',\n",
    "          'Work Style Description': 'Job requires being reliable, responsible, and dependable, and fulfilling obligations.',\n",
    "          'Rank by Importance': 68}\n",
    "wsc_11 = {'Work Style': 'Persistence', \n",
    "          'Work Style Description': 'Job requires persistence in the face of obstacles.',\n",
    "          'Rank by Importance': 68}\n",
    "wsc_12 = {'Work Style': 'Stress Tolerance', \n",
    "          'Work Style Description': 'Job requires accepting criticism and dealing calmly and effectively with high stress situations.',\n",
    "          'Rank by Importance': 66}\n",
    "wsc_13 = {'Work Style': 'Leadership', \n",
    "          'Work Style Description': 'Job requires a willingness to lead, take charge, and offer opinions and direction.',\n",
    "          'Rank by Importance': 65}\n",
    "wsc_14 = {'Work Style': 'Concern for Others', \n",
    "          'Work Style Description': \"Job requires being sensitive to others' needs and feelings and being understanding and helpful on the job.\",\n",
    "          'Rank by Importance': 56}\n",
    "wsc_15 = {'Work Style': 'Social Orientation', \n",
    "          'Work Style Description': 'Job requires preferring to work with others rather than alone, and being personally connected with others on the job.',\n",
    "          'Rank by Importance': 52}\n",
    "wsc_16 = {'Work Style': 'Self Control', \n",
    "          'Work Style Description': 'Job requires maintaining composure, keeping emotions in check, controlling anger, and avoiding aggressive behavior, even in very difficult situations.',\n",
    "          'Rank by Importance': 50}"
   ]
  },
  {
   "cell_type": "code",
   "execution_count": 30,
   "metadata": {
    "hidden": true
   },
   "outputs": [],
   "source": [
    "# put together all of the the things stored\n",
    "list_of_wsc_entries = [wsc_01, wsc_02, wsc_03, wsc_04, wsc_05, wsc_06, wsc_07, wsc_08, wsc_09, wsc_10, wsc_11, wsc_12, \n",
    "                       wsc_13, wsc_14, wsc_15, wsc_16]"
   ]
  },
  {
   "cell_type": "code",
   "execution_count": 36,
   "metadata": {
    "hidden": true
   },
   "outputs": [],
   "source": [
    "# put all of the stored items into the bin\n",
    "results_3 = wsCollection.insert_many(list_of_wsc_entries)"
   ]
  },
  {
   "cell_type": "code",
   "execution_count": 37,
   "metadata": {
    "hidden": true
   },
   "outputs": [
    {
     "data": {
      "text/plain": [
       "[ObjectId('5f751cb6ec9782c79f7f8c01'),\n",
       " ObjectId('5f751cb6ec9782c79f7f8c02'),\n",
       " ObjectId('5f751cb6ec9782c79f7f8c03'),\n",
       " ObjectId('5f751cb6ec9782c79f7f8c04'),\n",
       " ObjectId('5f751cb6ec9782c79f7f8c05'),\n",
       " ObjectId('5f751cb6ec9782c79f7f8c06'),\n",
       " ObjectId('5f751cb6ec9782c79f7f8c07'),\n",
       " ObjectId('5f751cb6ec9782c79f7f8c08'),\n",
       " ObjectId('5f751cb6ec9782c79f7f8c09'),\n",
       " ObjectId('5f751cb6ec9782c79f7f8c0a'),\n",
       " ObjectId('5f751cb6ec9782c79f7f8c0b'),\n",
       " ObjectId('5f751cb6ec9782c79f7f8c0c'),\n",
       " ObjectId('5f751cb6ec9782c79f7f8c0d'),\n",
       " ObjectId('5f751cb6ec9782c79f7f8c0e'),\n",
       " ObjectId('5f751cb6ec9782c79f7f8c0f'),\n",
       " ObjectId('5f751cb6ec9782c79f7f8c10')]"
      ]
     },
     "execution_count": 37,
     "metadata": {},
     "output_type": "execute_result"
    }
   ],
   "source": [
    "# check to make sure items went into bin\n",
    "results_3.inserted_ids"
   ]
  },
  {
   "cell_type": "code",
   "execution_count": 7,
   "metadata": {
    "hidden": true
   },
   "outputs": [
    {
     "name": "stdout",
     "output_type": "stream",
     "text": [
      "{'_id': ObjectId('5f751cb6ec9782c79f7f8c01'), 'Work Style': 'Analytical Thinking', 'Work Style Description': 'Job requires analyzing information and using logic to address work related issues and problems.', 'Rank by Importance': 90}\n",
      "{'_id': ObjectId('5f751cb6ec9782c79f7f8c02'), 'Work Style': 'Cooperation', 'Work Style Description': 'Job requires being pleasant with others on the job and displaying a good-natured, cooperative attitude.', 'Rank by Importance': 79}\n",
      "{'_id': ObjectId('5f751cb6ec9782c79f7f8c03'), 'Work Style': 'Attention to Detail', 'Work Style Description': 'Job requires being careful about detail and thorough in completing work tasks.', 'Rank by Importance': 76}\n",
      "{'_id': ObjectId('5f751cb6ec9782c79f7f8c04'), 'Work Style': 'Independence', 'Work Style Description': \"Job requires developing one's own ways of doing things, guiding oneself with little or no supervision, and depending on oneself to get things done.\", 'Rank by Importance': 75}\n",
      "{'_id': ObjectId('5f751cb6ec9782c79f7f8c05'), 'Work Style': 'Achievement/Effort', 'Work Style Description': 'Job requires establishing and maintaining personally challenging achievement goals and exerting effort toward mastering tasks.', 'Rank by Importance': 74}\n",
      "{'_id': ObjectId('5f751cb6ec9782c79f7f8c06'), 'Work Style': 'Initiative', 'Work Style Description': 'Job requires a willingness to take on responsibilities and challenges.', 'Rank by Importance': 74}\n",
      "{'_id': ObjectId('5f751cb6ec9782c79f7f8c07'), 'Work Style': 'Innovation', 'Work Style Description': 'Job requires creativity and alternative thinking to develop new ideas for and answers to work-related problems.', 'Rank by Importance': 73}\n",
      "{'_id': ObjectId('5f751cb6ec9782c79f7f8c08'), 'Work Style': 'Integrity', 'Work Style Description': 'Job requires being honest and ethical.', 'Rank by Importance': 73}\n",
      "{'_id': ObjectId('5f751cb6ec9782c79f7f8c09'), 'Work Style': 'Adaptability/Flexibility', 'Work Style Description': 'Job requires being open to change (positive or negative) and to considerable variety in the workplace.', 'Rank by Importance': 72}\n",
      "{'_id': ObjectId('5f751cb6ec9782c79f7f8c0a'), 'Work Style': 'Dependability', 'Work Style Description': 'Job requires being reliable, responsible, and dependable, and fulfilling obligations.', 'Rank by Importance': 68}\n",
      "{'_id': ObjectId('5f751cb6ec9782c79f7f8c0b'), 'Work Style': 'Persistence', 'Work Style Description': 'Job requires persistence in the face of obstacles.', 'Rank by Importance': 68}\n",
      "{'_id': ObjectId('5f751cb6ec9782c79f7f8c0c'), 'Work Style': 'Stress Tolerance', 'Work Style Description': 'Job requires accepting criticism and dealing calmly and effectively with high stress situations.', 'Rank by Importance': 66}\n",
      "{'_id': ObjectId('5f751cb6ec9782c79f7f8c0d'), 'Work Style': 'Leadership', 'Work Style Description': 'Job requires a willingness to lead, take charge, and offer opinions and direction.', 'Rank by Importance': 65}\n",
      "{'_id': ObjectId('5f751cb6ec9782c79f7f8c0e'), 'Work Style': 'Concern for Others', 'Work Style Description': \"Job requires being sensitive to others' needs and feelings and being understanding and helpful on the job.\", 'Rank by Importance': 56}\n",
      "{'_id': ObjectId('5f751cb6ec9782c79f7f8c0f'), 'Work Style': 'Social Orientation', 'Work Style Description': 'Job requires preferring to work with others rather than alone, and being personally connected with others on the job.', 'Rank by Importance': 52}\n",
      "{'_id': ObjectId('5f751cb6ec9782c79f7f8c10'), 'Work Style': 'Self Control', 'Work Style Description': 'Job requires maintaining composure, keeping emotions in check, controlling anger, and avoiding aggressive behavior, even in very difficult situations.', 'Rank by Importance': 50}\n"
     ]
    }
   ],
   "source": [
    "# call information back from database\n",
    "query_two = wsCollection.find({})\n",
    "for x in query_two:\n",
    "    print(x)"
   ]
  },
  {
   "cell_type": "markdown",
   "metadata": {
    "heading_collapsed": true
   },
   "source": [
    "### Typical Work Abilities"
   ]
  },
  {
   "cell_type": "code",
   "execution_count": 8,
   "metadata": {
    "hidden": true
   },
   "outputs": [],
   "source": [
    "# initialize a bin\n",
    "wabCollection = mydb['Work_Abilities']"
   ]
  },
  {
   "cell_type": "code",
   "execution_count": 55,
   "metadata": {
    "hidden": true
   },
   "outputs": [],
   "source": [
    "# store the things to go into the bin\n",
    "wabc_01 = {'Work Ability': 'Deductive Reasoning', \n",
    "           'Work Ability Description': 'The ability to apply general rules to specific problems to produce answers that make sense.',\n",
    "           'Rank by Importance': 78}\n",
    "wabc_02 = {'Work Ability': 'Inductive Reasoning', \n",
    "           'Work Ability Description': 'The ability to combine pieces of information to form general rules or conclusions (includes finding a relationship among seemingly unrelated events).',\n",
    "           'Rank by Importance': 78}\n",
    "wabc_03 = {'Work Ability': 'Oral Comprehension', \n",
    "           'Work Ability Description': 'The ability to listen to and understand information and ideas presented through spoken words and sentences.',\n",
    "           'Rank by Importance': 75}\n",
    "wabc_04 = {'Work Ability': 'Oral Expression', \n",
    "           'Work Ability Description': 'The ability to communicate information and ideas in speaking so others will understand.',\n",
    "           'Rank by Importance': 75}\n",
    "wabc_05 = {'Work Ability': 'Fluency of Ideas', \n",
    "           'Work Ability Description': 'The ability to come up with a number of ideas about a topic (the number of ideas is important, not their quality, correctness, or creativity).',\n",
    "           'Rank by Importance': 72}\n",
    "wabc_06 = {'Work Ability': 'Problem Sensitivity', \n",
    "           'Work Ability Description': 'The ability to tell when something is wrong or is likely to go wrong. It does not involve solving the problem, only recognizing there is a problem.',\n",
    "           'Rank by Importance': 72}\n",
    "wabc_07 = {'Work Ability': 'Written Comprehension', \n",
    "           'Work Ability Description': 'The ability to read and understand information and ideas presented in writing.',\n",
    "           'Rank by Importance': 72}\n",
    "wabc_08 = {'Work Ability': 'Category Flexibility', \n",
    "           'Work Ability Description': 'The ability to generate or use different sets of rules for combining or grouping things in different ways.',\n",
    "           'Rank by Importance': 69}\n",
    "wabc_09 = {'Work Ability': 'Information Ordering', \n",
    "           'Work Ability Description': 'The ability to arrange things or actions in a certain order or pattern according to a specific rule or set of rules (e.g., patterns of numbers, letters, words, pictures, mathematical operations).',\n",
    "           'Rank by Importance': 69}\n",
    "wabc_10 = {'Work Ability': 'Near Vision', \n",
    "           'Work Ability Description': 'The ability to see details at close range (within a few feet of the observer).',\n",
    "           'Rank by Importance': 69}\n",
    "wabc_11 = {'Work Ability': 'Written Expression', \n",
    "           'Work Ability Description': 'The ability to communicate information and ideas in writing so others will understand.',\n",
    "           'Rank by Importance': 69}\n",
    "wabc_12 = {'Work Ability': 'Originality', \n",
    "           'Work Ability Description': 'The ability to come up with unusual or clever ideas about a given topic or situation, or to develop creative ways to solve a problem.',\n",
    "           'Rank by Importance': 66}\n",
    "wabc_13 = {'Work Ability': 'Mathematical Reasoning', \n",
    "           'Work Ability Description': 'The ability to choose the right mathematical methods or formulas to solve a problem.',\n",
    "           'Rank by Importance': 60}\n",
    "wabc_14 = {'Work Ability': 'Number Facility', \n",
    "           'Work Ability Description': 'The ability to add, subtract, multiply, or divide quickly and correctly.',\n",
    "           'Rank by Importance': 56}\n",
    "wabc_15 = {'Work Ability': 'Speech Clarity', \n",
    "           'Work Ability Description': 'The ability to speak clearly so others can understand you.',\n",
    "           'Rank by Importance': 56}\n",
    "wabc_16 = {'Work Ability': 'Speech Recognition', \n",
    "           'Work Ability Description': 'The ability to identify and understand the speech of another person.',\n",
    "           'Rank by Importance': 56}\n",
    "wabc_17 = {'Work Ability': 'Visualization', \n",
    "           'Work Ability Description': 'The ability to imagine how something will look after it is moved around or when its parts are moved or rearranged.',\n",
    "           'Rank by Importance': 56}\n",
    "wabc_18 = {'Work Ability': 'Flexibility of Closure', \n",
    "           'Work Ability Description': 'The ability to identify or detect a known pattern (a figure, object, word, or sound) that is hidden in other distracting material.',\n",
    "           'Rank by Importance': 50}\n",
    "wabc_19 = {'Work Ability': 'Perceptual Speed', \n",
    "           'Work Ability Description': 'The ability to quickly and accurately compare similarities and differences among sets of letters, numbers, objects, pictures, or patterns. The things to be compared may be presented at the same time or one after the other. This ability also includes comparing a presented object with a remembered object.',\n",
    "           'Rank by Importance': 50}\n",
    "wabc_20 = {'Work Ability': 'Memorization', \n",
    "           'Work Ability Description': 'The ability to remember information such as words, numbers, pictures, and procedures.',\n",
    "           'Rank by Importance': 47}\n",
    "wabc_21 = {'Work Ability': 'Selective Attention', \n",
    "           'Work Ability Description': 'The ability to concentrate on a task over a period of time without being distracted.',\n",
    "           'Rank by Importance': 47}\n",
    "wabc_22 = {'Work Ability': 'Speed of Closure', \n",
    "           'Work Ability Description': 'The ability to quickly make sense of, combine, and organize information into meaningful patterns.',\n",
    "           'Rank by Importance': 47}\n",
    "wabc_23 = {'Work Ability': 'Far Vision', \n",
    "           'Work Ability Description': 'The ability to see details at a distance.',\n",
    "           'Rank by Importance': 41}\n",
    "wabc_24 = {'Work Ability': 'Finger Dexterity', \n",
    "           'Work Ability Description': 'The ability to make precisely coordinated movements of the fingers of one or both hands to grasp, manipulate, or assemble very small objects.',\n",
    "           'Rank by Importance': 41}\n",
    "wabc_25 = {'Work Ability': 'Time Sharing', \n",
    "           'Work Ability Description': 'The ability to shift back and forth between two or more activities or sources of information (such as speech, sounds, touch, or other sources).',\n",
    "           'Rank by Importance': 38}\n",
    "wabc_26 = {'Work Ability': 'Hearing Sensitivity', \n",
    "           'Work Ability Description': 'The ability to detect or tell the differences between sounds that vary in pitch and loudness.',\n",
    "           'Rank by Importance': 28}\n",
    "wabc_27 = {'Work Ability': 'Arm-Hand Steadiness', \n",
    "           'Work Ability Description': 'The ability to keep your hand and arm steady while moving your arm or while holding your arm and hand in one position.',\n",
    "           'Rank by Importance': 25}\n",
    "wabc_28 = {'Work Ability': 'Auditory Attention', \n",
    "           'Work Ability Description': 'The ability to focus on a single source of sound in the presence of other distracting sounds.',\n",
    "           'Rank by Importance': 25}\n",
    "wabc_29 = {'Work Ability': 'Control Precision', \n",
    "           'Work Ability Description': 'The ability to quickly and repeatedly adjust the controls of a machine or a vehicle to exact positions.',\n",
    "           'Rank by Importance': 25}\n",
    "wabc_30 = {'Work Ability': 'Manual Dexterity', \n",
    "           'Work Ability Description': 'The ability to quickly move your hand, your hand together with your arm, or your two hands to grasp, manipulate, or assemble objects.',\n",
    "           'Rank by Importance': 25}\n",
    "wabc_31 = {'Work Ability': 'Visual Color Discrimination', \n",
    "           'Work Ability Description': 'The ability to match or detect differences between colors, including shades of color and brightness.',\n",
    "           'Rank by Importance': 25}\n",
    "wabc_32 = {'Work Ability': 'Trunk Strength', \n",
    "           'Work Ability Description': \"The ability to use your abdominal and lower back muscles to support part of the body repeatedly or continuously over time without 'giving out' or fatiguing.\",\n",
    "           'Rank by Importance': 22}\n",
    "wabc_33 = {'Work Ability': 'Wrist-Finger Speed', \n",
    "           'Work Ability Description': 'The ability to make fast, simple, repeated movements of the fingers, hands, and wrists.',\n",
    "           'Rank by Importance': 22}\n",
    "wabc_34 = {'Work Ability': 'Depth Perception', \n",
    "           'Work Ability Description': 'The ability to judge which of several objects is closer or farther away from you, or to judge the distance between you and an object.',\n",
    "           'Rank by Importance': 19}\n",
    "wabc_35 = {'Work Ability': 'Response Orientation', \n",
    "           'Work Ability Description': 'The ability to choose quickly between two or more movements in response to two or more different signals (lights, sounds, pictures). It includes the speed with which the correct response is started with the hand, foot, or other body part.',\n",
    "           'Rank by Importance': 3}"
   ]
  },
  {
   "cell_type": "code",
   "execution_count": 56,
   "metadata": {
    "hidden": true
   },
   "outputs": [],
   "source": [
    "# put together all of the the things stored\n",
    "list_of_wabc_entries = [wabc_01, wabc_02, wabc_03, wabc_04, wabc_05, wabc_06, wabc_07, wabc_08, wabc_09, wabc_10, \n",
    "                        wabc_11, wabc_12, wabc_13, wabc_14, wabc_15, wabc_16, wabc_17, wabc_18, wabc_19, wabc_20, \n",
    "                        wabc_21, wabc_22, wabc_23, wabc_24, wabc_25, wabc_26, wabc_27, wabc_28, wabc_29, wabc_30, \n",
    "                        wabc_31, wabc_32, wabc_33, wabc_34, wabc_35]"
   ]
  },
  {
   "cell_type": "code",
   "execution_count": 57,
   "metadata": {
    "hidden": true
   },
   "outputs": [],
   "source": [
    "# put all of the stored items into the bin\n",
    "results_4 = wabCollection.insert_many(list_of_wabc_entries)"
   ]
  },
  {
   "cell_type": "code",
   "execution_count": 58,
   "metadata": {
    "hidden": true
   },
   "outputs": [
    {
     "data": {
      "text/plain": [
       "[ObjectId('5f765591ec9782c79f7f8c37'),\n",
       " ObjectId('5f765591ec9782c79f7f8c38'),\n",
       " ObjectId('5f765591ec9782c79f7f8c39'),\n",
       " ObjectId('5f765591ec9782c79f7f8c3a'),\n",
       " ObjectId('5f765591ec9782c79f7f8c3b'),\n",
       " ObjectId('5f765591ec9782c79f7f8c3c'),\n",
       " ObjectId('5f765591ec9782c79f7f8c3d'),\n",
       " ObjectId('5f765591ec9782c79f7f8c3e'),\n",
       " ObjectId('5f765591ec9782c79f7f8c3f'),\n",
       " ObjectId('5f765591ec9782c79f7f8c40'),\n",
       " ObjectId('5f765591ec9782c79f7f8c41'),\n",
       " ObjectId('5f765591ec9782c79f7f8c42'),\n",
       " ObjectId('5f765591ec9782c79f7f8c43'),\n",
       " ObjectId('5f765591ec9782c79f7f8c44'),\n",
       " ObjectId('5f765591ec9782c79f7f8c45'),\n",
       " ObjectId('5f765591ec9782c79f7f8c46'),\n",
       " ObjectId('5f765591ec9782c79f7f8c47'),\n",
       " ObjectId('5f765591ec9782c79f7f8c48'),\n",
       " ObjectId('5f765591ec9782c79f7f8c49'),\n",
       " ObjectId('5f765591ec9782c79f7f8c4a'),\n",
       " ObjectId('5f765591ec9782c79f7f8c4b'),\n",
       " ObjectId('5f765591ec9782c79f7f8c4c'),\n",
       " ObjectId('5f765591ec9782c79f7f8c4d'),\n",
       " ObjectId('5f765591ec9782c79f7f8c4e'),\n",
       " ObjectId('5f765591ec9782c79f7f8c4f'),\n",
       " ObjectId('5f765591ec9782c79f7f8c50'),\n",
       " ObjectId('5f765591ec9782c79f7f8c51'),\n",
       " ObjectId('5f765591ec9782c79f7f8c52'),\n",
       " ObjectId('5f765591ec9782c79f7f8c53'),\n",
       " ObjectId('5f765591ec9782c79f7f8c54'),\n",
       " ObjectId('5f765591ec9782c79f7f8c55'),\n",
       " ObjectId('5f765591ec9782c79f7f8c56'),\n",
       " ObjectId('5f765591ec9782c79f7f8c57'),\n",
       " ObjectId('5f765591ec9782c79f7f8c58'),\n",
       " ObjectId('5f765591ec9782c79f7f8c59')]"
      ]
     },
     "execution_count": 58,
     "metadata": {},
     "output_type": "execute_result"
    }
   ],
   "source": [
    "# check to make sure items went into bin\n",
    "results_4.inserted_ids"
   ]
  },
  {
   "cell_type": "code",
   "execution_count": 9,
   "metadata": {
    "hidden": true
   },
   "outputs": [
    {
     "name": "stdout",
     "output_type": "stream",
     "text": [
      "{'_id': ObjectId('5f765591ec9782c79f7f8c37'), 'Work Ability': 'Deductive Reasoning', 'Work Ability Description': 'The ability to apply general rules to specific problems to produce answers that make sense.', 'Rank by Importance': 78}\n",
      "{'_id': ObjectId('5f765591ec9782c79f7f8c38'), 'Work Ability': 'Inductive Reasoning', 'Work Ability Description': 'The ability to combine pieces of information to form general rules or conclusions (includes finding a relationship among seemingly unrelated events).', 'Rank by Importance': 78}\n",
      "{'_id': ObjectId('5f765591ec9782c79f7f8c39'), 'Work Ability': 'Oral Comprehension', 'Work Ability Description': 'The ability to listen to and understand information and ideas presented through spoken words and sentences.', 'Rank by Importance': 75}\n",
      "{'_id': ObjectId('5f765591ec9782c79f7f8c3a'), 'Work Ability': 'Oral Expression', 'Work Ability Description': 'The ability to communicate information and ideas in speaking so others will understand.', 'Rank by Importance': 75}\n",
      "{'_id': ObjectId('5f765591ec9782c79f7f8c3b'), 'Work Ability': 'Fluency of Ideas', 'Work Ability Description': 'The ability to come up with a number of ideas about a topic (the number of ideas is important, not their quality, correctness, or creativity).', 'Rank by Importance': 72}\n",
      "{'_id': ObjectId('5f765591ec9782c79f7f8c3c'), 'Work Ability': 'Problem Sensitivity', 'Work Ability Description': 'The ability to tell when something is wrong or is likely to go wrong. It does not involve solving the problem, only recognizing there is a problem.', 'Rank by Importance': 72}\n",
      "{'_id': ObjectId('5f765591ec9782c79f7f8c3d'), 'Work Ability': 'Written Comprehension', 'Work Ability Description': 'The ability to read and understand information and ideas presented in writing.', 'Rank by Importance': 72}\n",
      "{'_id': ObjectId('5f765591ec9782c79f7f8c3e'), 'Work Ability': 'Category Flexibility', 'Work Ability Description': 'The ability to generate or use different sets of rules for combining or grouping things in different ways.', 'Rank by Importance': 69}\n",
      "{'_id': ObjectId('5f765591ec9782c79f7f8c3f'), 'Work Ability': 'Information Ordering', 'Work Ability Description': 'The ability to arrange things or actions in a certain order or pattern according to a specific rule or set of rules (e.g., patterns of numbers, letters, words, pictures, mathematical operations).', 'Rank by Importance': 69}\n",
      "{'_id': ObjectId('5f765591ec9782c79f7f8c40'), 'Work Ability': 'Near Vision', 'Work Ability Description': 'The ability to see details at close range (within a few feet of the observer).', 'Rank by Importance': 69}\n",
      "{'_id': ObjectId('5f765591ec9782c79f7f8c41'), 'Work Ability': 'Written Expression', 'Work Ability Description': 'The ability to communicate information and ideas in writing so others will understand.', 'Rank by Importance': 69}\n",
      "{'_id': ObjectId('5f765591ec9782c79f7f8c42'), 'Work Ability': 'Originality', 'Work Ability Description': 'The ability to come up with unusual or clever ideas about a given topic or situation, or to develop creative ways to solve a problem.', 'Rank by Importance': 66}\n",
      "{'_id': ObjectId('5f765591ec9782c79f7f8c43'), 'Work Ability': 'Mathematical Reasoning', 'Work Ability Description': 'The ability to choose the right mathematical methods or formulas to solve a problem.', 'Rank by Importance': 60}\n",
      "{'_id': ObjectId('5f765591ec9782c79f7f8c44'), 'Work Ability': 'Number Facility', 'Work Ability Description': 'The ability to add, subtract, multiply, or divide quickly and correctly.', 'Rank by Importance': 56}\n",
      "{'_id': ObjectId('5f765591ec9782c79f7f8c45'), 'Work Ability': 'Speech Clarity', 'Work Ability Description': 'The ability to speak clearly so others can understand you.', 'Rank by Importance': 56}\n",
      "{'_id': ObjectId('5f765591ec9782c79f7f8c46'), 'Work Ability': 'Speech Recognition', 'Work Ability Description': 'The ability to identify and understand the speech of another person.', 'Rank by Importance': 56}\n",
      "{'_id': ObjectId('5f765591ec9782c79f7f8c47'), 'Work Ability': 'Visualization', 'Work Ability Description': 'The ability to imagine how something will look after it is moved around or when its parts are moved or rearranged.', 'Rank by Importance': 56}\n",
      "{'_id': ObjectId('5f765591ec9782c79f7f8c48'), 'Work Ability': 'Flexibility of Closure', 'Work Ability Description': 'The ability to identify or detect a known pattern (a figure, object, word, or sound) that is hidden in other distracting material.', 'Rank by Importance': 50}\n",
      "{'_id': ObjectId('5f765591ec9782c79f7f8c49'), 'Work Ability': 'Perceptual Speed', 'Work Ability Description': 'The ability to quickly and accurately compare similarities and differences among sets of letters, numbers, objects, pictures, or patterns. The things to be compared may be presented at the same time or one after the other. This ability also includes comparing a presented object with a remembered object.', 'Rank by Importance': 50}\n",
      "{'_id': ObjectId('5f765591ec9782c79f7f8c4a'), 'Work Ability': 'Memorization', 'Work Ability Description': 'The ability to remember information such as words, numbers, pictures, and procedures.', 'Rank by Importance': 47}\n",
      "{'_id': ObjectId('5f765591ec9782c79f7f8c4b'), 'Work Ability': 'Selective Attention', 'Work Ability Description': 'The ability to concentrate on a task over a period of time without being distracted.', 'Rank by Importance': 47}\n",
      "{'_id': ObjectId('5f765591ec9782c79f7f8c4c'), 'Work Ability': 'Speed of Closure', 'Work Ability Description': 'The ability to quickly make sense of, combine, and organize information into meaningful patterns.', 'Rank by Importance': 47}\n",
      "{'_id': ObjectId('5f765591ec9782c79f7f8c4d'), 'Work Ability': 'Far Vision', 'Work Ability Description': 'The ability to see details at a distance.', 'Rank by Importance': 41}\n",
      "{'_id': ObjectId('5f765591ec9782c79f7f8c4e'), 'Work Ability': 'Finger Dexterity', 'Work Ability Description': 'The ability to make precisely coordinated movements of the fingers of one or both hands to grasp, manipulate, or assemble very small objects.', 'Rank by Importance': 41}\n",
      "{'_id': ObjectId('5f765591ec9782c79f7f8c4f'), 'Work Ability': 'Time Sharing', 'Work Ability Description': 'The ability to shift back and forth between two or more activities or sources of information (such as speech, sounds, touch, or other sources).', 'Rank by Importance': 38}\n",
      "{'_id': ObjectId('5f765591ec9782c79f7f8c50'), 'Work Ability': 'Hearing Sensitivity', 'Work Ability Description': 'The ability to detect or tell the differences between sounds that vary in pitch and loudness.', 'Rank by Importance': 28}\n",
      "{'_id': ObjectId('5f765591ec9782c79f7f8c51'), 'Work Ability': 'Arm-Hand Steadiness', 'Work Ability Description': 'The ability to keep your hand and arm steady while moving your arm or while holding your arm and hand in one position.', 'Rank by Importance': 25}\n",
      "{'_id': ObjectId('5f765591ec9782c79f7f8c52'), 'Work Ability': 'Auditory Attention', 'Work Ability Description': 'The ability to focus on a single source of sound in the presence of other distracting sounds.', 'Rank by Importance': 25}\n",
      "{'_id': ObjectId('5f765591ec9782c79f7f8c53'), 'Work Ability': 'Control Precision', 'Work Ability Description': 'The ability to quickly and repeatedly adjust the controls of a machine or a vehicle to exact positions.', 'Rank by Importance': 25}\n",
      "{'_id': ObjectId('5f765591ec9782c79f7f8c54'), 'Work Ability': 'Manual Dexterity', 'Work Ability Description': 'The ability to quickly move your hand, your hand together with your arm, or your two hands to grasp, manipulate, or assemble objects.', 'Rank by Importance': 25}\n",
      "{'_id': ObjectId('5f765591ec9782c79f7f8c55'), 'Work Ability': 'Visual Color Discrimination', 'Work Ability Description': 'The ability to match or detect differences between colors, including shades of color and brightness.', 'Rank by Importance': 25}\n",
      "{'_id': ObjectId('5f765591ec9782c79f7f8c56'), 'Work Ability': 'Trunk Strength', 'Work Ability Description': \"The ability to use your abdominal and lower back muscles to support part of the body repeatedly or continuously over time without 'giving out' or fatiguing.\", 'Rank by Importance': 22}\n",
      "{'_id': ObjectId('5f765591ec9782c79f7f8c57'), 'Work Ability': 'Wrist-Finger Speed', 'Work Ability Description': 'The ability to make fast, simple, repeated movements of the fingers, hands, and wrists.', 'Rank by Importance': 22}\n",
      "{'_id': ObjectId('5f765591ec9782c79f7f8c58'), 'Work Ability': 'Depth Perception', 'Work Ability Description': 'The ability to judge which of several objects is closer or farther away from you, or to judge the distance between you and an object.', 'Rank by Importance': 19}\n",
      "{'_id': ObjectId('5f765591ec9782c79f7f8c59'), 'Work Ability': 'Response Orientation', 'Work Ability Description': 'The ability to choose quickly between two or more movements in response to two or more different signals (lights, sounds, pictures). It includes the speed with which the correct response is started with the hand, foot, or other body part.', 'Rank by Importance': 3}\n"
     ]
    }
   ],
   "source": [
    "# call information back from database\n",
    "query_three = wabCollection.find({})\n",
    "for x in query_three:\n",
    "    print(x)"
   ]
  },
  {
   "cell_type": "markdown",
   "metadata": {
    "heading_collapsed": true
   },
   "source": [
    "### Typical Technology"
   ]
  },
  {
   "cell_type": "code",
   "execution_count": 10,
   "metadata": {
    "hidden": true
   },
   "outputs": [],
   "source": [
    "# initialize a bin\n",
    "wttCollection = mydb['Technology']"
   ]
  },
  {
   "cell_type": "code",
   "execution_count": 62,
   "metadata": {
    "hidden": true
   },
   "outputs": [],
   "source": [
    "# store the things to go into the bin\n",
    "wtt_01 = {'Analytical or scientific software': ['Advanced numerical software', 'Algorithmic software', 'Augmint', \n",
    "                                                'Computational statistics software', 'Data visualization software', \n",
    "                                                'IBM SPSS Statistics', 'Intel Math Kernel Library', 'Mathematical software', \n",
    "                                                'Minitab', 'Multisensory data representation software', \n",
    "                                                'Optimization software', 'Polhemus Fasttrack System', \n",
    "                                                'Rice Simulator for ILP Multiprocessors RSIM', 'SAS', 'Simulation software', \n",
    "                                                'StataCorp Stata', 'The MathWorks MATLAB']}\n",
    "wtt_02 = {'Application server software': ['GitHub']}\n",
    "wtt_03 = {'Business intelligence and data analysis software': ['IBM Cognos Impromptu', 'MicroStrategy', \n",
    "                                                               'Oracle Business Intelligence Enterprise Edition', \n",
    "                                                               'Qlik Tech QlikView', 'Tableau']}\n",
    "wtt_04 = {'Clustering software' : ['Clustering software', 'Clustermatic', 'Parallel systems software']}\n",
    "wtt_05 = {'Communications server software': ['IBM Domino']}\n",
    "wtt_06 = {'Compiler and decompiler software': ['Greenhills Ada compilers', 'Low-level virtual machine LLVM compilers', \n",
    "                                               'Polaris parallelizing compilers']}\n",
    "wtt_07 = {'Computer aided design CAD software': ['Computer aided design and drafting CADD software', 'PTC Creo Parametric']}\n",
    "wtt_08 = {'Configuration management software': ['IBM Rational Apex', 'Perforce Software Configuration Management System']}\n",
    "wtt_09 = {'Data base management system software': ['Apache Cassandra', 'Apache Flume', 'Apache Hadoop', 'Apache Pig', \n",
    "                                                   'Apache Solr', 'Elasticsearch', 'MongoDB', 'MySQL', 'NoSQL', \n",
    "                                                   'Oracle DBMS', 'Relational database management software', \n",
    "                                                   'Relational database management system software', 'Teradata Database']}\n",
    "wtt_10 = {'Data base user interface and query software': ['Amazon Elastic Compute Cloud EC2', 'Amazon Redshift', \n",
    "                                                          'Amazon Web Services AWS software', 'Apahce Hive', \n",
    "                                                          'Data entry software', 'Microsoft SQL Server', \n",
    "                                                          'Structured query language SQL', 'Transact-SQL']}\n",
    "wtt_11 = {'Data mining software': ['Data mining software', 'Google Analytics']}\n",
    "wtt_12 = {'Development environment software': ['Ada', 'Apache Kafka', 'Automated document generation software', 'C', \n",
    "                                               'CMAKE', 'Doxygen', 'Eclipse IDE', 'Embarcadero JBuilder', \n",
    "                                               'Formula translation/translator FORTRAN', \n",
    "                                               'Higer-performance software libraries', 'IBM Rational Rose', \n",
    "                                               'Integrated development environment IDE software', \n",
    "                                               'Intel Integrate Performance Primitives', 'List processing language LISP', \n",
    "                                               'Microsoft Azure', 'Microsoft Visual Basic', \n",
    "                                               'Microsoft Visual Basic for Appliations VBA', \n",
    "                                               'Microsoft Fisual Basic Scripting Edition VBScript', \n",
    "                                               'Microsoft Visual Studio', 'Microsoft Visual Studio.NET', \n",
    "                                               'National Instruments LabVIEW', 'Prolog', 'Ruby', 'Software libraries', \n",
    "                                               'Source code management SCM software', \n",
    "                                               'Sun Microsystems Java 2 Platform Enterprise Edition J2EE', 'Verilog']}\n",
    "wtt_13 = {'Enterprise application integration software': ['Extensible markup language XML', 'IBM InfoSphere DataStage']}\n",
    "wtt_14 = {'Enterprise resource planning ERP software': ['Microsoft Dynamics', 'SAP Business Objects']}\n",
    "wtt_15 = {'Enterprise system management software': ['Splunk Enterprise']}\n",
    "wtt_16 = {'File versioning software': ['Git']}\n",
    "wtt_17 = {'Graphical user interface development software': ['Waikato Environment for Knowledge Analysis Weka']}\n",
    "wtt_18 = {'Graphics or photo imaging software': ['Graphics pipelines', 'Open Graphics Library OpenGL', \n",
    "                                                 'Three-dimensional 3D graphics software']}\n",
    "wtt_19 = {'Map creation software': ['ESRI ArcGIS software', 'Geographical information system GIS software']}\n",
    "wtt_20 = {'Metadata management software': ['CA Erwin Data Modeler']}\n",
    "wtt_21 = {'Object or component oriented development software': ['C#', 'C++', 'Charm++', 'Eiffel', 'Jupyter Notebook', \n",
    "                                                                'Microsoft ActiveX', 'Microsoft Visual Basic.NET', \n",
    "                                                                'Microsoft Visual C#.NET', \n",
    "                                                                'Object oriented development envrionment software', \n",
    "                                                                'Oracle Java', \n",
    "                                                                'Practical extraction and reporting language Perl', \n",
    "                                                                'Python', 'R', 'Scala']}\n",
    "wtt_22 = {'Object oriented data base management software': ['PostgreSQL']}\n",
    "wtt_23 = {'Office suite software': ['Microsoft Office']}\n",
    "wtt_24 = {'Operating system software': ['Bash', 'Linux', 'Microsoft Windows XP', 'Oracle Solaris', 'Shell script', \n",
    "                                        'Sun Microsystems Solaris', 'Ubuntu', 'UNIX', 'UNIX Shell', 'VME PowerPC VxWorks']}\n",
    "wtt_25 = {'Portal server software': ['Apache HTTP Server']}\n",
    "wtt_26 = {'Presentation software': ['Microsoft PowerPoint']}\n",
    "wtt_27 = {'Requirements analysis and system architecture software': ['Unified modeling language UML']}\n",
    "wtt_28 = {'Sales and marketing software': ['Google AdWords']}\n",
    "wtt_29 = {'Spreadsheet software': ['Microsoft Excel']}\n",
    "wtt_30 = {'Video creation and editing software': ['Video editing software']}\n",
    "wtt_31 = {'Web page creation and editing software': ['Plug-in file software']}\n",
    "wtt_32 = {'Web platform development software': ['Django', 'Extensbile stylesheet language transformations XSLT', \n",
    "                                                'JavaScript', 'PHP: Hypertext Preprocessor']}"
   ]
  },
  {
   "cell_type": "code",
   "execution_count": 63,
   "metadata": {
    "hidden": true
   },
   "outputs": [],
   "source": [
    "# put together all of the the things stored\n",
    "list_of_wtt_entries = [wtt_01, wtt_02, wtt_03, wtt_04, wtt_05, wtt_06, wtt_07, wtt_08, wtt_09, wtt_10, wtt_11, wtt_12, \n",
    "                       wtt_13, wtt_14, wtt_15, wtt_16, wtt_17, wtt_18, wtt_19, wtt_20, wtt_21, wtt_22, wtt_23, wtt_24, \n",
    "                       wtt_25, wtt_26, wtt_27, wtt_28, wtt_29, wtt_30, wtt_31, wtt_32]"
   ]
  },
  {
   "cell_type": "code",
   "execution_count": 64,
   "metadata": {
    "hidden": true
   },
   "outputs": [],
   "source": [
    "# put all of the stored items into the bin\n",
    "results_5 = wttCollection.insert_many(list_of_wtt_entries)"
   ]
  },
  {
   "cell_type": "code",
   "execution_count": 65,
   "metadata": {
    "hidden": true
   },
   "outputs": [
    {
     "data": {
      "text/plain": [
       "[ObjectId('5f80a04bec9782c79f7f8c5a'),\n",
       " ObjectId('5f80a04bec9782c79f7f8c5b'),\n",
       " ObjectId('5f80a04bec9782c79f7f8c5c'),\n",
       " ObjectId('5f80a04bec9782c79f7f8c5d'),\n",
       " ObjectId('5f80a04bec9782c79f7f8c5e'),\n",
       " ObjectId('5f80a04bec9782c79f7f8c5f'),\n",
       " ObjectId('5f80a04bec9782c79f7f8c60'),\n",
       " ObjectId('5f80a04bec9782c79f7f8c61'),\n",
       " ObjectId('5f80a04bec9782c79f7f8c62'),\n",
       " ObjectId('5f80a04bec9782c79f7f8c63'),\n",
       " ObjectId('5f80a04bec9782c79f7f8c64'),\n",
       " ObjectId('5f80a04bec9782c79f7f8c65'),\n",
       " ObjectId('5f80a04bec9782c79f7f8c66'),\n",
       " ObjectId('5f80a04bec9782c79f7f8c67'),\n",
       " ObjectId('5f80a04bec9782c79f7f8c68'),\n",
       " ObjectId('5f80a04bec9782c79f7f8c69'),\n",
       " ObjectId('5f80a04bec9782c79f7f8c6a'),\n",
       " ObjectId('5f80a04bec9782c79f7f8c6b'),\n",
       " ObjectId('5f80a04bec9782c79f7f8c6c'),\n",
       " ObjectId('5f80a04bec9782c79f7f8c6d'),\n",
       " ObjectId('5f80a04bec9782c79f7f8c6e'),\n",
       " ObjectId('5f80a04bec9782c79f7f8c6f'),\n",
       " ObjectId('5f80a04bec9782c79f7f8c70'),\n",
       " ObjectId('5f80a04bec9782c79f7f8c71'),\n",
       " ObjectId('5f80a04bec9782c79f7f8c72'),\n",
       " ObjectId('5f80a04bec9782c79f7f8c73'),\n",
       " ObjectId('5f80a04bec9782c79f7f8c74'),\n",
       " ObjectId('5f80a04bec9782c79f7f8c75'),\n",
       " ObjectId('5f80a04bec9782c79f7f8c76'),\n",
       " ObjectId('5f80a04bec9782c79f7f8c77'),\n",
       " ObjectId('5f80a04bec9782c79f7f8c78'),\n",
       " ObjectId('5f80a04bec9782c79f7f8c79')]"
      ]
     },
     "execution_count": 65,
     "metadata": {},
     "output_type": "execute_result"
    }
   ],
   "source": [
    "# check to make sure items went into bin\n",
    "results_5.inserted_ids"
   ]
  },
  {
   "cell_type": "code",
   "execution_count": 11,
   "metadata": {
    "hidden": true
   },
   "outputs": [
    {
     "name": "stdout",
     "output_type": "stream",
     "text": [
      "{'_id': ObjectId('5f80a04bec9782c79f7f8c5a'), 'Analytical or scientific software': ['Advanced numerical software', 'Algorithmic software', 'Augmint', 'Computational statistics software', 'Data visualization software', 'IBM SPSS Statistics', 'Intel Math Kernel Library', 'Mathematical software', 'Minitab', 'Multisensory data representation software', 'Optimization software', 'Polhemus Fasttrack System', 'Rice Simulator for ILP Multiprocessors RSIM', 'SAS', 'Simulation software', 'StataCorp Stata', 'The MathWorks MATLAB']}\n",
      "{'_id': ObjectId('5f80a04bec9782c79f7f8c5b'), 'Application server software': ['GitHub']}\n",
      "{'_id': ObjectId('5f80a04bec9782c79f7f8c5c'), 'Business intelligence and data analysis software': ['IBM Cognos Impromptu', 'MicroStrategy', 'Oracle Business Intelligence Enterprise Edition', 'Qlik Tech QlikView', 'Tableau']}\n",
      "{'_id': ObjectId('5f80a04bec9782c79f7f8c5d'), 'Clustering software': ['Clustering software', 'Clustermatic', 'Parallel systems software']}\n",
      "{'_id': ObjectId('5f80a04bec9782c79f7f8c5e'), 'Communications server software': ['IBM Domino']}\n",
      "{'_id': ObjectId('5f80a04bec9782c79f7f8c5f'), 'Compiler and decompiler software': ['Greenhills Ada compilers', 'Low-level virtual machine LLVM compilers', 'Polaris parallelizing compilers']}\n",
      "{'_id': ObjectId('5f80a04bec9782c79f7f8c60'), 'Computer aided design CAD software': ['Computer aided design and drafting CADD software', 'PTC Creo Parametric']}\n",
      "{'_id': ObjectId('5f80a04bec9782c79f7f8c61'), 'Configuration management software': ['IBM Rational Apex', 'Perforce Software Configuration Management System']}\n",
      "{'_id': ObjectId('5f80a04bec9782c79f7f8c62'), 'Data base management system software': ['Apache Cassandra', 'Apache Flume', 'Apache Hadoop', 'Apache Pig', 'Apache Solr', 'Elasticsearch', 'MongoDB', 'MySQL', 'NoSQL', 'Oracle DBMS', 'Relational database management software', 'Relational database management system software', 'Teradata Database']}\n",
      "{'_id': ObjectId('5f80a04bec9782c79f7f8c63'), 'Data base user interface and query software': ['Amazon Elastic Compute Cloud EC2', 'Amazon Redshift', 'Amazon Web Services AWS software', 'Apahce Hive', 'Data entry software', 'Microsoft SQL Server', 'Structured query language SQL', 'Transact-SQL']}\n",
      "{'_id': ObjectId('5f80a04bec9782c79f7f8c64'), 'Data mining software': ['Data mining software', 'Google Analytics']}\n",
      "{'_id': ObjectId('5f80a04bec9782c79f7f8c65'), 'Development environment software': ['Ada', 'Apache Kafka', 'Automated document generation software', 'C', 'CMAKE', 'Doxygen', 'Eclipse IDE', 'Embarcadero JBuilder', 'Formula translation/translator FORTRAN', 'Higer-performance software libraries', 'IBM Rational Rose', 'Integrated development environment IDE software', 'Intel Integrate Performance Primitives', 'List processing language LISP', 'Microsoft Azure', 'Microsoft Visual Basic', 'Microsoft Visual Basic for Appliations VBA', 'Microsoft Fisual Basic Scripting Edition VBScript', 'Microsoft Visual Studio', 'Microsoft Visual Studio.NET', 'National Instruments LabVIEW', 'Prolog', 'Ruby', 'Software libraries', 'Source code management SCM software', 'Sun Microsystems Java 2 Platform Enterprise Edition J2EE', 'Verilog']}\n",
      "{'_id': ObjectId('5f80a04bec9782c79f7f8c66'), 'Enterprise application integration software': ['Extensible markup language XML', 'IBM InfoSphere DataStage']}\n",
      "{'_id': ObjectId('5f80a04bec9782c79f7f8c67'), 'Enterprise resource planning ERP software': ['Microsoft Dynamics', 'SAP Business Objects']}\n",
      "{'_id': ObjectId('5f80a04bec9782c79f7f8c68'), 'Enterprise system management software': ['Splunk Enterprise']}\n",
      "{'_id': ObjectId('5f80a04bec9782c79f7f8c69'), 'File versioning software': ['Git']}\n",
      "{'_id': ObjectId('5f80a04bec9782c79f7f8c6a'), 'Graphical user interface development software': ['Waikato Environment for Knowledge Analysis Weka']}\n",
      "{'_id': ObjectId('5f80a04bec9782c79f7f8c6b'), 'Graphics or photo imaging software': ['Graphics pipelines', 'Open Graphics Library OpenGL', 'Three-dimensional 3D graphics software']}\n",
      "{'_id': ObjectId('5f80a04bec9782c79f7f8c6c'), 'Map creation software': ['ESRI ArcGIS software', 'Geographical information system GIS software']}\n",
      "{'_id': ObjectId('5f80a04bec9782c79f7f8c6d'), 'Metadata management software': ['CA Erwin Data Modeler']}\n",
      "{'_id': ObjectId('5f80a04bec9782c79f7f8c6e'), 'Object or component oriented development software': ['C#', 'C++', 'Charm++', 'Eiffel', 'Jupyter Notebook', 'Microsoft ActiveX', 'Microsoft Visual Basic.NET', 'Microsoft Visual C#.NET', 'Object oriented development envrionment software', 'Oracle Java', 'Practical extraction and reporting language Perl', 'Python', 'R', 'Scala']}\n",
      "{'_id': ObjectId('5f80a04bec9782c79f7f8c6f'), 'Object oriented data base management software': ['PostgreSQL']}\n",
      "{'_id': ObjectId('5f80a04bec9782c79f7f8c70'), 'Office suite software': ['Microsoft Office']}\n",
      "{'_id': ObjectId('5f80a04bec9782c79f7f8c71'), 'Operating system software': ['Bash', 'Linux', 'Microsoft Windows XP', 'Oracle Solaris', 'Shell script', 'Sun Microsystems Solaris', 'Ubuntu', 'UNIX', 'UNIX Shell', 'VME PowerPC VxWorks']}\n",
      "{'_id': ObjectId('5f80a04bec9782c79f7f8c72'), 'Portal server software': ['Apache HTTP Server']}\n",
      "{'_id': ObjectId('5f80a04bec9782c79f7f8c73'), 'Presentation software': ['Microsoft PowerPoint']}\n",
      "{'_id': ObjectId('5f80a04bec9782c79f7f8c74'), 'Requirements analysis and system architecture software': ['Unified modeling language UML']}\n",
      "{'_id': ObjectId('5f80a04bec9782c79f7f8c75'), 'Sales and marketing software': ['Google AdWords']}\n",
      "{'_id': ObjectId('5f80a04bec9782c79f7f8c76'), 'Spreadsheet software': ['Microsoft Excel']}\n",
      "{'_id': ObjectId('5f80a04bec9782c79f7f8c77'), 'Video creation and editing software': ['Video editing software']}\n",
      "{'_id': ObjectId('5f80a04bec9782c79f7f8c78'), 'Web page creation and editing software': ['Plug-in file software']}\n",
      "{'_id': ObjectId('5f80a04bec9782c79f7f8c79'), 'Web platform development software': ['Django', 'Extensbile stylesheet language transformations XSLT', 'JavaScript', 'PHP: Hypertext Preprocessor']}\n"
     ]
    }
   ],
   "source": [
    "# call information back from database\n",
    "query_four = wttCollection.find({})\n",
    "for x in query_four:\n",
    "    print(x)"
   ]
  },
  {
   "cell_type": "markdown",
   "metadata": {
    "heading_collapsed": true
   },
   "source": [
    "### Typical Knowledge"
   ]
  },
  {
   "cell_type": "code",
   "execution_count": 12,
   "metadata": {
    "hidden": true
   },
   "outputs": [],
   "source": [
    "# initialize a bin\n",
    "wknCollection = mydb['Knowledge']"
   ]
  },
  {
   "cell_type": "code",
   "execution_count": 71,
   "metadata": {
    "hidden": true
   },
   "outputs": [],
   "source": [
    "# store the things to go into the bin\n",
    "wknc_01 = {'Knowledge Category': 'Computers and Electronics', \n",
    "           'Knowledge Category Description': 'Knowledge of circuit boards, processors, chips, electronic equipment, and computer hardware and software, including applications and programming.',\n",
    "           'Rank by Importance': 89}\n",
    "wknc_02 = {'Knowledge Category': 'Mathematics', \n",
    "           'Knowledge Category Description': 'Knowledge of arithmetic, algebra, geometry, calculus, statistics, and their applications.',\n",
    "           'Rank by Importance': 77}\n",
    "wknc_03 = {'Knowledge Category': 'Engineering and Technology', \n",
    "           'Knowledge Category Description': 'Knowledge of the practical application of engineering science and technology. This includes applying principles, techniques, procedures, and equipment to the design and production of various goods and services.',\n",
    "           'Rank by Importance': 74}\n",
    "wknc_04 = {'Knowledge Category': 'English Language', \n",
    "           'Knowledge Category Description': 'Knowledge of the structure and content of the English language including the meaning and spelling of words, rules of composition, and grammar.',\n",
    "           'Rank by Importance': 72}\n",
    "wknc_05 = {'Knowledge Category': 'Administration and Management', \n",
    "           'Knowledge Category Description': 'Knowledge of business and management principles involved in strategic planning, resource allocation, human resources modeling, leadership technique, production methods, and coordination of people and resources.',\n",
    "           'Rank by Importance': 58}\n",
    "wknc_06 = {'Knowledge Category': 'Design', \n",
    "           'Knowledge Category Description': 'Knowledge of design techniques, tools, and principles involved in production of precision technical plans, blueprints, drawings, and models.',\n",
    "           'Rank by Importance': 57}\n",
    "wknc_07 = {'Knowledge Category': 'Telecommunications', \n",
    "           'Knowledge Category Description': 'Knowledge of transmission, broadcasting, switching, control, and operation of telecommunications systems.',\n",
    "           'Rank by Importance': 52}\n",
    "wknc_08 = {'Knowledge Category': 'Physics', \n",
    "           'Knowledge Category Description': 'Knowledge and prediction of physical principles, laws, their interrelationships, and applications to understanding fluid, material, and atmospheric dynamics, and mechanical, electrical, atomic and subatomic structures and processes.',\n",
    "           'Rank by Importance': 46}\n",
    "wknc_09 = {'Knowledge Category': 'Customer and Personal Service', \n",
    "           'Knowledge Category Description': 'Knowledge of principles and processes for providing customer and personal services. This includes customer needs assessment, meeting quality standards for services, and evaluation of customer satisfaction.',\n",
    "           'Rank by Importance': 43}\n",
    "wknc_10 = {'Knowledge Category': 'Sales and Marketing', \n",
    "           'Knowledge Category Description': 'Knowledge of principles and methods for showing, promoting, and selling products or services. This includes marketing strategy and tactics, product demonstration, sales techniques, and sales control systems.',\n",
    "           'Rank by Importance': 43}\n",
    "wknc_11 = {'Knowledge Category': 'Clerical', \n",
    "           'Knowledge Category Description': 'Knowledge of administrative and clerical procedures and systems such as word processing, managing files and records, stenography and transcription, designing forms, and other office procedures and terminology.',\n",
    "           'Rank by Importance': 40}\n",
    "wknc_12 = {'Knowledge Category': 'Personnel and Human Resources', \n",
    "           'Knowledge Category Description': 'Knowledge of principles and procedures for personnel recruitment, selection, training, compensation and benefits, labor relations and negotiation, and personnel information systems.',\n",
    "           'Rank by Importance': 37}\n",
    "wknc_13 = {'Knowledge Category': 'Production and Processing', \n",
    "           'Knowledge Category Description': 'Knowledge of raw materials, production processes, quality control, costs, and other techniques for maximizing the effective manufacture and distribution of goods.',\n",
    "           'Rank by Importance': 37}\n",
    "wknc_14 = {'Knowledge Category': 'Psychology', \n",
    "           'Knowledge Category Description': 'Knowledge of human behavior and performance; individual differences in ability, personality, and interests; learning and motivation; psychological research methods; and the assessment and treatment of behavioral and affective disorders.',\n",
    "           'Rank by Importance': 35}\n",
    "wknc_15 = {'Knowledge Category': 'Public Safety and Security', \n",
    "           'Knowledge Category Description': 'Knowledge of relevant equipment, policies, procedures, and strategies to promote effective local, state, or national security operations for the protection of people, data, property, and institutions.',\n",
    "           'Rank by Importance': 35}\n",
    "wknc_16 = {'Knowledge Category': 'Communications and Media', \n",
    "           'Knowledge Category Description': 'Knowledge of media production, communication, and dissemination techniques and methods. This includes alternative ways to inform and entertain via written, oral, and visual media.',\n",
    "           'Rank by Importance': 32}\n",
    "wknc_17 = {'Knowledge Category': 'Economics and Accounting', \n",
    "           'Knowledge Category Description': 'Knowledge of economic and accounting principles and practices, the financial markets, banking and the analysis and reporting of financial data.',\n",
    "           'Rank by Importance': 29}\n",
    "wknc_18 = {'Knowledge Category': 'Mechanical', \n",
    "           'Knowledge Category Description': 'Knowledge of machines and tools, including their designs, uses, repair, and maintenance.',\n",
    "           'Rank by Importance': 27}\n",
    "wknc_19 = {'Knowledge Category': 'Law and Government', \n",
    "           'Knowledge Category Description': 'Knowledge of laws, legal codes, court procedures, precedents, government regulations, executive orders, agency rules, and the democratic political process.',\n",
    "           'Rank by Importance': 25}\n",
    "wknc_20 = {'Knowledge Category': 'Biology', \n",
    "           'Knowledge Category Description': 'Knowledge of plant and animal organisms, their tissues, cells, functions, interdependencies, and interactions with each other and the environment.',\n",
    "           'Rank by Importance': 23}\n",
    "wknc_21 = {'Knowledge Category': 'Sociology and Anthropology', \n",
    "           'Knowledge Category Description': 'Knowledge of group behavior and dynamics, societal trends and influences, human migrations, ethnicity, cultures and their history and origins.',\n",
    "           'Rank by Importance': 22}\n",
    "wknc_22 = {'Knowledge Category': 'Chemistry', \n",
    "           'Knowledge Category Description': 'Knowledge of the chemical composition, structure, and properties of substances and of the chemical processes and transformations that they undergo. This includes uses of chemicals and their interactions, danger signs, production techniques, and disposal methods.',\n",
    "           'Rank by Importance': 21}\n",
    "wknc_23 = {'Knowledge Category': 'Geography', \n",
    "           'Knowledge Category Description': 'Knowledge of principles and methods for describing the features of land, sea, and air masses, including their physical characteristics, locations, interrelationships, and distribution of plant, animal, and human life.',\n",
    "           'Rank by Importance': 21}"
   ]
  },
  {
   "cell_type": "code",
   "execution_count": 72,
   "metadata": {
    "hidden": true
   },
   "outputs": [],
   "source": [
    "# put together all of the the things stored\n",
    "list_of_wknc_entries = [wknc_01, wknc_02, wknc_03, wknc_04, wknc_05, wknc_06, wknc_07, wknc_08, wknc_09, wknc_10, \n",
    "                        wknc_11, wknc_12, wknc_13, wknc_14, wknc_15, wknc_16, wknc_17, wknc_18, wknc_19, wknc_20, \n",
    "                        wknc_21, wknc_22, wknc_23]"
   ]
  },
  {
   "cell_type": "code",
   "execution_count": 73,
   "metadata": {
    "hidden": true
   },
   "outputs": [],
   "source": [
    "# put all of the stored items into the bin\n",
    "results_6 = wknCollection.insert_many(list_of_wknc_entries)"
   ]
  },
  {
   "cell_type": "code",
   "execution_count": 74,
   "metadata": {
    "hidden": true
   },
   "outputs": [
    {
     "data": {
      "text/plain": [
       "[ObjectId('5f80e648ec9782c79f7f8c7a'),\n",
       " ObjectId('5f80e648ec9782c79f7f8c7b'),\n",
       " ObjectId('5f80e648ec9782c79f7f8c7c'),\n",
       " ObjectId('5f80e648ec9782c79f7f8c7d'),\n",
       " ObjectId('5f80e648ec9782c79f7f8c7e'),\n",
       " ObjectId('5f80e648ec9782c79f7f8c7f'),\n",
       " ObjectId('5f80e648ec9782c79f7f8c80'),\n",
       " ObjectId('5f80e648ec9782c79f7f8c81'),\n",
       " ObjectId('5f80e648ec9782c79f7f8c82'),\n",
       " ObjectId('5f80e648ec9782c79f7f8c83'),\n",
       " ObjectId('5f80e648ec9782c79f7f8c84'),\n",
       " ObjectId('5f80e648ec9782c79f7f8c85'),\n",
       " ObjectId('5f80e648ec9782c79f7f8c86'),\n",
       " ObjectId('5f80e648ec9782c79f7f8c87'),\n",
       " ObjectId('5f80e648ec9782c79f7f8c88'),\n",
       " ObjectId('5f80e648ec9782c79f7f8c89'),\n",
       " ObjectId('5f80e648ec9782c79f7f8c8a'),\n",
       " ObjectId('5f80e648ec9782c79f7f8c8b'),\n",
       " ObjectId('5f80e648ec9782c79f7f8c8c'),\n",
       " ObjectId('5f80e648ec9782c79f7f8c8d'),\n",
       " ObjectId('5f80e648ec9782c79f7f8c8e'),\n",
       " ObjectId('5f80e648ec9782c79f7f8c8f'),\n",
       " ObjectId('5f80e648ec9782c79f7f8c90')]"
      ]
     },
     "execution_count": 74,
     "metadata": {},
     "output_type": "execute_result"
    }
   ],
   "source": [
    "# check to make sure items went into bin\n",
    "results_6.inserted_ids"
   ]
  },
  {
   "cell_type": "code",
   "execution_count": 13,
   "metadata": {
    "hidden": true
   },
   "outputs": [
    {
     "name": "stdout",
     "output_type": "stream",
     "text": [
      "{'_id': ObjectId('5f80e648ec9782c79f7f8c7a'), 'Knowledge Category': 'Computers and Electronics', 'Knowledge Category Description': 'Knowledge of circuit boards, processors, chips, electronic equipment, and computer hardware and software, including applications and programming.', 'Rank by Importance': 89}\n",
      "{'_id': ObjectId('5f80e648ec9782c79f7f8c7b'), 'Knowledge Category': 'Mathematics', 'Knowledge Category Description': 'Knowledge of arithmetic, algebra, geometry, calculus, statistics, and their applications.', 'Rank by Importance': 77}\n",
      "{'_id': ObjectId('5f80e648ec9782c79f7f8c7c'), 'Knowledge Category': 'Engineering and Technology', 'Knowledge Category Description': 'Knowledge of the practical application of engineering science and technology. This includes applying principles, techniques, procedures, and equipment to the design and production of various goods and services.', 'Rank by Importance': 74}\n",
      "{'_id': ObjectId('5f80e648ec9782c79f7f8c7d'), 'Knowledge Category': 'English Language', 'Knowledge Category Description': 'Knowledge of the structure and content of the English language including the meaning and spelling of words, rules of composition, and grammar.', 'Rank by Importance': 72}\n",
      "{'_id': ObjectId('5f80e648ec9782c79f7f8c7e'), 'Knowledge Category': 'Administration and Management', 'Knowledge Category Description': 'Knowledge of business and management principles involved in strategic planning, resource allocation, human resources modeling, leadership technique, production methods, and coordination of people and resources.', 'Rank by Importance': 58}\n",
      "{'_id': ObjectId('5f80e648ec9782c79f7f8c7f'), 'Knowledge Category': 'Design', 'Knowledge Category Description': 'Knowledge of design techniques, tools, and principles involved in production of precision technical plans, blueprints, drawings, and models.', 'Rank by Importance': 57}\n",
      "{'_id': ObjectId('5f80e648ec9782c79f7f8c80'), 'Knowledge Category': 'Telecommunications', 'Knowledge Category Description': 'Knowledge of transmission, broadcasting, switching, control, and operation of telecommunications systems.', 'Rank by Importance': 52}\n",
      "{'_id': ObjectId('5f80e648ec9782c79f7f8c81'), 'Knowledge Category': 'Physics', 'Knowledge Category Description': 'Knowledge and prediction of physical principles, laws, their interrelationships, and applications to understanding fluid, material, and atmospheric dynamics, and mechanical, electrical, atomic and subatomic structures and processes.', 'Rank by Importance': 46}\n",
      "{'_id': ObjectId('5f80e648ec9782c79f7f8c82'), 'Knowledge Category': 'Customer and Personal Service', 'Knowledge Category Description': 'Knowledge of principles and processes for providing customer and personal services. This includes customer needs assessment, meeting quality standards for services, and evaluation of customer satisfaction.', 'Rank by Importance': 43}\n",
      "{'_id': ObjectId('5f80e648ec9782c79f7f8c83'), 'Knowledge Category': 'Sales and Marketing', 'Knowledge Category Description': 'Knowledge of principles and methods for showing, promoting, and selling products or services. This includes marketing strategy and tactics, product demonstration, sales techniques, and sales control systems.', 'Rank by Importance': 43}\n",
      "{'_id': ObjectId('5f80e648ec9782c79f7f8c84'), 'Knowledge Category': 'Clerical', 'Knowledge Category Description': 'Knowledge of administrative and clerical procedures and systems such as word processing, managing files and records, stenography and transcription, designing forms, and other office procedures and terminology.', 'Rank by Importance': 40}\n",
      "{'_id': ObjectId('5f80e648ec9782c79f7f8c85'), 'Knowledge Category': 'Personnel and Human Resources', 'Knowledge Category Description': 'Knowledge of principles and procedures for personnel recruitment, selection, training, compensation and benefits, labor relations and negotiation, and personnel information systems.', 'Rank by Importance': 37}\n",
      "{'_id': ObjectId('5f80e648ec9782c79f7f8c86'), 'Knowledge Category': 'Production and Processing', 'Knowledge Category Description': 'Knowledge of raw materials, production processes, quality control, costs, and other techniques for maximizing the effective manufacture and distribution of goods.', 'Rank by Importance': 37}\n",
      "{'_id': ObjectId('5f80e648ec9782c79f7f8c87'), 'Knowledge Category': 'Psychology', 'Knowledge Category Description': 'Knowledge of human behavior and performance; individual differences in ability, personality, and interests; learning and motivation; psychological research methods; and the assessment and treatment of behavioral and affective disorders.', 'Rank by Importance': 35}\n",
      "{'_id': ObjectId('5f80e648ec9782c79f7f8c88'), 'Knowledge Category': 'Public Safety and Security', 'Knowledge Category Description': 'Knowledge of relevant equipment, policies, procedures, and strategies to promote effective local, state, or national security operations for the protection of people, data, property, and institutions.', 'Rank by Importance': 35}\n",
      "{'_id': ObjectId('5f80e648ec9782c79f7f8c89'), 'Knowledge Category': 'Communications and Media', 'Knowledge Category Description': 'Knowledge of media production, communication, and dissemination techniques and methods. This includes alternative ways to inform and entertain via written, oral, and visual media.', 'Rank by Importance': 32}\n",
      "{'_id': ObjectId('5f80e648ec9782c79f7f8c8a'), 'Knowledge Category': 'Economics and Accounting', 'Knowledge Category Description': 'Knowledge of economic and accounting principles and practices, the financial markets, banking and the analysis and reporting of financial data.', 'Rank by Importance': 29}\n",
      "{'_id': ObjectId('5f80e648ec9782c79f7f8c8b'), 'Knowledge Category': 'Mechanical', 'Knowledge Category Description': 'Knowledge of machines and tools, including their designs, uses, repair, and maintenance.', 'Rank by Importance': 27}\n",
      "{'_id': ObjectId('5f80e648ec9782c79f7f8c8c'), 'Knowledge Category': 'Law and Government', 'Knowledge Category Description': 'Knowledge of laws, legal codes, court procedures, precedents, government regulations, executive orders, agency rules, and the democratic political process.', 'Rank by Importance': 25}\n",
      "{'_id': ObjectId('5f80e648ec9782c79f7f8c8d'), 'Knowledge Category': 'Biology', 'Knowledge Category Description': 'Knowledge of plant and animal organisms, their tissues, cells, functions, interdependencies, and interactions with each other and the environment.', 'Rank by Importance': 23}\n",
      "{'_id': ObjectId('5f80e648ec9782c79f7f8c8e'), 'Knowledge Category': 'Sociology and Anthropology', 'Knowledge Category Description': 'Knowledge of group behavior and dynamics, societal trends and influences, human migrations, ethnicity, cultures and their history and origins.', 'Rank by Importance': 22}\n",
      "{'_id': ObjectId('5f80e648ec9782c79f7f8c8f'), 'Knowledge Category': 'Chemistry', 'Knowledge Category Description': 'Knowledge of the chemical composition, structure, and properties of substances and of the chemical processes and transformations that they undergo. This includes uses of chemicals and their interactions, danger signs, production techniques, and disposal methods.', 'Rank by Importance': 21}\n",
      "{'_id': ObjectId('5f80e648ec9782c79f7f8c90'), 'Knowledge Category': 'Geography', 'Knowledge Category Description': 'Knowledge of principles and methods for describing the features of land, sea, and air masses, including their physical characteristics, locations, interrelationships, and distribution of plant, animal, and human life.', 'Rank by Importance': 21}\n"
     ]
    }
   ],
   "source": [
    "# call information back from database\n",
    "query_five = wknCollection.find({})\n",
    "for x in query_five:\n",
    "    print(x)"
   ]
  },
  {
   "cell_type": "markdown",
   "metadata": {
    "heading_collapsed": true
   },
   "source": [
    "### Typical Job Skills"
   ]
  },
  {
   "cell_type": "code",
   "execution_count": 19,
   "metadata": {
    "hidden": true
   },
   "outputs": [],
   "source": [
    "# initialize a bin\n",
    "wjsCollection = mydb['Job_Skills']"
   ]
  },
  {
   "cell_type": "code",
   "execution_count": 15,
   "metadata": {
    "hidden": true
   },
   "outputs": [],
   "source": [
    "# store the things to go into the bin\n",
    "wjs_01 = {'Typical Job Skill': 'Analyze data to identify or resolve operational problems', \n",
    "          'Typical Skill Category': 'Mental Processes',\n",
    "          'Rank': 1}\n",
    "wjs_02 = {'Typical Job Skill': 'Apply information technology to solve business or other applied problems',\n",
    "          'Typical Skill Category': 'Mental Processes',\n",
    "          'Rank': 2}\n",
    "wjs_03 = {'Typical Job Skill': 'Assign duties or work schedules to employees',\n",
    "          'Typical Skill Category': 'Interacting With Others',\n",
    "          'Rank': 3}\n",
    "wjs_04 = {'Typical Job Skill': 'Maintain computer hardware',\n",
    "          'Typical Skill Category': 'Work Output',\n",
    "          'Rank': 4}\n",
    "wjs_05 = {'Typical Job Skill': 'Monitor the performance of computer networks',\n",
    "          'Typical Skill Category': 'Information Input',\n",
    "          'Rank': 5}\n",
    "wjs_06 = {'Typical Job Skill': 'Collaborate with others to resolve information technology issues',\n",
    "          'Typical Skill Category': 'Interacting With Others',\n",
    "          'Rank': 6}\n",
    "wjs_07 = {'Typical Job Skill': 'Design integrated computer systems',\n",
    "          'Typical Skill Category': 'Mental Processes',\n",
    "          'Rank': 7}\n",
    "wjs_08 = {'Typical Job Skill': 'Analyze data to identify trends or relationships among variables',\n",
    "          'Typical Skill Category': 'Mental Processes',\n",
    "          'Rank': 8}\n",
    "wjs_09 = {'Typical Job Skill': 'Evaluate project designs to determine adequancy or feasibility',\n",
    "          'Typical Skill Category': 'Mental Processes',\n",
    "          'Rank': 9}\n",
    "wjs_10 = {'Typical Job Skill': 'Collaborate with others to determine design specifications or details',\n",
    "          'Typical Skill Category': 'Interacting with Others',\n",
    "          'Rank': 10}\n",
    "wjs_11 = {'Typical Job Skill': 'Coordinate project activities with other personnel or departments',\n",
    "          'Typical Skill Category': 'Interacting With Others',\n",
    "          'Rank': 11}\n",
    "wjs_12 = {'Typical Job Skill': 'Manage information technology projects or system activities',\n",
    "          'Typical Skill Category': 'Interacting With Others',\n",
    "          'Rank': 12}\n",
    "wjs_13 = {'Typical Job Skill': 'Develop organizational goals or objectives',\n",
    "          'Typical Skill Category': 'Mental Processes',\n",
    "          'Rank': 13}\n",
    "wjs_14 = {'Typical Job Skill': 'Develop performance metrics or standards related to information technology',\n",
    "          'Typical Skill Category': 'Mental Processes',\n",
    "          'Rank': 14}\n",
    "wjs_15 = {'Typical Job Skill': 'Participate in staffing decisions',\n",
    "          'Typical Skill Category': 'Interacting With Others',\n",
    "          'Rank': 15}\n",
    "wjs_16 = {'Typical Job Skill': 'Train others in computer interface or software use',\n",
    "          'Typical Skill Category': 'Interacting With Others',\n",
    "          'Rank': 16}\n",
    "wjs_17 = {'Typical Job Skill': 'Manage budgets for appropriate resource allocation',\n",
    "          'Typical Skill Category': 'Interacting With Others',\n",
    "          'Rank': 17}"
   ]
  },
  {
   "cell_type": "code",
   "execution_count": 16,
   "metadata": {
    "hidden": true
   },
   "outputs": [],
   "source": [
    "# put together all of the the things stored\n",
    "list_of_wjs_entries = [wjs_01, wjs_02, wjs_03, wjs_04, wjs_05, wjs_06, wjs_07, wjs_08, wjs_09, wjs_10, \n",
    "                       wjs_11, wjs_12, wjs_13, wjs_14, wjs_15, wjs_16, wjs_17]"
   ]
  },
  {
   "cell_type": "code",
   "execution_count": 20,
   "metadata": {
    "hidden": true
   },
   "outputs": [],
   "source": [
    "# put all of the stored items into the bin\n",
    "results_7 = wjsCollection.insert_many(list_of_wjs_entries)"
   ]
  },
  {
   "cell_type": "code",
   "execution_count": 22,
   "metadata": {
    "hidden": true
   },
   "outputs": [
    {
     "data": {
      "text/plain": [
       "[ObjectId('5f87733d89ffa1586c2d8359'),\n",
       " ObjectId('5f87733d89ffa1586c2d835a'),\n",
       " ObjectId('5f87733d89ffa1586c2d835b'),\n",
       " ObjectId('5f87733d89ffa1586c2d835c'),\n",
       " ObjectId('5f87733d89ffa1586c2d835d'),\n",
       " ObjectId('5f87733d89ffa1586c2d835e'),\n",
       " ObjectId('5f87733d89ffa1586c2d835f'),\n",
       " ObjectId('5f87733d89ffa1586c2d8360'),\n",
       " ObjectId('5f87733d89ffa1586c2d8361'),\n",
       " ObjectId('5f87733d89ffa1586c2d8362'),\n",
       " ObjectId('5f87733d89ffa1586c2d8363'),\n",
       " ObjectId('5f87733d89ffa1586c2d8364'),\n",
       " ObjectId('5f87733d89ffa1586c2d8365'),\n",
       " ObjectId('5f87733d89ffa1586c2d8366'),\n",
       " ObjectId('5f87733d89ffa1586c2d8367'),\n",
       " ObjectId('5f87733d89ffa1586c2d8368'),\n",
       " ObjectId('5f87733d89ffa1586c2d8369')]"
      ]
     },
     "execution_count": 22,
     "metadata": {},
     "output_type": "execute_result"
    }
   ],
   "source": [
    "# check to make sure items went into bin\n",
    "results_7.inserted_ids"
   ]
  },
  {
   "cell_type": "code",
   "execution_count": 23,
   "metadata": {
    "hidden": true
   },
   "outputs": [
    {
     "name": "stdout",
     "output_type": "stream",
     "text": [
      "{'_id': ObjectId('5f87733d89ffa1586c2d8359'), 'Typical Job Skill': 'Analyze data to identify or resolve operational problems', 'Typical Skill Category': 'Mental Processes', 'Rank': 1}\n",
      "{'_id': ObjectId('5f87733d89ffa1586c2d835a'), 'Typical Job Skill': 'Apply information technology to solve business or other applied problems', 'Typical Skill Category': 'Mental Processes', 'Rank': 2}\n",
      "{'_id': ObjectId('5f87733d89ffa1586c2d835b'), 'Typical Job Skill': 'Assign duties or work schedules to employees', 'Typical Skill Category': 'Interacting With Others', 'Rank': 3}\n",
      "{'_id': ObjectId('5f87733d89ffa1586c2d835c'), 'Typical Job Skill': 'Maintain computer hardware', 'Typical Skill Category': 'Work Output', 'Rank': 4}\n",
      "{'_id': ObjectId('5f87733d89ffa1586c2d835d'), 'Typical Job Skill': 'Monitor the performance of computer networks', 'Typical Skill Category': 'Information Input', 'Rank': 5}\n",
      "{'_id': ObjectId('5f87733d89ffa1586c2d835e'), 'Typical Job Skill': 'Collaborate with others to resolve information technology issues', 'Typical Skill Category': 'Interacting With Others', 'Rank': 6}\n",
      "{'_id': ObjectId('5f87733d89ffa1586c2d835f'), 'Typical Job Skill': 'Design integrated computer systems', 'Typical Skill Category': 'Mental Processes', 'Rank': 7}\n",
      "{'_id': ObjectId('5f87733d89ffa1586c2d8360'), 'Typical Job Skill': 'Analyze data to identify trends or relationships among variables', 'Typical Skill Category': 'Mental Processes', 'Rank': 8}\n",
      "{'_id': ObjectId('5f87733d89ffa1586c2d8361'), 'Typical Job Skill': 'Evaluate project designs to determine adequancy or feasibility', 'Typical Skill Category': 'Mental Processes', 'Rank': 9}\n",
      "{'_id': ObjectId('5f87733d89ffa1586c2d8362'), 'Typical Job Skill': 'Collaborate with others to determine design specifications or details', 'Typical Skill Category': 'Interacting with Others', 'Rank': 10}\n",
      "{'_id': ObjectId('5f87733d89ffa1586c2d8363'), 'Typical Job Skill': 'Coordinate project activities with other personnel or departments', 'Typical Skill Category': 'Interacting With Others', 'Rank': 11}\n",
      "{'_id': ObjectId('5f87733d89ffa1586c2d8364'), 'Typical Job Skill': 'Manage information technology projects or system activities', 'Typical Skill Category': 'Interacting With Others', 'Rank': 12}\n",
      "{'_id': ObjectId('5f87733d89ffa1586c2d8365'), 'Typical Job Skill': 'Develop organizational goals or objectives', 'Typical Skill Category': 'Mental Processes', 'Rank': 13}\n",
      "{'_id': ObjectId('5f87733d89ffa1586c2d8366'), 'Typical Job Skill': 'Develop performance metrics or standards related to information technology', 'Typical Skill Category': 'Mental Processes', 'Rank': 14}\n",
      "{'_id': ObjectId('5f87733d89ffa1586c2d8367'), 'Typical Job Skill': 'Participate in staffing decisions', 'Typical Skill Category': 'Interacting With Others', 'Rank': 15}\n",
      "{'_id': ObjectId('5f87733d89ffa1586c2d8368'), 'Typical Job Skill': 'Train others in computer interface or software use', 'Typical Skill Category': 'Interacting With Others', 'Rank': 16}\n",
      "{'_id': ObjectId('5f87733d89ffa1586c2d8369'), 'Typical Job Skill': 'Manage budgets for appropriate resource allocation', 'Typical Skill Category': 'Interacting With Others', 'Rank': 17}\n"
     ]
    }
   ],
   "source": [
    "# call information back from database\n",
    "query_six = wjsCollection.find({})\n",
    "for x in query_six:\n",
    "    print(x)"
   ]
  },
  {
   "cell_type": "markdown",
   "metadata": {
    "heading_collapsed": true
   },
   "source": [
    "### Tasks"
   ]
  },
  {
   "cell_type": "code",
   "execution_count": 24,
   "metadata": {
    "hidden": true
   },
   "outputs": [],
   "source": [
    "# initialize a bin\n",
    "wtskCollection = mydb['Job_Tasks']"
   ]
  },
  {
   "cell_type": "code",
   "execution_count": 25,
   "metadata": {
    "hidden": true
   },
   "outputs": [],
   "source": [
    "# store the things to go into the bin\n",
    "wtsk_01 = {'Task': 'Analyze problems to develop solutions involving computer hardware and software.',\n",
    "           'Task Description': 'Core',\n",
    "           'Rank by Importance': 81}\n",
    "wtsk_02 = {'Task': 'Apply theoretical expertise and innovation to create or apply new technology, such as adapting principles for applying computers to new uses.',\n",
    "           'Task Description': 'Core',\n",
    "           'Rank by Importance': 72}\n",
    "wtsk_03 = {'Task': 'Assign or schedule tasks to meet work priorities and goals.',\n",
    "           'Task Description': 'Core',\n",
    "           'Rank by Importance': 69}\n",
    "wtsk_04 = {'Task': 'Meet with managers, vendors, and others to solicit cooperation and resolve problems.',\n",
    "           'Task Description': 'Core',\n",
    "           'Rank by Importance': 66}\n",
    "wtsk_05 = {'Task': 'Design computers and the software that runs them.',\n",
    "           'Task Description': 'Core',\n",
    "           'Rank by Importance': 66}\n",
    "wtsk_06 = {'Task': 'Conduct logical analyses of business, scientific, engineering, and other technical problems, formulating mathematical models of problems for soltuion by computers.',\n",
    "           'Task Description': 'Core',\n",
    "           'Rank by Importance': 65}\n",
    "wtsk_07 = {'Task': 'Evaluate project plans and proposals to assess feasibility issues.',\n",
    "           'Task Description': 'Core',\n",
    "           'Rank by Importance': 62}\n",
    "wtsk_08 = {'Task': 'Participate in multidisciplinary projects in areas such as virtual reality, human-computer interaction, or robotics.',\n",
    "           'Task Description': 'Core',\n",
    "           'Rank by Importance': 59}\n",
    "wtsk_09 = {'Task': 'Consult with users, management, vendors, and technicians to determine computing needs and system requirements.',\n",
    "           'Task Description': 'Core',\n",
    "           'Rank by Importance': 59}\n",
    "wtsk_10 = {'Task': 'Develop and interpret organizational goals, policies, and procedures.',\n",
    "           'Task Description': 'Core',\n",
    "           'Rank by Importance': 55}\n",
    "wtsk_11 = {'Task': 'Develop performance standards, and evaluate work in light of established standards.',\n",
    "           'Task Description': 'Core',\n",
    "           'Rank by Importance': 54}\n",
    "wtsk_12 = {'Task': 'Maintain network hardware and software, direct network security measures, and monitor networks to ensure availablity to system users.',\n",
    "           'Task Description': 'Supplemental',\n",
    "           'Rank by Importance': 67}\n",
    "wtsk_13 = {'Task': 'Direct daily operations of departments, coordinating project activities with other departments.',\n",
    "           'Task Description': 'Supplemental',\n",
    "           'Rank by Importance': 58}\n",
    "wtsk_14 = {'Task': 'Participate in staffing decisions and direct training of subordinates.',\n",
    "           'Task Description': 'Supplemental',\n",
    "           'Rank by Importance': 49}\n",
    "wtsk_15 = {'Task': 'Approve, prepare, monitor, and adjust operational budgets.',\n",
    "           'Task Description': 'Supplemental',\n",
    "           'Rank by Importance': 44}"
   ]
  },
  {
   "cell_type": "code",
   "execution_count": 26,
   "metadata": {
    "hidden": true
   },
   "outputs": [],
   "source": [
    "# put together all of the the things stored\n",
    "list_of_wtsk_entries = [wtsk_01, wtsk_02, wtsk_03, wtsk_04, wtsk_05, wtsk_06, wtsk_07, wtsk_08, wtsk_09, wtsk_10, \n",
    "                        wtsk_11, wtsk_12, wtsk_13, wtsk_14, wtsk_15]"
   ]
  },
  {
   "cell_type": "code",
   "execution_count": 27,
   "metadata": {
    "hidden": true
   },
   "outputs": [],
   "source": [
    "# put all of the stored items into the bin\n",
    "results_8 = wtskCollection.insert_many(list_of_wtsk_entries)"
   ]
  },
  {
   "cell_type": "code",
   "execution_count": 28,
   "metadata": {
    "hidden": true
   },
   "outputs": [
    {
     "data": {
      "text/plain": [
       "[ObjectId('5f88fe2b89ffa1586c2d836a'),\n",
       " ObjectId('5f88fe2b89ffa1586c2d836b'),\n",
       " ObjectId('5f88fe2b89ffa1586c2d836c'),\n",
       " ObjectId('5f88fe2b89ffa1586c2d836d'),\n",
       " ObjectId('5f88fe2b89ffa1586c2d836e'),\n",
       " ObjectId('5f88fe2b89ffa1586c2d836f'),\n",
       " ObjectId('5f88fe2b89ffa1586c2d8370'),\n",
       " ObjectId('5f88fe2b89ffa1586c2d8371'),\n",
       " ObjectId('5f88fe2b89ffa1586c2d8372'),\n",
       " ObjectId('5f88fe2b89ffa1586c2d8373'),\n",
       " ObjectId('5f88fe2b89ffa1586c2d8374'),\n",
       " ObjectId('5f88fe2b89ffa1586c2d8375'),\n",
       " ObjectId('5f88fe2b89ffa1586c2d8376'),\n",
       " ObjectId('5f88fe2b89ffa1586c2d8377'),\n",
       " ObjectId('5f88fe2b89ffa1586c2d8378')]"
      ]
     },
     "execution_count": 28,
     "metadata": {},
     "output_type": "execute_result"
    }
   ],
   "source": [
    "# check to make sure items went into bin\n",
    "results_8.inserted_ids"
   ]
  },
  {
   "cell_type": "code",
   "execution_count": 29,
   "metadata": {
    "hidden": true
   },
   "outputs": [
    {
     "name": "stdout",
     "output_type": "stream",
     "text": [
      "{'_id': ObjectId('5f88fe2b89ffa1586c2d836a'), 'Task': 'Analyze problems to develop solutions involving computer hardware and software.', 'Task Description': 'Core', 'Rank by Importance': 81}\n",
      "{'_id': ObjectId('5f88fe2b89ffa1586c2d836b'), 'Task': 'Apply theoretical expertise and innovation to create or apply new technology, such as adapting principles for applying computers to new uses.', 'Task Description': 'Core', 'Rank by Importance': 72}\n",
      "{'_id': ObjectId('5f88fe2b89ffa1586c2d836c'), 'Task': 'Assign or schedule tasks to meet work priorities and goals.', 'Task Description': 'Core', 'Rank by Importance': 69}\n",
      "{'_id': ObjectId('5f88fe2b89ffa1586c2d836d'), 'Task': 'Meet with managers, vendors, and others to solicit cooperation and resolve problems.', 'Task Description': 'Core', 'Rank by Importance': 66}\n",
      "{'_id': ObjectId('5f88fe2b89ffa1586c2d836e'), 'Task': 'Design computers and the software that runs them.', 'Task Description': 'Core', 'Rank by Importance': 66}\n",
      "{'_id': ObjectId('5f88fe2b89ffa1586c2d836f'), 'Task': 'Conduct logical analyses of business, scientific, engineering, and other technical problems, formulating mathematical models of problems for soltuion by computers.', 'Task Description': 'Core', 'Rank by Importance': 65}\n",
      "{'_id': ObjectId('5f88fe2b89ffa1586c2d8370'), 'Task': 'Evaluate project plans and proposals to assess feasibility issues.', 'Task Description': 'Core', 'Rank by Importance': 62}\n",
      "{'_id': ObjectId('5f88fe2b89ffa1586c2d8371'), 'Task': 'Participate in multidisciplinary projects in areas such as virtual reality, human-computer interaction, or robotics.', 'Task Description': 'Core', 'Rank by Importance': 59}\n",
      "{'_id': ObjectId('5f88fe2b89ffa1586c2d8372'), 'Task': 'Consult with users, management, vendors, and technicians to determine computing needs and system requirements.', 'Task Description': 'Core', 'Rank by Importance': 59}\n",
      "{'_id': ObjectId('5f88fe2b89ffa1586c2d8373'), 'Task': 'Develop and interpret organizational goals, policies, and procedures.', 'Task Description': 'Core', 'Rank by Importance': 55}\n",
      "{'_id': ObjectId('5f88fe2b89ffa1586c2d8374'), 'Task': 'Develop performance standards, and evaluate work in light of established standards.', 'Task Description': 'Core', 'Rank by Importance': 54}\n",
      "{'_id': ObjectId('5f88fe2b89ffa1586c2d8375'), 'Task': 'Maintain network hardware and software, direct network security measures, and monitor networks to ensure availablity to system users.', 'Task Description': 'Supplemental', 'Rank by Importance': 67}\n",
      "{'_id': ObjectId('5f88fe2b89ffa1586c2d8376'), 'Task': 'Direct daily operations of departments, coordinating project activities with other departments.', 'Task Description': 'Supplemental', 'Rank by Importance': 58}\n",
      "{'_id': ObjectId('5f88fe2b89ffa1586c2d8377'), 'Task': 'Participate in staffing decisions and direct training of subordinates.', 'Task Description': 'Supplemental', 'Rank by Importance': 49}\n",
      "{'_id': ObjectId('5f88fe2b89ffa1586c2d8378'), 'Task': 'Approve, prepare, monitor, and adjust operational budgets.', 'Task Description': 'Supplemental', 'Rank by Importance': 44}\n"
     ]
    }
   ],
   "source": [
    "# call information back from database\n",
    "query_seven = wtskCollection.find({})\n",
    "for x in query_seven:\n",
    "    print(x)"
   ]
  },
  {
   "cell_type": "code",
   "execution_count": null,
   "metadata": {
    "hidden": true
   },
   "outputs": [],
   "source": []
  }
 ],
 "metadata": {
  "kernelspec": {
   "display_name": "Python 3",
   "language": "python",
   "name": "python3"
  },
  "language_info": {
   "codemirror_mode": {
    "name": "ipython",
    "version": 3
   },
   "file_extension": ".py",
   "mimetype": "text/x-python",
   "name": "python",
   "nbconvert_exporter": "python",
   "pygments_lexer": "ipython3",
   "version": "3.6.9"
  },
  "toc": {
   "base_numbering": 1,
   "nav_menu": {},
   "number_sections": true,
   "sideBar": true,
   "skip_h1_title": false,
   "title_cell": "Table of Contents",
   "title_sidebar": "Contents",
   "toc_cell": false,
   "toc_position": {},
   "toc_section_display": true,
   "toc_window_display": false
  }
 },
 "nbformat": 4,
 "nbformat_minor": 2
}
