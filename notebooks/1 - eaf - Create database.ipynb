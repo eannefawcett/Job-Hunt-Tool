{
 "cells": [
  {
   "cell_type": "markdown",
   "metadata": {},
   "source": [
    "# Obtain"
   ]
  },
  {
   "cell_type": "markdown",
   "metadata": {},
   "source": [
    "## Import Libraries"
   ]
  },
  {
   "cell_type": "code",
   "execution_count": 1,
   "metadata": {},
   "outputs": [],
   "source": [
    "import pymongo"
   ]
  },
  {
   "cell_type": "markdown",
   "metadata": {},
   "source": [
    "## Initialize Contact with Database"
   ]
  },
  {
   "cell_type": "code",
   "execution_count": 2,
   "metadata": {},
   "outputs": [],
   "source": [
    "myclient = pymongo.MongoClient(\"mongodb://127.0.0.1:27017/\")\n",
    "mydb = myclient['computer_and_information_research_scientists']"
   ]
  },
  {
   "cell_type": "code",
   "execution_count": 3,
   "metadata": {},
   "outputs": [
    {
     "ename": "ServerSelectionTimeoutError",
     "evalue": "127.0.0.1:27017: [Errno 61] Connection refused",
     "output_type": "error",
     "traceback": [
      "\u001b[0;31m---------------------------------------------------------------------------\u001b[0m",
      "\u001b[0;31mServerSelectionTimeoutError\u001b[0m               Traceback (most recent call last)",
      "\u001b[0;32m<ipython-input-3-2a06babe5600>\u001b[0m in \u001b[0;36m<module>\u001b[0;34m()\u001b[0m\n\u001b[0;32m----> 1\u001b[0;31m \u001b[0mprint\u001b[0m\u001b[0;34m(\u001b[0m\u001b[0mmyclient\u001b[0m\u001b[0;34m.\u001b[0m\u001b[0mlist_database_names\u001b[0m\u001b[0;34m(\u001b[0m\u001b[0;34m)\u001b[0m\u001b[0;34m)\u001b[0m\u001b[0;34m\u001b[0m\u001b[0m\n\u001b[0m",
      "\u001b[0;32m~/anaconda3/envs/learn-env/lib/python3.6/site-packages/pymongo/mongo_client.py\u001b[0m in \u001b[0;36mlist_database_names\u001b[0;34m(self, session)\u001b[0m\n\u001b[1;32m   1904\u001b[0m         \"\"\"\n\u001b[1;32m   1905\u001b[0m         return [doc[\"name\"]\n\u001b[0;32m-> 1906\u001b[0;31m                 for doc in self.list_databases(session, nameOnly=True)]\n\u001b[0m\u001b[1;32m   1907\u001b[0m \u001b[0;34m\u001b[0m\u001b[0m\n\u001b[1;32m   1908\u001b[0m     \u001b[0;32mdef\u001b[0m \u001b[0mdatabase_names\u001b[0m\u001b[0;34m(\u001b[0m\u001b[0mself\u001b[0m\u001b[0;34m,\u001b[0m \u001b[0msession\u001b[0m\u001b[0;34m=\u001b[0m\u001b[0;32mNone\u001b[0m\u001b[0;34m)\u001b[0m\u001b[0;34m:\u001b[0m\u001b[0;34m\u001b[0m\u001b[0m\n",
      "\u001b[0;32m~/anaconda3/envs/learn-env/lib/python3.6/site-packages/pymongo/mongo_client.py\u001b[0m in \u001b[0;36mlist_databases\u001b[0;34m(self, session, **kwargs)\u001b[0m\n\u001b[1;32m   1885\u001b[0m         \u001b[0mcmd\u001b[0m\u001b[0;34m.\u001b[0m\u001b[0mupdate\u001b[0m\u001b[0;34m(\u001b[0m\u001b[0mkwargs\u001b[0m\u001b[0;34m)\u001b[0m\u001b[0;34m\u001b[0m\u001b[0m\n\u001b[1;32m   1886\u001b[0m         \u001b[0madmin\u001b[0m \u001b[0;34m=\u001b[0m \u001b[0mself\u001b[0m\u001b[0;34m.\u001b[0m\u001b[0m_database_default_options\u001b[0m\u001b[0;34m(\u001b[0m\u001b[0;34m\"admin\"\u001b[0m\u001b[0;34m)\u001b[0m\u001b[0;34m\u001b[0m\u001b[0m\n\u001b[0;32m-> 1887\u001b[0;31m         \u001b[0mres\u001b[0m \u001b[0;34m=\u001b[0m \u001b[0madmin\u001b[0m\u001b[0;34m.\u001b[0m\u001b[0m_retryable_read_command\u001b[0m\u001b[0;34m(\u001b[0m\u001b[0mcmd\u001b[0m\u001b[0;34m,\u001b[0m \u001b[0msession\u001b[0m\u001b[0;34m=\u001b[0m\u001b[0msession\u001b[0m\u001b[0;34m)\u001b[0m\u001b[0;34m\u001b[0m\u001b[0m\n\u001b[0m\u001b[1;32m   1888\u001b[0m         \u001b[0;31m# listDatabases doesn't return a cursor (yet). Fake one.\u001b[0m\u001b[0;34m\u001b[0m\u001b[0;34m\u001b[0m\u001b[0m\n\u001b[1;32m   1889\u001b[0m         cursor = {\n",
      "\u001b[0;32m~/anaconda3/envs/learn-env/lib/python3.6/site-packages/pymongo/database.py\u001b[0m in \u001b[0;36m_retryable_read_command\u001b[0;34m(self, command, value, check, allowable_errors, read_preference, codec_options, session, **kwargs)\u001b[0m\n\u001b[1;32m    747\u001b[0m \u001b[0;34m\u001b[0m\u001b[0m\n\u001b[1;32m    748\u001b[0m         return self.__client._retryable_read(\n\u001b[0;32m--> 749\u001b[0;31m             _cmd, read_preference, session)\n\u001b[0m\u001b[1;32m    750\u001b[0m \u001b[0;34m\u001b[0m\u001b[0m\n\u001b[1;32m    751\u001b[0m     def _list_collections(self, sock_info, slave_okay, session,\n",
      "\u001b[0;32m~/anaconda3/envs/learn-env/lib/python3.6/site-packages/pymongo/mongo_client.py\u001b[0m in \u001b[0;36m_retryable_read\u001b[0;34m(self, func, read_pref, session, address, retryable, exhaust)\u001b[0m\n\u001b[1;32m   1453\u001b[0m             \u001b[0;32mtry\u001b[0m\u001b[0;34m:\u001b[0m\u001b[0;34m\u001b[0m\u001b[0m\n\u001b[1;32m   1454\u001b[0m                 server = self._select_server(\n\u001b[0;32m-> 1455\u001b[0;31m                     read_pref, session, address=address)\n\u001b[0m\u001b[1;32m   1456\u001b[0m                 \u001b[0;32mif\u001b[0m \u001b[0;32mnot\u001b[0m \u001b[0mserver\u001b[0m\u001b[0;34m.\u001b[0m\u001b[0mdescription\u001b[0m\u001b[0;34m.\u001b[0m\u001b[0mretryable_reads_supported\u001b[0m\u001b[0;34m:\u001b[0m\u001b[0;34m\u001b[0m\u001b[0m\n\u001b[1;32m   1457\u001b[0m                     \u001b[0mretryable\u001b[0m \u001b[0;34m=\u001b[0m \u001b[0;32mFalse\u001b[0m\u001b[0;34m\u001b[0m\u001b[0m\n",
      "\u001b[0;32m~/anaconda3/envs/learn-env/lib/python3.6/site-packages/pymongo/mongo_client.py\u001b[0m in \u001b[0;36m_select_server\u001b[0;34m(self, server_selector, session, address)\u001b[0m\n\u001b[1;32m   1252\u001b[0m                                         % address)\n\u001b[1;32m   1253\u001b[0m             \u001b[0;32melse\u001b[0m\u001b[0;34m:\u001b[0m\u001b[0;34m\u001b[0m\u001b[0m\n\u001b[0;32m-> 1254\u001b[0;31m                 \u001b[0mserver\u001b[0m \u001b[0;34m=\u001b[0m \u001b[0mtopology\u001b[0m\u001b[0;34m.\u001b[0m\u001b[0mselect_server\u001b[0m\u001b[0;34m(\u001b[0m\u001b[0mserver_selector\u001b[0m\u001b[0;34m)\u001b[0m\u001b[0;34m\u001b[0m\u001b[0m\n\u001b[0m\u001b[1;32m   1255\u001b[0m                 \u001b[0;31m# Pin this session to the selected server if it's performing a\u001b[0m\u001b[0;34m\u001b[0m\u001b[0;34m\u001b[0m\u001b[0m\n\u001b[1;32m   1256\u001b[0m                 \u001b[0;31m# sharded transaction.\u001b[0m\u001b[0;34m\u001b[0m\u001b[0;34m\u001b[0m\u001b[0m\n",
      "\u001b[0;32m~/anaconda3/envs/learn-env/lib/python3.6/site-packages/pymongo/topology.py\u001b[0m in \u001b[0;36mselect_server\u001b[0;34m(self, selector, server_selection_timeout, address)\u001b[0m\n\u001b[1;32m    229\u001b[0m         return random.choice(self.select_servers(selector,\n\u001b[1;32m    230\u001b[0m                                                  \u001b[0mserver_selection_timeout\u001b[0m\u001b[0;34m,\u001b[0m\u001b[0;34m\u001b[0m\u001b[0m\n\u001b[0;32m--> 231\u001b[0;31m                                                  address))\n\u001b[0m\u001b[1;32m    232\u001b[0m \u001b[0;34m\u001b[0m\u001b[0m\n\u001b[1;32m    233\u001b[0m     def select_server_by_address(self, address,\n",
      "\u001b[0;32m~/anaconda3/envs/learn-env/lib/python3.6/site-packages/pymongo/topology.py\u001b[0m in \u001b[0;36mselect_servers\u001b[0;34m(self, selector, server_selection_timeout, address)\u001b[0m\n\u001b[1;32m    187\u001b[0m         \u001b[0;32mwith\u001b[0m \u001b[0mself\u001b[0m\u001b[0;34m.\u001b[0m\u001b[0m_lock\u001b[0m\u001b[0;34m:\u001b[0m\u001b[0;34m\u001b[0m\u001b[0m\n\u001b[1;32m    188\u001b[0m             server_descriptions = self._select_servers_loop(\n\u001b[0;32m--> 189\u001b[0;31m                 selector, server_timeout, address)\n\u001b[0m\u001b[1;32m    190\u001b[0m \u001b[0;34m\u001b[0m\u001b[0m\n\u001b[1;32m    191\u001b[0m             return [self.get_server_by_address(sd.address)\n",
      "\u001b[0;32m~/anaconda3/envs/learn-env/lib/python3.6/site-packages/pymongo/topology.py\u001b[0m in \u001b[0;36m_select_servers_loop\u001b[0;34m(self, selector, timeout, address)\u001b[0m\n\u001b[1;32m    203\u001b[0m             \u001b[0;32mif\u001b[0m \u001b[0mtimeout\u001b[0m \u001b[0;34m==\u001b[0m \u001b[0;36m0\u001b[0m \u001b[0;32mor\u001b[0m \u001b[0mnow\u001b[0m \u001b[0;34m>\u001b[0m \u001b[0mend_time\u001b[0m\u001b[0;34m:\u001b[0m\u001b[0;34m\u001b[0m\u001b[0m\n\u001b[1;32m    204\u001b[0m                 raise ServerSelectionTimeoutError(\n\u001b[0;32m--> 205\u001b[0;31m                     self._error_message(selector))\n\u001b[0m\u001b[1;32m    206\u001b[0m \u001b[0;34m\u001b[0m\u001b[0m\n\u001b[1;32m    207\u001b[0m             \u001b[0mself\u001b[0m\u001b[0;34m.\u001b[0m\u001b[0m_ensure_opened\u001b[0m\u001b[0;34m(\u001b[0m\u001b[0;34m)\u001b[0m\u001b[0;34m\u001b[0m\u001b[0m\n",
      "\u001b[0;31mServerSelectionTimeoutError\u001b[0m: 127.0.0.1:27017: [Errno 61] Connection refused"
     ]
    }
   ],
   "source": [
    "print(myclient.list_database_names())"
   ]
  },
  {
   "cell_type": "markdown",
   "metadata": {},
   "source": [
    "## Add Information to Database"
   ]
  },
  {
   "cell_type": "markdown",
   "metadata": {
    "heading_collapsed": true
   },
   "source": [
    "### Work Activities"
   ]
  },
  {
   "cell_type": "code",
   "execution_count": 43,
   "metadata": {
    "hidden": true
   },
   "outputs": [],
   "source": [
    "waCollection = mydb['Work_Activities']"
   ]
  },
  {
   "cell_type": "code",
   "execution_count": 44,
   "metadata": {
    "hidden": true
   },
   "outputs": [
    {
     "data": {
      "text/plain": [
       "<pymongo.results.InsertOneResult at 0x1e3feab1e88>"
      ]
     },
     "execution_count": 44,
     "metadata": {},
     "output_type": "execute_result"
    }
   ],
   "source": [
    "wac_one = {'Work Activity': 'Interacting With Computers', \n",
    "             'Work Activity Description': 'Using computers and computer systems (including hardware and software) to program, write software, set up functions, enter data, or process information.',\n",
    "             'Rank by Importance': 99}\n",
    "\n",
    "results = waCollection.insert_one(entry_one)\n",
    "results"
   ]
  },
  {
   "cell_type": "code",
   "execution_count": 45,
   "metadata": {
    "hidden": true
   },
   "outputs": [
    {
     "data": {
      "text/plain": [
       "ObjectId('5f73a385ec9782c79f7f8bca')"
      ]
     },
     "execution_count": 45,
     "metadata": {},
     "output_type": "execute_result"
    }
   ],
   "source": [
    "results.inserted_id"
   ]
  },
  {
   "cell_type": "code",
   "execution_count": 46,
   "metadata": {
    "hidden": true
   },
   "outputs": [],
   "source": [
    "wac_02 = {'Work Activity': 'Making Decisions and Solving Problems', \n",
    "          'Work Activity Description': 'Analyzing information and evaluating results to choose the best solution and solve problems.',\n",
    "          'Rank by Importance': 91}\n",
    "wac_03 = {'Work Activity': 'Getting Information', \n",
    "          'Work Activity Description': 'Observing, receiving, and otherwise obtaining information from all relevant sources.',\n",
    "          'Rank by Importance': 91}\n",
    "wac_04 = {'Work Activity': 'Updating and Using Relevant Knowledge', \n",
    "          'Work Activity Description': 'Keeping up-to-date technically and applying new knowledge to your job.',\n",
    "          'Rank by Importance': 89}\n",
    "wac_05 = {'Work Activity': 'Analyzing Data or Information', \n",
    "          'Work Activity Description': 'Identifying the underlying principles, reasons, or facts of information by breaking down information or data into separate parts.',\n",
    "          'Rank by Importance': 89}\n",
    "wac_06 = {'Work Activity': 'Thinking Creatively', \n",
    "          'Work Activity Description': 'Developing, designing, or creating new applications, ideas, relationships, systems, or products, including artistic contributions.',\n",
    "          'Rank by Importance': 88}\n",
    "wac_07 = {'Work Activity': 'Documenting/Recording Information', \n",
    "          'Work Activity Description': 'Entering, transcribing, recording, storing, or maintaining information in written or electronic/magnetic form.',\n",
    "          'Rank by Importance': 84}\n",
    "wac_08 = {'Work Activity': 'Processing Information', \n",
    "          'Work Activity Description': 'Compiling, coding, categorizing, calculating, tabulating, auditing, or verifying information or data.',\n",
    "          'Rank by Importance': 83}\n",
    "wac_09 = {'Work Activity': 'Identifying Objects, Actions, and Events', \n",
    "          'Work Activity Description': 'Identifying information by categorizing, estimating, recognizing differences or similarities, and detecting changes in circumstances or events.',\n",
    "          'Rank by Importance': 83}\n",
    "wac_10 = {'Work Activity': 'Communicating with Supervisors, Peers, or Subordinates', \n",
    "          'Work Activity Description': 'Providing information to supervisors, co-workers, and subordinates by telephone, in written form, e-mail, or in person.',\n",
    "          'Rank by Importance': 83}\n",
    "wac_11 = {'Work Activity': 'Interpreting the Meaning of Information for Others', \n",
    "          'Work Activity Description': 'Translating or explaining what information means and how it can be used.',\n",
    "          'Rank by Importance': 82}\n",
    "wac_12 = {'Work Activity': 'Communicating with Persons Outside Organization', \n",
    "          'Work Activity Description': 'Communicating with people outside the organization, representing the organization to customers, the public, government, and other external sources. This information can be exchanged in person, in writing, or by telephone or e-mail.',\n",
    "          'Rank by Importance': 81}\n",
    "wac_13 = {'Work Activity': 'Estimating the Quantifiable Characteristics of Products, Events, or Information', \n",
    "          'Work Activity Description': 'Estimating sizes, distances, and quantities; or determining time, costs, resources, or materials needed to perform a work activity.',\n",
    "          'Rank by Importance': 80}\n",
    "wac_14 = {'Work Activity': 'Establishing and Maintaining Interpersonal Relationships', \n",
    "          'Work Activity Description': 'Developing constructive and cooperative working relationships with others, and maintaining them over time.',\n",
    "          'Rank by Importance': 69}\n",
    "wac_15 = {'Work Activity': 'Developing Objectives and Strategies', \n",
    "          'Work Activity Description': 'Establishing long-range objectives and specifying the strategies and actions to achieve them.',\n",
    "          'Rank by Importance': 68}\n",
    "wac_16 = {'Work Activity': 'Organizing, Planning, and Prioritizing Work', \n",
    "          'Work Activity Description': 'Developing specific goals and plans to prioritize, organize, and accomplish your work.',\n",
    "          'Rank by Importance': 67}\n",
    "wac_17 = {'Work Activity': 'Judging the Qualities of Things, Services, or People', \n",
    "          'Work Activity Description': 'Assessing the value, importance, or quality of things or people.',\n",
    "          'Rank by Importance': 64}\n",
    "wac_18 = {'Work Activity': 'Evaluating Information to Determine Compliance with Standards', \n",
    "          'Work Activity Description': 'Using relevant information and individual judgment to determine whether events or processes comply with laws, regulations, or standards.',\n",
    "          'Rank by Importance': 64}\n",
    "wac_19 = {'Work Activity': 'Scheduling Work and Activities', \n",
    "          'Work Activity Description': 'Scheduling events, programs, and activities, as well as the work of others.',\n",
    "          'Rank by Importance': 60}\n",
    "wac_20 = {'Work Activity': 'Provide Consultation and Advice to Others', \n",
    "          'Work Activity Description': 'Providing guidance and expert advice to management or other groups on technical, systems-, or process-related topics.',\n",
    "          'Rank by Importance': 57}\n",
    "wac_21 = {'Work Activity': 'Training and Teaching Others', \n",
    "          'Work Activity Description': 'Identifying the educational needs of others, developing formal educational or training programs or classes, and teaching or instructing others.',\n",
    "          'Rank by Importance': 55}\n",
    "wac_22 = {'Work Activity': 'Monitor Processes, Materials, or Surroundings', \n",
    "          'Work Activity Description': 'Monitoring and reviewing information from materials, events, or the environment, to detect or assess problems.',\n",
    "          'Rank by Importance': 51}\n",
    "wac_23 = {'Work Activity': 'Developing and Building Teams', \n",
    "          'Work Activity Description': 'Encouraging and building mutual trust, respect, and cooperation among team members.',\n",
    "          'Rank by Importance': 47}\n",
    "wac_24 = {'Work Activity': 'Resolving Conflicts and Negotiating with Others', \n",
    "          'Work Activity Description': 'Handling complaints, settling disputes, and resolving grievances and conflicts, or otherwise negotiating with others.',\n",
    "          'Rank by Importance': 46}\n",
    "wac_25 = {'Work Activity': 'Coordinating the Work and Activities of Others', \n",
    "          'Work Activity Description': 'Getting members of a group to work together to accomplish tasks.',\n",
    "          'Rank by Importance': 46}\n",
    "wac_26 = {'Work Activity': 'Monitoring and Controlling Resources', \n",
    "          'Work Activity Description': 'Monitoring and controlling resources and overseeing the spending of money.',\n",
    "          'Rank by Importance': 43}\n",
    "wac_27 = {'Work Activity': 'Inspecting Equipment, Structures, or Material', \n",
    "          'Work Activity Description': 'Inspecting equipment, structures, or materials to identify the cause of errors or other problems or defects.',\n",
    "          'Rank by Importance': 42}\n",
    "wac_28 = {'Work Activity': 'Guiding, Directing, and Motivating Subordinates', \n",
    "          'Work Activity Description': 'Providing guidance and direction to subordinates, including setting performance standards and monitoring performance.',\n",
    "          'Rank by Importance': 41}\n",
    "wac_29 = {'Work Activity': 'Preforming Administrative Activities', \n",
    "          'Work Activity Description': 'Performing day-to-day administrative tasks such as maintaining information files and processing paperwork.',\n",
    "          'Rank by Importance': 38}\n",
    "wac_30 = {'Work Activity': 'Controlling Machines and Processes', \n",
    "          'Work Activity Description': 'Using either control mechanisms or direct physical activity to operate machines or processes (not including computers or vehicles).',\n",
    "          'Rank by Importance': 36}\n",
    "wac_31 = {'Work Activity': 'Coaching and Developing Others', \n",
    "          'Work Activity Description': 'Identifying the developmental needs of others and coaching, mentoring, or otherwise helping others to improve their knowledge or skills.',\n",
    "          'Rank by Importance': 33}\n",
    "wac_32 = {'Work Activity': 'Repairing and Maintaining Electronic Equipment', \n",
    "          'Work Activity Description': 'Servicing, repairing, calibrating, regulating, fine-tuning, or testing machines, devices, and equipment that operate primarily on the basis of electrical or electronic (not mechanical) principles.',\n",
    "          'Rank by Importance': 31}\n",
    "wac_33 = {'Work Activity': 'Selling or Influencing Others', \n",
    "          'Work Activity Description': 'Convincing others to buy merchandise/goods or to otherwise change their minds or actions.',\n",
    "          'Rank by Importance': 31}\n",
    "wac_34 = {'Work Activity': 'Staffing Organizational Units', \n",
    "          'Work Activity Description': 'Recruiting, interviewing, selecting, hiring, and promoting employees in an organization.',\n",
    "          'Rank by Importance': 31}\n",
    "wac_35 = {'Work Activity': 'Assisting and Caring for Others', \n",
    "          'Work Activity Description': 'Providing personal assistance, medical attention, emotional support, or other personal care to others such as coworkers, customers, or patients.',\n",
    "          'Rank by Importance': 30}\n",
    "wac_36 = {'Work Activity': 'Drafting, Laying Out, and Specifying Technical Devices, Parts, and Equipment', \n",
    "          'Work Activity Description': 'Providing documentation, detailed instructions, drawings, or specifications to tell others about how devices, parts, equipment, or structures are to be fabricated, constructed, assembled, modified, maintained, or used.',\n",
    "          'Rank by Importance': 29}\n",
    "wac_37 = {'Work Activity': 'Performing for or Working Directly with the Public', \n",
    "          'Work Activity Description': 'Performing for people or dealing directly with the public. This includes serving customers in restaurants and stores, and receiving clients or guests.',\n",
    "          'Rank by Importance': 24}\n",
    "wac_38 = {'Work Activity': 'Performing General Physical Activities', \n",
    "          'Work Activity Description': 'Performing physical activities that require considerable use of your arms and legs and moving your whole body, such as climbing, lifting, balancing, walking, stooping, and handling of materials.',\n",
    "          'Rank by Importance': 20}\n",
    "wac_39 = {'Work Activity': 'Repairing and Maintaining Mechanical Equipment', \n",
    "          'Work Activity Description': 'Servicing, repairing, adjusting, and testing machines, devices, moving parts, and equipment that operate primarily on the basis of mechanical (not electronic) principles.',\n",
    "          'Rank by Importance': 19}"
   ]
  },
  {
   "cell_type": "code",
   "execution_count": 47,
   "metadata": {
    "hidden": true
   },
   "outputs": [],
   "source": [
    "list_of_wac_entries = [wac_02, wac_03, wac_04, wac_05, wac_06, wac_07, wac_08, wac_09, wac_10, wac_11, wac_12, wac_13, \n",
    "                       wac_14, wac_15, wac_16, wac_17, wac_18, wac_19, wac_20, wac_21, wac_22, wac_23, wac_24, wac_25, \n",
    "                       wac_26, wac_27, wac_28, wac_29, wac_30, wac_31, wac_32, wac_33, wac_34, wac_35, wac_36, wac_37, \n",
    "                       wac_38, wac_39]"
   ]
  },
  {
   "cell_type": "code",
   "execution_count": 48,
   "metadata": {
    "hidden": true
   },
   "outputs": [],
   "source": [
    "results_2 = waCollection.insert_many(list_of_wac_entries)"
   ]
  },
  {
   "cell_type": "code",
   "execution_count": 49,
   "metadata": {
    "hidden": true
   },
   "outputs": [
    {
     "data": {
      "text/plain": [
       "[ObjectId('5f751e34ec9782c79f7f8c11'),\n",
       " ObjectId('5f751e34ec9782c79f7f8c12'),\n",
       " ObjectId('5f751e34ec9782c79f7f8c13'),\n",
       " ObjectId('5f751e34ec9782c79f7f8c14'),\n",
       " ObjectId('5f751e34ec9782c79f7f8c15'),\n",
       " ObjectId('5f751e34ec9782c79f7f8c16'),\n",
       " ObjectId('5f751e34ec9782c79f7f8c17'),\n",
       " ObjectId('5f751e34ec9782c79f7f8c18'),\n",
       " ObjectId('5f751e34ec9782c79f7f8c19'),\n",
       " ObjectId('5f751e34ec9782c79f7f8c1a'),\n",
       " ObjectId('5f751e34ec9782c79f7f8c1b'),\n",
       " ObjectId('5f751e34ec9782c79f7f8c1c'),\n",
       " ObjectId('5f751e34ec9782c79f7f8c1d'),\n",
       " ObjectId('5f751e34ec9782c79f7f8c1e'),\n",
       " ObjectId('5f751e34ec9782c79f7f8c1f'),\n",
       " ObjectId('5f751e34ec9782c79f7f8c20'),\n",
       " ObjectId('5f751e34ec9782c79f7f8c21'),\n",
       " ObjectId('5f751e34ec9782c79f7f8c22'),\n",
       " ObjectId('5f751e34ec9782c79f7f8c23'),\n",
       " ObjectId('5f751e34ec9782c79f7f8c24'),\n",
       " ObjectId('5f751e34ec9782c79f7f8c25'),\n",
       " ObjectId('5f751e34ec9782c79f7f8c26'),\n",
       " ObjectId('5f751e34ec9782c79f7f8c27'),\n",
       " ObjectId('5f751e34ec9782c79f7f8c28'),\n",
       " ObjectId('5f751e34ec9782c79f7f8c29'),\n",
       " ObjectId('5f751e34ec9782c79f7f8c2a'),\n",
       " ObjectId('5f751e34ec9782c79f7f8c2b'),\n",
       " ObjectId('5f751e34ec9782c79f7f8c2c'),\n",
       " ObjectId('5f751e34ec9782c79f7f8c2d'),\n",
       " ObjectId('5f751e34ec9782c79f7f8c2e'),\n",
       " ObjectId('5f751e34ec9782c79f7f8c2f'),\n",
       " ObjectId('5f751e34ec9782c79f7f8c30'),\n",
       " ObjectId('5f751e34ec9782c79f7f8c31'),\n",
       " ObjectId('5f751e34ec9782c79f7f8c32'),\n",
       " ObjectId('5f751e34ec9782c79f7f8c33'),\n",
       " ObjectId('5f751e34ec9782c79f7f8c34'),\n",
       " ObjectId('5f751e34ec9782c79f7f8c35'),\n",
       " ObjectId('5f751e34ec9782c79f7f8c36')]"
      ]
     },
     "execution_count": 49,
     "metadata": {},
     "output_type": "execute_result"
    }
   ],
   "source": [
    "results_2.inserted_ids"
   ]
  },
  {
   "cell_type": "code",
   "execution_count": 50,
   "metadata": {
    "hidden": true
   },
   "outputs": [
    {
     "name": "stdout",
     "output_type": "stream",
     "text": [
      "{'_id': ObjectId('5f73a385ec9782c79f7f8bca'), 'Work Activity': 'Interacting With Computers', 'Work Activity Description': 'Using computers and computer systems (including hardware and software) to program, write software, set up functions, enter data, or process information.', 'Rank by Importance': 99}\n",
      "{'_id': ObjectId('5f751e34ec9782c79f7f8c11'), 'Work Activity': 'Making Decisions and Solving Problems', 'Work Activity Description': 'Analyzing information and evaluating results to choose the best solution and solve problems.', 'Rank by Importance': 91}\n",
      "{'_id': ObjectId('5f751e34ec9782c79f7f8c12'), 'Work Activity': 'Getting Information', 'Work Activity Description': 'Observing, receiving, and otherwise obtaining information from all relevant sources.', 'Rank by Importance': 91}\n",
      "{'_id': ObjectId('5f751e34ec9782c79f7f8c13'), 'Work Activity': 'Updating and Using Relevant Knowledge', 'Work Activity Description': 'Keeping up-to-date technically and applying new knowledge to your job.', 'Rank by Importance': 89}\n",
      "{'_id': ObjectId('5f751e34ec9782c79f7f8c14'), 'Work Activity': 'Analyzing Data or Information', 'Work Activity Description': 'Identifying the underlying principles, reasons, or facts of information by breaking down information or data into separate parts.', 'Rank by Importance': 89}\n",
      "{'_id': ObjectId('5f751e34ec9782c79f7f8c15'), 'Work Activity': 'Thinking Creatively', 'Work Activity Description': 'Developing, designing, or creating new applications, ideas, relationships, systems, or products, including artistic contributions.', 'Rank by Importance': 88}\n",
      "{'_id': ObjectId('5f751e34ec9782c79f7f8c16'), 'Work Activity': 'Documenting/Recording Information', 'Work Activity Description': 'Entering, transcribing, recording, storing, or maintaining information in written or electronic/magnetic form.', 'Rank by Importance': 84}\n",
      "{'_id': ObjectId('5f751e34ec9782c79f7f8c17'), 'Work Activity': 'Processing Information', 'Work Activity Description': 'Compiling, coding, categorizing, calculating, tabulating, auditing, or verifying information or data.', 'Rank by Importance': 83}\n",
      "{'_id': ObjectId('5f751e34ec9782c79f7f8c18'), 'Work Activity': 'Identifying Objects, Actions, and Events', 'Work Activity Description': 'Identifying information by categorizing, estimating, recognizing differences or similarities, and detecting changes in circumstances or events.', 'Rank by Importance': 83}\n",
      "{'_id': ObjectId('5f751e34ec9782c79f7f8c19'), 'Work Activity': 'Communicating with Supervisors, Peers, or Subordinates', 'Work Activity Description': 'Providing information to supervisors, co-workers, and subordinates by telephone, in written form, e-mail, or in person.', 'Rank by Importance': 83}\n",
      "{'_id': ObjectId('5f751e34ec9782c79f7f8c1a'), 'Work Activity': 'Interpreting the Meaning of Information for Others', 'Work Activity Description': 'Translating or explaining what information means and how it can be used.', 'Rank by Importance': 82}\n",
      "{'_id': ObjectId('5f751e34ec9782c79f7f8c1b'), 'Work Activity': 'Communicating with Persons Outside Organization', 'Work Activity Description': 'Communicating with people outside the organization, representing the organization to customers, the public, government, and other external sources. This information can be exchanged in person, in writing, or by telephone or e-mail.', 'Rank by Importance': 81}\n",
      "{'_id': ObjectId('5f751e34ec9782c79f7f8c1c'), 'Work Activity': 'Estimating the Quantifiable Characteristics of Products, Events, or Information', 'Work Activity Description': 'Estimating sizes, distances, and quantities; or determining time, costs, resources, or materials needed to perform a work activity.', 'Rank by Importance': 80}\n",
      "{'_id': ObjectId('5f751e34ec9782c79f7f8c1d'), 'Work Activity': 'Establishing and Maintaining Interpersonal Relationships', 'Work Activity Description': 'Developing constructive and cooperative working relationships with others, and maintaining them over time.', 'Rank by Importance': 69}\n",
      "{'_id': ObjectId('5f751e34ec9782c79f7f8c1e'), 'Work Activity': 'Developing Objectives and Strategies', 'Work Activity Description': 'Establishing long-range objectives and specifying the strategies and actions to achieve them.', 'Rank by Importance': 68}\n",
      "{'_id': ObjectId('5f751e34ec9782c79f7f8c1f'), 'Work Activity': 'Organizing, Planning, and Prioritizing Work', 'Work Activity Description': 'Developing specific goals and plans to prioritize, organize, and accomplish your work.', 'Rank by Importance': 67}\n",
      "{'_id': ObjectId('5f751e34ec9782c79f7f8c20'), 'Work Activity': 'Judging the Qualities of Things, Services, or People', 'Work Activity Description': 'Assessing the value, importance, or quality of things or people.', 'Rank by Importance': 64}\n",
      "{'_id': ObjectId('5f751e34ec9782c79f7f8c21'), 'Work Activity': 'Evaluating Information to Determine Compliance with Standards', 'Work Activity Description': 'Using relevant information and individual judgment to determine whether events or processes comply with laws, regulations, or standards.', 'Rank by Importance': 64}\n",
      "{'_id': ObjectId('5f751e34ec9782c79f7f8c22'), 'Work Activity': 'Scheduling Work and Activities', 'Work Activity Description': 'Scheduling events, programs, and activities, as well as the work of others.', 'Rank by Importance': 60}\n",
      "{'_id': ObjectId('5f751e34ec9782c79f7f8c23'), 'Work Activity': 'Provide Consultation and Advice to Others', 'Work Activity Description': 'Providing guidance and expert advice to management or other groups on technical, systems-, or process-related topics.', 'Rank by Importance': 57}\n",
      "{'_id': ObjectId('5f751e34ec9782c79f7f8c24'), 'Work Activity': 'Training and Teaching Others', 'Work Activity Description': 'Identifying the educational needs of others, developing formal educational or training programs or classes, and teaching or instructing others.', 'Rank by Importance': 55}\n",
      "{'_id': ObjectId('5f751e34ec9782c79f7f8c25'), 'Work Activity': 'Monitor Processes, Materials, or Surroundings', 'Work Activity Description': 'Monitoring and reviewing information from materials, events, or the environment, to detect or assess problems.', 'Rank by Importance': 51}\n",
      "{'_id': ObjectId('5f751e34ec9782c79f7f8c26'), 'Work Activity': 'Developing and Building Teams', 'Work Activity Description': 'Encouraging and building mutual trust, respect, and cooperation among team members.', 'Rank by Importance': 47}\n",
      "{'_id': ObjectId('5f751e34ec9782c79f7f8c27'), 'Work Activity': 'Resolving Conflicts and Negotiating with Others', 'Work Activity Description': 'Handling complaints, settling disputes, and resolving grievances and conflicts, or otherwise negotiating with others.', 'Rank by Importance': 46}\n",
      "{'_id': ObjectId('5f751e34ec9782c79f7f8c28'), 'Work Activity': 'Coordinating the Work and Activities of Others', 'Work Activity Description': 'Getting members of a group to work together to accomplish tasks.', 'Rank by Importance': 46}\n",
      "{'_id': ObjectId('5f751e34ec9782c79f7f8c29'), 'Work Activity': 'Monitoring and Controlling Resources', 'Work Activity Description': 'Monitoring and controlling resources and overseeing the spending of money.', 'Rank by Importance': 43}\n",
      "{'_id': ObjectId('5f751e34ec9782c79f7f8c2a'), 'Work Activity': 'Inspecting Equipment, Structures, or Material', 'Work Activity Description': 'Inspecting equipment, structures, or materials to identify the cause of errors or other problems or defects.', 'Rank by Importance': 42}\n",
      "{'_id': ObjectId('5f751e34ec9782c79f7f8c2b'), 'Work Activity': 'Guiding, Directing, and Motivating Subordinates', 'Work Activity Description': 'Providing guidance and direction to subordinates, including setting performance standards and monitoring performance.', 'Rank by Importance': 41}\n",
      "{'_id': ObjectId('5f751e34ec9782c79f7f8c2c'), 'Work Activity': 'Preforming Administrative Activities', 'Work Activity Description': 'Performing day-to-day administrative tasks such as maintaining information files and processing paperwork.', 'Rank by Importance': 38}\n",
      "{'_id': ObjectId('5f751e34ec9782c79f7f8c2d'), 'Work Activity': 'Controlling Machines and Processes', 'Work Activity Description': 'Using either control mechanisms or direct physical activity to operate machines or processes (not including computers or vehicles).', 'Rank by Importance': 36}\n",
      "{'_id': ObjectId('5f751e34ec9782c79f7f8c2e'), 'Work Activity': 'Coaching and Developing Others', 'Work Activity Description': 'Identifying the developmental needs of others and coaching, mentoring, or otherwise helping others to improve their knowledge or skills.', 'Rank by Importance': 33}\n",
      "{'_id': ObjectId('5f751e34ec9782c79f7f8c2f'), 'Work Activity': 'Repairing and Maintaining Electronic Equipment', 'Work Activity Description': 'Servicing, repairing, calibrating, regulating, fine-tuning, or testing machines, devices, and equipment that operate primarily on the basis of electrical or electronic (not mechanical) principles.', 'Rank by Importance': 31}\n",
      "{'_id': ObjectId('5f751e34ec9782c79f7f8c30'), 'Work Activity': 'Selling or Influencing Others', 'Work Activity Description': 'Convincing others to buy merchandise/goods or to otherwise change their minds or actions.', 'Rank by Importance': 31}\n",
      "{'_id': ObjectId('5f751e34ec9782c79f7f8c31'), 'Work Activity': 'Staffing Organizational Units', 'Work Activity Description': 'Recruiting, interviewing, selecting, hiring, and promoting employees in an organization.', 'Rank by Importance': 31}\n",
      "{'_id': ObjectId('5f751e34ec9782c79f7f8c32'), 'Work Activity': 'Assisting and Caring for Others', 'Work Activity Description': 'Providing personal assistance, medical attention, emotional support, or other personal care to others such as coworkers, customers, or patients.', 'Rank by Importance': 30}\n",
      "{'_id': ObjectId('5f751e34ec9782c79f7f8c33'), 'Work Activity': 'Drafting, Laying Out, and Specifying Technical Devices, Parts, and Equipment', 'Work Activity Description': 'Providing documentation, detailed instructions, drawings, or specifications to tell others about how devices, parts, equipment, or structures are to be fabricated, constructed, assembled, modified, maintained, or used.', 'Rank by Importance': 29}\n",
      "{'_id': ObjectId('5f751e34ec9782c79f7f8c34'), 'Work Activity': 'Performing for or Working Directly with the Public', 'Work Activity Description': 'Performing for people or dealing directly with the public. This includes serving customers in restaurants and stores, and receiving clients or guests.', 'Rank by Importance': 24}\n",
      "{'_id': ObjectId('5f751e34ec9782c79f7f8c35'), 'Work Activity': 'Performing General Physical Activities', 'Work Activity Description': 'Performing physical activities that require considerable use of your arms and legs and moving your whole body, such as climbing, lifting, balancing, walking, stooping, and handling of materials.', 'Rank by Importance': 20}\n",
      "{'_id': ObjectId('5f751e34ec9782c79f7f8c36'), 'Work Activity': 'Repairing and Maintaining Mechanical Equipment', 'Work Activity Description': 'Servicing, repairing, adjusting, and testing machines, devices, moving parts, and equipment that operate primarily on the basis of mechanical (not electronic) principles.', 'Rank by Importance': 19}\n"
     ]
    }
   ],
   "source": [
    "query_one = waCollection.find({})\n",
    "for x in query_one:\n",
    "    print(x)"
   ]
  },
  {
   "cell_type": "markdown",
   "metadata": {
    "heading_collapsed": true
   },
   "source": [
    "### Typical Work Styles"
   ]
  },
  {
   "cell_type": "code",
   "execution_count": 22,
   "metadata": {
    "hidden": true
   },
   "outputs": [],
   "source": [
    "wsCollection = mydb['Work_Styles']"
   ]
  },
  {
   "cell_type": "code",
   "execution_count": 29,
   "metadata": {
    "hidden": true
   },
   "outputs": [],
   "source": [
    "wsc_01 = {'Work Style': 'Analytical Thinking', \n",
    "          'Work Style Description': 'Job requires analyzing information and using logic to address work related issues and problems.',\n",
    "          'Rank by Importance': 90}\n",
    "wsc_02 = {'Work Style': 'Cooperation', \n",
    "          'Work Style Description': 'Job requires being pleasant with others on the job and displaying a good-natured, cooperative attitude.',\n",
    "          'Rank by Importance': 79}\n",
    "wsc_03 = {'Work Style': 'Attention to Detail', \n",
    "          'Work Style Description': 'Job requires being careful about detail and thorough in completing work tasks.',\n",
    "          'Rank by Importance': 76}\n",
    "wsc_04 = {'Work Style': 'Independence', \n",
    "          'Work Style Description': \"Job requires developing one's own ways of doing things, guiding oneself with little or no supervision, and depending on oneself to get things done.\",\n",
    "          'Rank by Importance': 75}\n",
    "wsc_05 = {'Work Style': 'Achievement/Effort', \n",
    "          'Work Style Description': 'Job requires establishing and maintaining personally challenging achievement goals and exerting effort toward mastering tasks.',\n",
    "          'Rank by Importance': 74}\n",
    "wsc_06 = {'Work Style': 'Initiative', \n",
    "          'Work Style Description': 'Job requires a willingness to take on responsibilities and challenges.',\n",
    "          'Rank by Importance': 74}\n",
    "wsc_07 = {'Work Style': 'Innovation', \n",
    "          'Work Style Description': 'Job requires creativity and alternative thinking to develop new ideas for and answers to work-related problems.',\n",
    "          'Rank by Importance': 73}\n",
    "wsc_08 = {'Work Style': 'Integrity', \n",
    "          'Work Style Description': 'Job requires being honest and ethical.',\n",
    "          'Rank by Importance': 73}\n",
    "wsc_09 = {'Work Style': 'Adaptability/Flexibility', \n",
    "          'Work Style Description': 'Job requires being open to change (positive or negative) and to considerable variety in the workplace.',\n",
    "          'Rank by Importance': 72}\n",
    "wsc_10 = {'Work Style': 'Dependability',\n",
    "          'Work Style Description': 'Job requires being reliable, responsible, and dependable, and fulfilling obligations.',\n",
    "          'Rank by Importance': 68}\n",
    "wsc_11 = {'Work Style': 'Persistence', \n",
    "          'Work Style Description': 'Job requires persistence in the face of obstacles.',\n",
    "          'Rank by Importance': 68}\n",
    "wsc_12 = {'Work Style': 'Stress Tolerance', \n",
    "          'Work Style Description': 'Job requires accepting criticism and dealing calmly and effectively with high stress situations.',\n",
    "          'Rank by Importance': 66}\n",
    "wsc_13 = {'Work Style': 'Leadership', \n",
    "          'Work Style Description': 'Job requires a willingness to lead, take charge, and offer opinions and direction.',\n",
    "          'Rank by Importance': 65}\n",
    "wsc_14 = {'Work Style': 'Concern for Others', \n",
    "          'Work Style Description': \"Job requires being sensitive to others' needs and feelings and being understanding and helpful on the job.\",\n",
    "          'Rank by Importance': 56}\n",
    "wsc_15 = {'Work Style': 'Social Orientation', \n",
    "          'Work Style Description': 'Job requires preferring to work with others rather than alone, and being personally connected with others on the job.',\n",
    "          'Rank by Importance': 52}\n",
    "wsc_16 = {'Work Style': 'Self Control', \n",
    "          'Work Style Description': 'Job requires maintaining composure, keeping emotions in check, controlling anger, and avoiding aggressive behavior, even in very difficult situations.',\n",
    "          'Rank by Importance': 50}"
   ]
  },
  {
   "cell_type": "code",
   "execution_count": 30,
   "metadata": {
    "hidden": true
   },
   "outputs": [],
   "source": [
    "list_of_wsc_entries = [wsc_01, wsc_02, wsc_03, wsc_04, wsc_05, wsc_06, wsc_07, wsc_08, wsc_09, wsc_10, wsc_11, wsc_12, \n",
    "                       wsc_13, wsc_14, wsc_15, wsc_16]"
   ]
  },
  {
   "cell_type": "code",
   "execution_count": 36,
   "metadata": {
    "hidden": true
   },
   "outputs": [],
   "source": [
    "results_3 = wsCollection.insert_many(list_of_wsc_entries)"
   ]
  },
  {
   "cell_type": "code",
   "execution_count": 37,
   "metadata": {
    "hidden": true
   },
   "outputs": [
    {
     "data": {
      "text/plain": [
       "[ObjectId('5f751cb6ec9782c79f7f8c01'),\n",
       " ObjectId('5f751cb6ec9782c79f7f8c02'),\n",
       " ObjectId('5f751cb6ec9782c79f7f8c03'),\n",
       " ObjectId('5f751cb6ec9782c79f7f8c04'),\n",
       " ObjectId('5f751cb6ec9782c79f7f8c05'),\n",
       " ObjectId('5f751cb6ec9782c79f7f8c06'),\n",
       " ObjectId('5f751cb6ec9782c79f7f8c07'),\n",
       " ObjectId('5f751cb6ec9782c79f7f8c08'),\n",
       " ObjectId('5f751cb6ec9782c79f7f8c09'),\n",
       " ObjectId('5f751cb6ec9782c79f7f8c0a'),\n",
       " ObjectId('5f751cb6ec9782c79f7f8c0b'),\n",
       " ObjectId('5f751cb6ec9782c79f7f8c0c'),\n",
       " ObjectId('5f751cb6ec9782c79f7f8c0d'),\n",
       " ObjectId('5f751cb6ec9782c79f7f8c0e'),\n",
       " ObjectId('5f751cb6ec9782c79f7f8c0f'),\n",
       " ObjectId('5f751cb6ec9782c79f7f8c10')]"
      ]
     },
     "execution_count": 37,
     "metadata": {},
     "output_type": "execute_result"
    }
   ],
   "source": [
    "results_3.inserted_ids"
   ]
  },
  {
   "cell_type": "code",
   "execution_count": 38,
   "metadata": {
    "hidden": true
   },
   "outputs": [
    {
     "name": "stdout",
     "output_type": "stream",
     "text": [
      "{'_id': ObjectId('5f751cb6ec9782c79f7f8c01'), 'Work Style': 'Analytical Thinking', 'Work Style Description': 'Job requires analyzing information and using logic to address work related issues and problems.', 'Rank by Importance': 90}\n",
      "{'_id': ObjectId('5f751cb6ec9782c79f7f8c02'), 'Work Style': 'Cooperation', 'Work Style Description': 'Job requires being pleasant with others on the job and displaying a good-natured, cooperative attitude.', 'Rank by Importance': 79}\n",
      "{'_id': ObjectId('5f751cb6ec9782c79f7f8c03'), 'Work Style': 'Attention to Detail', 'Work Style Description': 'Job requires being careful about detail and thorough in completing work tasks.', 'Rank by Importance': 76}\n",
      "{'_id': ObjectId('5f751cb6ec9782c79f7f8c04'), 'Work Style': 'Independence', 'Work Style Description': \"Job requires developing one's own ways of doing things, guiding oneself with little or no supervision, and depending on oneself to get things done.\", 'Rank by Importance': 75}\n",
      "{'_id': ObjectId('5f751cb6ec9782c79f7f8c05'), 'Work Style': 'Achievement/Effort', 'Work Style Description': 'Job requires establishing and maintaining personally challenging achievement goals and exerting effort toward mastering tasks.', 'Rank by Importance': 74}\n",
      "{'_id': ObjectId('5f751cb6ec9782c79f7f8c06'), 'Work Style': 'Initiative', 'Work Style Description': 'Job requires a willingness to take on responsibilities and challenges.', 'Rank by Importance': 74}\n",
      "{'_id': ObjectId('5f751cb6ec9782c79f7f8c07'), 'Work Style': 'Innovation', 'Work Style Description': 'Job requires creativity and alternative thinking to develop new ideas for and answers to work-related problems.', 'Rank by Importance': 73}\n",
      "{'_id': ObjectId('5f751cb6ec9782c79f7f8c08'), 'Work Style': 'Integrity', 'Work Style Description': 'Job requires being honest and ethical.', 'Rank by Importance': 73}\n",
      "{'_id': ObjectId('5f751cb6ec9782c79f7f8c09'), 'Work Style': 'Adaptability/Flexibility', 'Work Style Description': 'Job requires being open to change (positive or negative) and to considerable variety in the workplace.', 'Rank by Importance': 72}\n",
      "{'_id': ObjectId('5f751cb6ec9782c79f7f8c0a'), 'Work Style': 'Dependability', 'Work Style Description': 'Job requires being reliable, responsible, and dependable, and fulfilling obligations.', 'Rank by Importance': 68}\n",
      "{'_id': ObjectId('5f751cb6ec9782c79f7f8c0b'), 'Work Style': 'Persistence', 'Work Style Description': 'Job requires persistence in the face of obstacles.', 'Rank by Importance': 68}\n",
      "{'_id': ObjectId('5f751cb6ec9782c79f7f8c0c'), 'Work Style': 'Stress Tolerance', 'Work Style Description': 'Job requires accepting criticism and dealing calmly and effectively with high stress situations.', 'Rank by Importance': 66}\n",
      "{'_id': ObjectId('5f751cb6ec9782c79f7f8c0d'), 'Work Style': 'Leadership', 'Work Style Description': 'Job requires a willingness to lead, take charge, and offer opinions and direction.', 'Rank by Importance': 65}\n",
      "{'_id': ObjectId('5f751cb6ec9782c79f7f8c0e'), 'Work Style': 'Concern for Others', 'Work Style Description': \"Job requires being sensitive to others' needs and feelings and being understanding and helpful on the job.\", 'Rank by Importance': 56}\n",
      "{'_id': ObjectId('5f751cb6ec9782c79f7f8c0f'), 'Work Style': 'Social Orientation', 'Work Style Description': 'Job requires preferring to work with others rather than alone, and being personally connected with others on the job.', 'Rank by Importance': 52}\n",
      "{'_id': ObjectId('5f751cb6ec9782c79f7f8c10'), 'Work Style': 'Self Control', 'Work Style Description': 'Job requires maintaining composure, keeping emotions in check, controlling anger, and avoiding aggressive behavior, even in very difficult situations.', 'Rank by Importance': 50}\n"
     ]
    }
   ],
   "source": [
    "query_two = wsCollection.find({})\n",
    "for x in query_two:\n",
    "    print(x)"
   ]
  },
  {
   "cell_type": "markdown",
   "metadata": {},
   "source": [
    "### Typical Work Abilities"
   ]
  },
  {
   "cell_type": "code",
   "execution_count": null,
   "metadata": {},
   "outputs": [],
   "source": [
    "wabCollection = mydb['Work_Abilities']"
   ]
  },
  {
   "cell_type": "code",
   "execution_count": null,
   "metadata": {},
   "outputs": [],
   "source": [
    "wabc_01 = {'Work Ability': 'Deductive Reasoning', \n",
    "           'Work Ability Description': 'The ability to apply general rules to specific problems to produce answers that make sense.',\n",
    "           'Rank by Importance': 78}\n",
    "wabc_02 = {'Work Ability': 'Inductive Reasoning', \n",
    "           'Work Ability Description': 'The ability to combine pieces of information to form general rules or conclusions (includes finding a relationship among seemingly unrelated events).',\n",
    "           'Rank by Importance': 78}\n",
    "wabc_03 = {'Work Ability': 'Oral Comprehension', \n",
    "           'Work Ability Description': 'The ability to listen to and understand information and ideas presented through spoken words and sentences.',\n",
    "           'Rank by Importance': 75}\n",
    "wabc_04 = {'Work Ability': 'Oral Expression', \n",
    "           'Work Ability Description': 'The ability to communicate information and ideas in speaking so others will understand.',\n",
    "           'Rank by Importance': 75}\n",
    "wabc_05 = {'Work Ability': 'Fluency of Ideas', \n",
    "           'Work Ability Description': 'The ability to come up with a number of ideas about a topic (the number of ideas is important, not their quality, correctness, or creativity).',\n",
    "           'Rank by Importance': 72}\n",
    "wabc_06 = {'Work Ability': 'Problem Sensitivity', \n",
    "           'Work Ability Description': 'The ability to tell when something is wrong or is likely to go wrong. It does not involve solving the problem, only recognizing there is a problem.',\n",
    "           'Rank by Importance': 72}\n",
    "wabc_07 = {'Work Ability': 'Written Comprehension', \n",
    "           'Work Ability Description': 'The ability to read and understand information and ideas presented in writing.',\n",
    "           'Rank by Importance': 72}\n",
    "wabc_08 = {'Work Ability': 'Category Flexibility', \n",
    "           'Work Ability Description': 'The ability to generate or use different sets of rules for combining or grouping things in different ways.',\n",
    "           'Rank by Importance': 69}\n",
    "wabc_09 = {'Work Ability': 'Information Ordering', \n",
    "           'Work Ability Description': 'The ability to arrange things or actions in a certain order or pattern according to a specific rule or set of rules (e.g., patterns of numbers, letters, words, pictures, mathematical operations).',\n",
    "           'Rank by Importance': 69}\n",
    "wabc_10 = {'Work Ability': 'Near Vision', \n",
    "           'Work Ability Description': 'The ability to see details at close range (within a few feet of the observer).',\n",
    "           'Rank by Importance': 69}\n",
    "wabc_11 = {'Work Ability': 'Written Expression', \n",
    "           'Work Ability Description': 'The ability to communicate information and ideas in writing so others will understand.',\n",
    "           'Rank by Importance': 69}\n",
    "wabc_12 = {'Work Ability': 'Originality', \n",
    "           'Work Ability Description': 'The ability to come up with unusual or clever ideas about a given topic or situation, or to develop creative ways to solve a problem.',\n",
    "           'Rank by Importance': 66}\n",
    "wabc_13 = {'Work Ability': 'Mathematical Reasoning', \n",
    "           'Work Ability Description': 'The ability to choose the right mathematical methods or formulas to solve a problem.',\n",
    "           'Rank by Importance': 60}\n",
    "wabc_14 = {'Work Ability': 'Number Facility', \n",
    "           'Work Ability Description': 'The ability to add, subtract, multiply, or divide quickly and correctly.',\n",
    "           'Rank by Importance': 56}\n",
    "wabc_15 = {'Work Ability': 'Speech Clarity', \n",
    "           'Work Ability Description': 'The ability to speak clearly so others can understand you.',\n",
    "           'Rank by Importance': 56}\n",
    "wabc_16 = {'Work Ability': 'Speech Recognition', \n",
    "           'Work Ability Description': 'The ability to identify and understand the speech of another person.',\n",
    "           'Rank by Importance': 56}\n",
    "wabc_17 = {'Work Ability': 'Visualization', \n",
    "           'Work Ability Description': 'The ability to imagine how something will look after it is moved around or when its parts are moved or rearranged.',\n",
    "           'Rank by Importance': 56}\n",
    "wabc_18 = {'Work Ability': 'Flexibility of Closure', \n",
    "           'Work Ability Description': 'The ability to identify or detect a known pattern (a figure, object, word, or sound) that is hidden in other distracting material.',\n",
    "           'Rank by Importance': 50}\n",
    "wabc_19 = {'Work Ability': 'Perceptual Speed', \n",
    "           'Work Ability Description': 'The ability to quickly and accurately compare similarities and differences among sets of letters, numbers, objects, pictures, or patterns. The things to be compared may be presented at the same time or one after the other. This ability also includes comparing a presented object with a remembered object.',\n",
    "           'Rank by Importance': 50}\n",
    "wabc_20 = {'Work Ability': 'Memorization', \n",
    "           'Work Ability Description': 'The ability to remember information such as words, numbers, pictures, and procedures.',\n",
    "           'Rank by Importance': 47}\n",
    "wabc_21 = {'Work Ability': 'Selective Attention', \n",
    "           'Work Ability Description': 'The ability to concentrate on a task over a period of time without being distracted.',\n",
    "           'Rank by Importance': 47}\n",
    "wabc_22 = {'Work Ability': 'Speed of Closure', \n",
    "           'Work Ability Description': 'The ability to quickly make sense of, combine, and organize information into meaningful patterns.',\n",
    "           'Rank by Importance': 47}\n",
    "wabc_23 = {'Work Ability': 'Far Vision', \n",
    "           'Work Ability Description': 'The ability to see details at a distance.',\n",
    "           'Rank by Importance': 41}\n",
    "wabc_24 = {'Work Ability': 'Finger Dexterity', \n",
    "           'Work Ability Description': 'The ability to make precisely coordinated movements of the fingers of one or both hands to grasp, manipulate, or assemble very small objects.',\n",
    "           'Rank by Importance': 41}\n",
    "wabc_25 = {'Work Ability': 'Time Sharing', \n",
    "           'Work Ability Description': 'The ability to shift back and forth between two or more activities or sources of information (such as speech, sounds, touch, or other sources).',\n",
    "           'Rank by Importance': 38}\n",
    "wabc_26 = {'Work Ability': 'Hearing Sensitivity', \n",
    "           'Work Ability Description': 'The ability to detect or tell the differences between sounds that vary in pitch and loudness.',\n",
    "           'Rank by Importance': 28}\n",
    "wabc_27 = {'Work Ability': 'Arm-Hand Steadiness', \n",
    "           'Work Ability Description': 'The ability to keep your hand and arm steady while moving your arm or while holding your arm and hand in one position.',\n",
    "           'Rank by Importance': 25}\n",
    "wabc_28 = {'Work Ability': 'Auditory Attention', \n",
    "           'Work Ability Description': 'The ability to focus on a single source of sound in the presence of other distracting sounds.',\n",
    "           'Rank by Importance': 25}\n",
    "wabc_29 = {'Work Ability': 'Control Precision', \n",
    "           'Work Ability Description': 'The ability to quickly and repeatedly adjust the controls of a machine or a vehicle to exact positions.',\n",
    "           'Rank by Importance': 25}\n",
    "wabc_30 = {'Work Ability': 'Manual Dexterity', \n",
    "           'Work Ability Description': 'The ability to quickly move your hand, your hand together with your arm, or your two hands to grasp, manipulate, or assemble objects.',\n",
    "           'Rank by Importance': 25}\n",
    "wabc_31 = {'Work Ability': 'Visual Color Discrimination', \n",
    "           'Work Ability Description': 'The ability to match or detect differences between colors, including shades of color and brightness.',\n",
    "           'Rank by Importance': 25}\n",
    "wabc_32 = {'Work Ability': 'Trunk Strength', \n",
    "           'Work Ability Description': 'The ability to use your abdominal and lower back muscles to support part of the body repeatedly or continuously over time without 'giving out' or fatiguing.',\n",
    "           'Rank by Importance': 22}\n",
    "wabc_33 = {'Work Ability': 'Wrist-Finger Speed', \n",
    "           'Work Ability Description': 'The ability to make fast, simple, repeated movements of the fingers, hands, and wrists.',\n",
    "           'Rank by Importance': 22}\n",
    "wabc_34 = {'Work Ability': 'Depth Perception', \n",
    "           'Work Ability Description': 'The ability to judge which of several objects is closer or farther away from you, or to judge the distance between you and an object.',\n",
    "           'Rank by Importance': 19}\n",
    "wabc_35 = {'Work Ability': 'Response Orientation', \n",
    "           'Work Ability Description': 'The ability to choose quickly between two or more movements in response to two or more different signals (lights, sounds, pictures). It includes the speed with which the correct response is started with the hand, foot, or other body part.',\n",
    "           'Rank by Importance': 3}"
   ]
  },
  {
   "cell_type": "code",
   "execution_count": null,
   "metadata": {},
   "outputs": [],
   "source": [
    "list_of_wabc_entries = [wabc_01, wabc_02, wabc_03, wabc_04, wabc_05, wabc_06, wabc_07, wabc_08, wabc_09, wabc_10, \n",
    "                        wabc_11, wabc_12, wabc_13, wabc_14, wabc_15, wabc_16, wabc_17, wabc_18, wabc_19, wabc_20, \n",
    "                        wabc_21, wabc_22, wabc_23, wabc_24, wabc_25, wabc_26, wabc_27, wabc_28, wabc_29, wabc_30, \n",
    "                        wabc_31, wabc_32, wabc_33, wabc_34, wabc_35]"
   ]
  },
  {
   "cell_type": "code",
   "execution_count": null,
   "metadata": {},
   "outputs": [],
   "source": [
    "results_4 = wabCollection.insert_many(list_of_wabc_entries)"
   ]
  },
  {
   "cell_type": "code",
   "execution_count": null,
   "metadata": {},
   "outputs": [],
   "source": [
    "results_4.inserted_ids"
   ]
  },
  {
   "cell_type": "code",
   "execution_count": null,
   "metadata": {},
   "outputs": [],
   "source": [
    "query_three = wabCollection.find({})\n",
    "for x in query_three:\n",
    "    print(x)"
   ]
  }
 ],
 "metadata": {
  "kernelspec": {
   "display_name": "Python 3",
   "language": "python",
   "name": "python3"
  },
  "language_info": {
   "codemirror_mode": {
    "name": "ipython",
    "version": 3
   },
   "file_extension": ".py",
   "mimetype": "text/x-python",
   "name": "python",
   "nbconvert_exporter": "python",
   "pygments_lexer": "ipython3",
   "version": "3.6.6"
  },
  "toc": {
   "base_numbering": 1,
   "nav_menu": {},
   "number_sections": true,
   "sideBar": true,
   "skip_h1_title": false,
   "title_cell": "Table of Contents",
   "title_sidebar": "Contents",
   "toc_cell": false,
   "toc_position": {},
   "toc_section_display": true,
   "toc_window_display": false
  }
 },
 "nbformat": 4,
 "nbformat_minor": 2
}
